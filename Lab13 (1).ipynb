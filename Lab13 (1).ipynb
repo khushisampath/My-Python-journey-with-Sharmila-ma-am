{
 "cells": [
  {
   "cell_type": "markdown",
   "id": "26a58d41-cbc7-4a4d-ac5d-ac2518ff91fb",
   "metadata": {},
   "source": [
    "# LAB 13"
   ]
  },
  {
   "cell_type": "markdown",
   "id": "aa109007-410e-4b38-bdd3-a487ba41ecf8",
   "metadata": {},
   "source": [
    "# Handling Excel"
   ]
  },
  {
   "cell_type": "code",
   "execution_count": 2,
   "id": "0f2ba737-f68f-4931-a81d-19b456ef32d3",
   "metadata": {},
   "outputs": [
    {
     "name": "stdout",
     "output_type": "stream",
     "text": [
      "Collecting openpyxl\n",
      "  Downloading openpyxl-3.1.5-py2.py3-none-any.whl.metadata (2.5 kB)\n",
      "Collecting et-xmlfile (from openpyxl)\n",
      "  Downloading et_xmlfile-2.0.0-py3-none-any.whl.metadata (2.7 kB)\n",
      "Downloading openpyxl-3.1.5-py2.py3-none-any.whl (250 kB)\n",
      "Downloading et_xmlfile-2.0.0-py3-none-any.whl (18 kB)\n",
      "Installing collected packages: et-xmlfile, openpyxl\n",
      "Successfully installed et-xmlfile-2.0.0 openpyxl-3.1.5\n",
      "Note: you may need to restart the kernel to use updated packages.\n"
     ]
    },
    {
     "name": "stderr",
     "output_type": "stream",
     "text": [
      "\n",
      "[notice] A new release of pip is available: 24.2 -> 25.2\n",
      "[notice] To update, run: python.exe -m pip install --upgrade pip\n"
     ]
    }
   ],
   "source": [
    "pip install openpyxl"
   ]
  },
  {
   "cell_type": "code",
   "execution_count": 3,
   "id": "8d8109be-a7dd-48d0-8f21-3a148ded38c5",
   "metadata": {},
   "outputs": [],
   "source": [
    "#Creating Excel file\n",
    "import pandas as pd\n",
    "\n",
    "# sample data\n",
    "data = {\n",
    "    \"Name\": [\"Alice\", \"Bob\", \"Charlie\"],\n",
    "    \"Age\": [25, 30, 22],\n",
    "    \"City\": [\"Delhi\", \"Mumbai\", \"Kolkata\"]\n",
    "}\n",
    "\n",
    "df = pd.DataFrame(data)\n",
    "\n",
    "# create Excel file in current folder\n",
    "df.to_excel(\"mydata.xlsx\", index=False)\n"
   ]
  },
  {
   "cell_type": "code",
   "execution_count": 4,
   "id": "3f5276a8-3e4f-4417-8d16-94ff52a3c426",
   "metadata": {},
   "outputs": [
    {
     "name": "stdout",
     "output_type": "stream",
     "text": [
      "C:\\Users\\Lenovo\n"
     ]
    }
   ],
   "source": [
    "import os\n",
    "print(os.getcwd())\n"
   ]
  },
  {
   "cell_type": "markdown",
   "id": "d641ab9e-5775-4cf0-b647-d6a3cfa72ccd",
   "metadata": {},
   "source": [
    "# Read Excel file"
   ]
  },
  {
   "cell_type": "code",
   "execution_count": 6,
   "id": "2101d166-24df-416e-be20-ac0892a9f72f",
   "metadata": {},
   "outputs": [
    {
     "name": "stdout",
     "output_type": "stream",
     "text": [
      "      Name  Age     City\n",
      "0    Alice   25    Delhi\n",
      "1      Bob   30   Mumbai\n",
      "2  Charlie   22  Kolkata\n"
     ]
    }
   ],
   "source": [
    "import pandas as pd\n",
    "\n",
    "excel_df = pd.read_excel(r\"C:\\Users\\Lenovo\\mydata.xlsx\")\n",
    "print(excel_df.head())\n"
   ]
  },
  {
   "cell_type": "markdown",
   "id": "a97343e1-a5e2-4996-867a-c57e90d113a0",
   "metadata": {},
   "source": [
    "# Writing DataFrame to Excel file"
   ]
  },
  {
   "cell_type": "code",
   "execution_count": 7,
   "id": "4a33aa3c-8fbb-40c1-88a4-2d9abf27dad9",
   "metadata": {},
   "outputs": [],
   "source": [
    "excel_df.to_excel(\"output.xlsx\", index=False)"
   ]
  },
  {
   "cell_type": "markdown",
   "id": "15f42920-6fed-4ba2-a49f-4afab54b9929",
   "metadata": {},
   "source": [
    "# Appending a new sheet "
   ]
  },
  {
   "cell_type": "code",
   "execution_count": 10,
   "id": "785af8d5-6548-4e17-a148-0e2a0cb29dbe",
   "metadata": {},
   "outputs": [],
   "source": [
    "import pandas as pd\n",
    "\n",
    "# new data to append\n",
    "new_data = pd.DataFrame({\n",
    "    'Numbers': [101, 102, 103],\n",
    "    'Text': ['one', 'two', 'three']\n",
    "})\n",
    "\n",
    "# append as a new sheet\n",
    "with pd.ExcelWriter(r\"C:\\Users\\Lenovo\\mydata.xlsx\",\n",
    "                    mode='a', engine='openpyxl') as writer:\n",
    "    new_data.to_excel(writer, sheet_name='AppendedData', index=False)\n"
   ]
  },
  {
   "cell_type": "markdown",
   "id": "b3635533-4e50-4a15-b335-97bb70f8a81e",
   "metadata": {},
   "source": [
    "# Appending rows into the same sheet"
   ]
  },
  {
   "cell_type": "code",
   "execution_count": 18,
   "id": "27a7c5e8-e547-4f9a-9379-3ee6f32fff44",
   "metadata": {},
   "outputs": [
    {
     "name": "stdout",
     "output_type": "stream",
     "text": [
      "Rows added successfully!\n"
     ]
    }
   ],
   "source": [
    "import pandas as pd\n",
    "\n",
    "file_path = r\"C:\\Users\\Lenovo\\mydata.xlsx\"  # your Excel file\n",
    "\n",
    "# 1. Read existing sheet\n",
    "df = pd.read_excel(file_path, sheet_name='Sheet1')\n",
    "\n",
    "# 2. Create new rows\n",
    "new_rows = pd.DataFrame({\n",
    "    'Name': ['Apoorva', 'Arnav'],\n",
    "    'Age': [28, 24],\n",
    "    'City': ['Chennai', 'Jaipur']\n",
    "})\n",
    "\n",
    "# 3. Append them\n",
    "df_updated = pd.concat([df, new_rows], ignore_index=True)\n",
    "\n",
    "# 4. Write back to the same sheet\n",
    "df_updated.to_excel(file_path, sheet_name='Sheet1', index=False)\n",
    "\n",
    "print(\"Rows added successfully!\")"
   ]
  },
  {
   "cell_type": "markdown",
   "id": "6c390c9d-fd0c-4f12-a425-920d1bd6216e",
   "metadata": {},
   "source": [
    "# Checking the output"
   ]
  },
  {
   "cell_type": "code",
   "execution_count": 20,
   "id": "0938430d-28eb-458d-9593-981f995b4a72",
   "metadata": {},
   "outputs": [
    {
     "name": "stdout",
     "output_type": "stream",
     "text": [
      "      Name  Age     City\n",
      "0    Alice   25    Delhi\n",
      "1      Bob   30   Mumbai\n",
      "2  Charlie   22  Kolkata\n",
      "3  Apoorva   28  Chennai\n",
      "4    Arnav   24   Jaipur\n"
     ]
    }
   ],
   "source": [
    "file_path = r\"C:\\Users\\Lenovo\\mydata.xlsx\"\n",
    "df = pd.read_excel(file_path)\n",
    "print(df)"
   ]
  },
  {
   "cell_type": "markdown",
   "id": "29a0960d-f6e0-47e1-a920-ec39cd0b2ecb",
   "metadata": {},
   "source": [
    "# Overwriting a row"
   ]
  },
  {
   "cell_type": "code",
   "execution_count": 24,
   "id": "934a7928-b7d9-4ca9-a7d3-c520d8b57ccd",
   "metadata": {},
   "outputs": [
    {
     "name": "stdout",
     "output_type": "stream",
     "text": [
      "Row 1 (first data row) updated successfully.\n"
     ]
    }
   ],
   "source": [
    "from openpyxl import load_workbook\n",
    "\n",
    "file_path = r\"C:\\Users\\Lenovo\\mydata.xlsx\"\n",
    "\n",
    "# load workbook\n",
    "wb = load_workbook(file_path)\n",
    "ws = wb['Sheet1']  \n",
    "\n",
    "# row 1 is the header; row 2 is first data row (Alice)\n",
    "# let's overwrite row 2 (Alice) with new values:\n",
    "ws.cell(row=2, column=1).value = 'Rachna'       # Name\n",
    "ws.cell(row=2, column=2).value = 35           # Age\n",
    "ws.cell(row=2, column=3).value = 'Pune'       # City\n",
    "\n",
    "# save workbook\n",
    "wb.save(file_path)\n",
    "\n",
    "print(\"Row 1 (first data row) updated successfully.\")\n"
   ]
  },
  {
   "cell_type": "code",
   "execution_count": 25,
   "id": "fbdb9a42-e477-4c83-94f3-e6f9f75028df",
   "metadata": {},
   "outputs": [
    {
     "name": "stdout",
     "output_type": "stream",
     "text": [
      "      Name  Age     City\n",
      "0   Rachna   35     Pune\n",
      "1      Bob   30   Mumbai\n",
      "2  Charlie   22  Kolkata\n",
      "3  Apoorva   28  Chennai\n",
      "4    Arnav   24   Jaipur\n"
     ]
    }
   ],
   "source": [
    "#Checking excel\n",
    "file_path = r\"C:\\Users\\Lenovo\\mydata.xlsx\"\n",
    "df = pd.read_excel(file_path)\n",
    "print(df)"
   ]
  },
  {
   "cell_type": "markdown",
   "id": "77a48086-af4d-4896-b6f7-f1da1e6d1dfe",
   "metadata": {},
   "source": [
    "# Reading specific chunk"
   ]
  },
  {
   "cell_type": "code",
   "execution_count": 26,
   "id": "2b756e51-e303-4b53-9ea3-c3fdf1d7af5c",
   "metadata": {},
   "outputs": [
    {
     "name": "stdout",
     "output_type": "stream",
     "text": [
      "      Name  Age     City\n",
      "0  Charlie   22  Kolkata\n",
      "1  Apoorva   28  Chennai\n"
     ]
    }
   ],
   "source": [
    "import pandas as pd\n",
    "\n",
    "file_path = r\"C:\\Users\\Lenovo\\mydata.xlsx\"\n",
    "\n",
    "df_chunk = pd.read_excel(\n",
    "    file_path,\n",
    "    skiprows=range(1, 3),  # skip 2 data rows after header\n",
    "    nrows=2                # then read 2 rows\n",
    ")\n",
    "print(df_chunk)"
   ]
  },
  {
   "cell_type": "code",
   "execution_count": null,
   "id": "2dff285a-c6ab-4ddc-89eb-5373d7090180",
   "metadata": {},
   "outputs": [],
   "source": []
  }
 ],
 "metadata": {
  "kernelspec": {
   "display_name": "Python 3 (ipykernel)",
   "language": "python",
   "name": "python3"
  },
  "language_info": {
   "codemirror_mode": {
    "name": "ipython",
    "version": 3
   },
   "file_extension": ".py",
   "mimetype": "text/x-python",
   "name": "python",
   "nbconvert_exporter": "python",
   "pygments_lexer": "ipython3",
   "version": "3.11.7"
  }
 },
 "nbformat": 4,
 "nbformat_minor": 5
}
