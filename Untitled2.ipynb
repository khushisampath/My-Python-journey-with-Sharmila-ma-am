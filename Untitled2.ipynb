{
 "cells": [
  {
   "cell_type": "code",
   "execution_count": 2,
   "id": "87d304f8",
   "metadata": {},
   "outputs": [
    {
     "name": "stdout",
     "output_type": "stream",
     "text": [
      "🌹\n"
     ]
    }
   ],
   "source": [
    "import unicodedata as un\n",
    "o=un.lookup('rose')\n",
    "print(o)"
   ]
  },
  {
   "cell_type": "code",
   "execution_count": 4,
   "id": "259a2cf0",
   "metadata": {},
   "outputs": [
    {
     "name": "stdout",
     "output_type": "stream",
     "text": [
      "🌻\n"
     ]
    }
   ],
   "source": [
    "o=un.lookup('sunflower')\n",
    "print(o)"
   ]
  },
  {
   "cell_type": "code",
   "execution_count": 5,
   "id": "be546c2a",
   "metadata": {},
   "outputs": [
    {
     "ename": "SyntaxError",
     "evalue": "invalid syntax (1432333595.py, line 1)",
     "output_type": "error",
     "traceback": [
      "\u001b[0;36m  File \u001b[0;32m\"/tmp/ipykernel_14876/1432333595.py\"\u001b[0;36m, line \u001b[0;32m1\u001b[0m\n\u001b[0;31m    int b=int('a')\u001b[0m\n\u001b[0m        ^\u001b[0m\n\u001b[0;31mSyntaxError\u001b[0m\u001b[0;31m:\u001b[0m invalid syntax\n"
     ]
    }
   ],
   "source": [
    "int b=int('a')\n",
    "print (b)"
   ]
  },
  {
   "cell_type": "code",
   "execution_count": 6,
   "id": "c6851fb6",
   "metadata": {},
   "outputs": [
    {
     "name": "stdout",
     "output_type": "stream",
     "text": [
      "Defaulting to user installation because normal site-packages is not writeable\n",
      "Requirement already satisfied: nltk in /home/matlab/.local/lib/python3.10/site-packages (3.9.1)\n",
      "Requirement already satisfied: click in /usr/lib/python3/dist-packages (from nltk) (8.0.3)\n",
      "Requirement already satisfied: regex>=2021.8.3 in /home/matlab/.local/lib/python3.10/site-packages (from nltk) (2024.11.6)\n",
      "Requirement already satisfied: joblib in /home/matlab/.local/lib/python3.10/site-packages (from nltk) (1.5.1)\n",
      "Requirement already satisfied: tqdm in /home/matlab/.local/lib/python3.10/site-packages (from nltk) (4.67.1)\n"
     ]
    }
   ],
   "source": [
    "!pip install nltk"
   ]
  },
  {
   "cell_type": "code",
   "execution_count": null,
   "id": "4e7f216c",
   "metadata": {},
   "outputs": [],
   "source": [
    "c=input(\"Enter Character : \")\n",
    "print(hex(ord(c)))"
   ]
  },
  {
   "cell_type": "code",
   "execution_count": 3,
   "id": "4b6b5be9",
   "metadata": {},
   "outputs": [
    {
     "name": "stdout",
     "output_type": "stream",
     "text": [
      "[('g', 'NN')]\n",
      "[('s', 'NN')]\n",
      "[('d', 'NN')]\n",
      "[('e', 'NN')]\n",
      "[('f', 'NN')]\n",
      "[('v', 'NN')]\n",
      "[('h', 'NN')]\n",
      "[('q', 'NN')]\n",
      "[('e', 'NN')]\n",
      "[('w', 'NN')]\n",
      "[('g', 'NN')]\n",
      "[('r', 'NN')]\n",
      "[('f', 'NN')]\n",
      "[('j', 'NN')]\n",
      "[('e', 'NN')]\n",
      "[('r', 'NN')]\n",
      "[('h', 'NN')]\n"
     ]
    }
   ],
   "source": [
    "import nltk\n",
    "texts=\"gsdef vhq ewg rfje rh\"\n",
    "for text in texts:\n",
    "    sents=nltk.sent_tokenize(text)\n",
    "    for s in sents:\n",
    "        words=nltk.word_tokenize(s)\n",
    "        tw=nltk.pos_tag(words)\n",
    "        print(tw)"
   ]
  },
  {
   "cell_type": "code",
   "execution_count": null,
   "id": "0eb87a17",
   "metadata": {},
   "outputs": [],
   "source": []
  }
 ],
 "metadata": {
  "kernelspec": {
   "display_name": "Python 3 (ipykernel)",
   "language": "python",
   "name": "python3"
  },
  "language_info": {
   "codemirror_mode": {
    "name": "ipython",
    "version": 3
   },
   "file_extension": ".py",
   "mimetype": "text/x-python",
   "name": "python",
   "nbconvert_exporter": "python",
   "pygments_lexer": "ipython3",
   "version": "3.10.12"
  }
 },
 "nbformat": 4,
 "nbformat_minor": 5
}
