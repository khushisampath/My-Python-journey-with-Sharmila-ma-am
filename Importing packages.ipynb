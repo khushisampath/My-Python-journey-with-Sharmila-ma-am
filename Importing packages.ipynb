{
 "cells": [
  {
   "cell_type": "markdown",
   "id": "e4236f65-ea32-4dcc-86d1-0b2b64140810",
   "metadata": {},
   "source": [
    "# 22MIC0041-KHUSHI KS"
   ]
  },
  {
   "cell_type": "markdown",
   "id": "6b39fa75-6678-4459-b0d3-2710d8bc665c",
   "metadata": {},
   "source": [
    "## LAB1:FOCUSING ON SIMPLE PRINT STATEMENTS AND IMPORTING LIBRARIES"
   ]
  },
  {
   "cell_type": "code",
   "execution_count": 1,
   "id": "04399f6e-4ba5-4efc-9029-2fa138c4bbf3",
   "metadata": {},
   "outputs": [],
   "source": [
    "import turtle\n",
    "\n",
    "# --- Set up the screen ---\n",
    "screen = turtle.Screen()             # Create the drawing window\n",
    "screen.bgcolor(\"lightblue\")          # Set the background color to light blue\n",
    "\n",
    "# --- Create turtle for drawing the house ---\n",
    "house = turtle.Turtle()              # Create turtle named \"house\"\n",
    "house.shape(\"turtle\")                # Optional turtle shape\n",
    "house.color(\"red\")                   # Initial color: red (for base)\n",
    "house.pensize(3)                     # Pen thickness for outline\n",
    "\n",
    "# --- Draw the house base (rectangle) ---\n",
    "house.penup()\n",
    "house.goto(-100, -100)              # Bottom-left corner of the house base\n",
    "house.pendown()\n",
    "house.begin_fill()\n",
    "for _ in range(2):                  # Draw rectangle: width 200, height 150\n",
    "    house.forward(200)\n",
    "    house.left(90)\n",
    "    house.forward(150)\n",
    "    house.left(90)\n",
    "house.end_fill()\n",
    "\n",
    "# --- Draw the roof (isosceles triangle) ---\n",
    "house.penup()\n",
    "house.goto(-100, 50)                # Start at top-left corner of house base\n",
    "house.pendown()\n",
    "house.color(\"brown\")\n",
    "house.begin_fill()\n",
    "house.goto(0, 150)                  # Peak of the roof (centered)\n",
    "house.goto(100, 50)                 # Top-right corner of house base\n",
    "house.goto(-100, 50)                # Back to starting point\n",
    "house.end_fill()\n",
    "\n",
    "# --- Draw left window (square) ---\n",
    "house.penup()\n",
    "house.goto(-80, 0)                  # Position for left window\n",
    "house.pendown()\n",
    "house.color(\"yellow\")\n",
    "house.begin_fill()\n",
    "for _ in range(4):                  # Draw square window (40x40)\n",
    "    house.forward(40)\n",
    "    house.left(90)\n",
    "house.end_fill()\n",
    "\n",
    "# --- Draw right window (square) ---\n",
    "house.penup()\n",
    "house.goto(40, 0)                   # Position for right window\n",
    "house.pendown()\n",
    "house.begin_fill()\n",
    "for _ in range(4):\n",
    "    house.forward(40)\n",
    "    house.left(90)\n",
    "house.end_fill()\n",
    "\n",
    "# --- Draw the door (rectangle) ---\n",
    "house.penup()\n",
    "house.goto(-20, -100)              # Centered at bottom of the house\n",
    "house.pendown()\n",
    "house.color(\"brown\")\n",
    "house.begin_fill()\n",
    "for _ in range(2):                 # Draw door: width 40, height 70\n",
    "    house.forward(40)\n",
    "    house.left(90)\n",
    "    house.forward(70)\n",
    "    house.left(90)\n",
    "house.end_fill()\n",
    "\n",
    "# --- Finish ---\n",
    "house.hideturtle()                 # Hide turtle cursor after drawing\n",
    "turtle.done()                      # Keep the window open until manually closed\n"
   ]
  },
  {
   "cell_type": "code",
   "execution_count": 2,
   "id": "d7edfed3-a8b1-4be0-a522-a27ee3305c4f",
   "metadata": {},
   "outputs": [
    {
     "name": "stdout",
     "output_type": "stream",
     "text": [
      "Requirement already satisfied: pygame in c:\\users\\femal\\anaconda3\\lib\\site-packages (2.6.1)\n"
     ]
    }
   ],
   "source": [
    "!pip install pygame"
   ]
  },
  {
   "cell_type": "code",
   "execution_count": 3,
   "id": "094933d5-5a01-4179-8320-f4ee786a2c2a",
   "metadata": {},
   "outputs": [
    {
     "name": "stdout",
     "output_type": "stream",
     "text": [
      "pygame 2.6.1 (SDL 2.28.4, Python 3.11.7)\n",
      "Hello from the pygame community. https://www.pygame.org/contribute.html\n"
     ]
    }
   ],
   "source": [
    "# Import required modules\n",
    "import pygame          # For graphics, event handling, and display\n",
    "import random          # To randomly assign color and speed\n",
    "\n",
    "# Initialize all imported Pygame modules\n",
    "pygame.init()\n",
    "\n",
    "# Create a display window of size 800x600 pixels\n",
    "screen = pygame.display.set_mode((800, 600))\n",
    "pygame.display.set_caption(\"Magic Dot Animation\")  # Title for the window\n",
    "\n",
    "# Define commonly used colors\n",
    "BLACK = (0, 0, 0)  # Background color\n",
    "DOT_COLORS = [     # List of colors that the dot can switch to\n",
    "    (255, 0, 0),   # Red\n",
    "    (0, 255, 0),   # Green\n",
    "    (0, 0, 255),   # Blue\n",
    "    (255, 255, 0)  # Yellow\n",
    "]\n",
    "WHITE = (255, 255, 255)  # (Defined but not used here)\n",
    "\n",
    "# --- MagicDot Class Definition ---\n",
    "class MagicDot:\n",
    "    def __init__(self, x, y, size):\n",
    "        \"\"\"\n",
    "        Constructor to initialize the dot's position, size, color, and speed.\n",
    "\n",
    "        Parameters:\n",
    "        - x: Initial x-coordinate of the dot\n",
    "        - y: Initial y-coordinate of the dot\n",
    "        - size: Radius of the dot\n",
    "        \"\"\"\n",
    "        self.x = x\n",
    "        self.y = y\n",
    "        self.size = size\n",
    "        self.color = random.choice(DOT_COLORS)      # Randomly choose initial color\n",
    "        self.speed_x = random.randint(3, 5)         # Horizontal speed (3 to 5 pixels per frame)\n",
    "        self.speed_y = random.randint(3, 5)         # Vertical speed (3 to 5 pixels per frame)\n",
    "\n",
    "    def draw(self, screen):\n",
    "        \"\"\"\n",
    "        Draws the dot on the screen.\n",
    "\n",
    "        Parameters:\n",
    "        - screen: The Pygame surface to draw the dot on\n",
    "        \"\"\"\n",
    "        pygame.draw.circle(screen, self.color, (self.x, self.y), self.size)\n",
    "\n",
    "    def move(self):\n",
    "        \"\"\"\n",
    "        Updates the dot's position and handles bouncing off the window edges.\n",
    "        Also changes color each time it bounces.\n",
    "        \"\"\"\n",
    "        # Update position by adding speed\n",
    "        self.x += self.speed_x\n",
    "        self.y += self.speed_y\n",
    "\n",
    "        # Bounce off the horizontal edges and change color\n",
    "        if self.x >= 800 or self.x <= 0:\n",
    "            self.speed_x = -self.speed_x  # Reverse direction\n",
    "            self.color = random.choice(DOT_COLORS)\n",
    "\n",
    "        # Bounce off the vertical edges and change color\n",
    "        if self.y >= 600 or self.y <= 0:\n",
    "            self.speed_y = -self.speed_y\n",
    "            self.color = random.choice(DOT_COLORS)\n",
    "\n",
    "# Create one MagicDot instance positioned at center (400, 300) with size 10\n",
    "dot = MagicDot(400, 300, 10)\n",
    "\n",
    "# --- Main Game Loop ---\n",
    "running = True\n",
    "while running:\n",
    "    screen.fill(BLACK)  # Clear the screen by filling it with black\n",
    "\n",
    "    dot.move()          # Update the dot's position\n",
    "    dot.draw(screen)    # Draw the dot at its new location\n",
    "\n",
    "    pygame.display.flip()  # Refresh the display with the new frame\n",
    "\n",
    "    # Event loop to handle user actions (e.g., close button)\n",
    "    for event in pygame.event.get():\n",
    "        if event.type == pygame.QUIT:\n",
    "            running = False  # Exit the main loop\n",
    "\n",
    "# Quit Pygame and release resources\n",
    "pygame.quit()\n"
   ]
  },
  {
   "cell_type": "code",
   "execution_count": 4,
   "id": "ea063e72-f7eb-4c66-b7ec-7091b16f7c86",
   "metadata": {},
   "outputs": [],
   "source": [
    "# Import necessary modules\n",
    "import pygame        # For creating graphics and handling user input\n",
    "import math          # For trigonometric calculations (used to draw clock hands)\n",
    "import time          # To get the current system time\n",
    "\n",
    "# Initialize the Pygame module (must be called before using any other pygame functionality)\n",
    "pygame.init()\n",
    "\n",
    "# Set up the display window: width=800, height=600\n",
    "screen = pygame.display.set_mode((800, 600))\n",
    "pygame.display.set_caption(\"Wall Clock Animation\")  # Title of the window\n",
    "\n",
    "# Define color constants using RGB tuples\n",
    "BLACK = (0, 0, 0)         # Background color\n",
    "WHITE = (255, 255, 255)   # Clock face border color\n",
    "HAND_COLOR = (255, 0, 0)  # Unused in current code (defined for potential hand color)\n",
    "\n",
    "# --- Function to draw a single clock hand ---\n",
    "def draw_hand(screen, angle, length, width, color):\n",
    "    \"\"\"\n",
    "    Draws a clock hand on the screen.\n",
    "\n",
    "    Parameters:\n",
    "    - screen: The pygame surface on which to draw.\n",
    "    - angle: The angle (in degrees) where the hand should point (0° = 3 o'clock, increasing counter-clockwise).\n",
    "    - length: How long the hand should be.\n",
    "    - width: The thickness of the hand line.\n",
    "    - color: RGB tuple representing the color of the hand.\n",
    "    \"\"\"\n",
    "    # Calculate the endpoint of the hand using trigonometry.\n",
    "    # (400, 300) is the center of the clock.\n",
    "    end_x = 400 + length * math.cos(math.radians(angle))\n",
    "    end_y = 300 - length * math.sin(math.radians(angle))\n",
    "    \n",
    "    # Draw the hand from the center to the calculated endpoint\n",
    "    pygame.draw.line(screen, color, (400, 300), (end_x, end_y), width)\n",
    "\n",
    "# --- Main animation/game loop ---\n",
    "running = True\n",
    "while running:\n",
    "    # Fill the screen with black to clear previous drawings\n",
    "    screen.fill(BLACK)\n",
    "    \n",
    "    # Draw the circular clock face (center: (400, 300), radius: 250, line thickness: 5)\n",
    "    pygame.draw.circle(screen, WHITE, (400, 300), 250, 5)\n",
    "\n",
    "    # Get the current local time\n",
    "    current_time = time.localtime()\n",
    "    seconds = current_time.tm_sec       # Current seconds (0–59)\n",
    "    minutes = current_time.tm_min       # Current minutes (0–59)\n",
    "    hours = current_time.tm_hour % 12   # Current hour in 12-hour format (0–11)\n",
    "\n",
    "    # Calculate angles for each hand based on time\n",
    "    second_angle = 360 * (seconds / 60)                              # Each second = 6 degrees\n",
    "    minute_angle = 360 * (minutes / 60) + (seconds / 60) * 6         # Each minute = 6 degrees + second contribution\n",
    "    hour_angle = 360 * (hours / 12) + (minutes / 60) * 30            # Each hour = 30 degrees + minute contribution\n",
    "\n",
    "    # Draw the three clock hands\n",
    "    draw_hand(screen, second_angle, 200, 2, (0, 255, 0))  # Second hand: green, long and thin\n",
    "    draw_hand(screen, minute_angle, 150, 4, (255, 0, 0))  # Minute hand: red, medium length\n",
    "    draw_hand(screen, hour_angle, 100, 6, (0, 0, 255))    # Hour hand: blue, short and thick\n",
    "\n",
    "    # Update the display with the new drawings\n",
    "    pygame.display.flip()\n",
    "\n",
    "    # Handle window events (e.g., close button)\n",
    "    for event in pygame.event.get():\n",
    "        if event.type == pygame.QUIT:  # If the window's close button is clicked\n",
    "            running = False            # Exit the loop to end the program\n",
    "\n",
    "# Quit pygame and clean up resources\n",
    "pygame.quit()\n"
   ]
  },
  {
   "cell_type": "code",
   "execution_count": 2,
   "id": "53518825-5631-42f1-83fe-183784a3f4bc",
   "metadata": {},
   "outputs": [],
   "source": [
    "# -----------------------------------------------------------\n",
    "# Python Script: Exploring String Functions, Properties & Immutability\n",
    "# -----------------------------------------------------------\n",
    "\n",
    "# A string in Python is a sequence of characters enclosed in quotes\n",
    "\n",
    "\n",
    "string1 = \"Hello\"\n",
    "string2 = 'World'\n",
    "string3 = \"\"\"Python Strings\"\"\""
   ]
  },
  {
   "cell_type": "code",
   "execution_count": 3,
   "id": "5846f183-146a-4538-8527-7316399b7263",
   "metadata": {},
   "outputs": [
    {
     "data": {
      "text/plain": [
       "'Hello'"
      ]
     },
     "execution_count": 3,
     "metadata": {},
     "output_type": "execute_result"
    }
   ],
   "source": [
    " string1"
   ]
  },
  {
   "cell_type": "code",
   "execution_count": 4,
   "id": "115ee903-11ea-4e39-a9e1-dd545977280f",
   "metadata": {},
   "outputs": [
    {
     "data": {
      "text/plain": [
       "5"
      ]
     },
     "execution_count": 4,
     "metadata": {},
     "output_type": "execute_result"
    }
   ],
   "source": [
    "len(string1)"
   ]
  },
  {
   "cell_type": "code",
   "execution_count": 5,
   "id": "e2a41d66-a82c-4030-92e0-89dd3557af0b",
   "metadata": {},
   "outputs": [
    {
     "data": {
      "text/plain": [
       "str"
      ]
     },
     "execution_count": 5,
     "metadata": {},
     "output_type": "execute_result"
    }
   ],
   "source": [
    "type(string1)"
   ]
  },
  {
   "cell_type": "code",
   "execution_count": 2,
   "id": "5f892cc6-2698-42f5-8a16-0228a8bc3cec",
   "metadata": {},
   "outputs": [
    {
     "name": "stdout",
     "output_type": "stream",
     "text": [
      "=== INDEXING ===\n",
      "String: PYTHON\n",
      "Length: 6\n",
      "demo_str[0]: P\n",
      "demo_str[1]: Y\n",
      "demo_str[5]: N\n",
      "demo_str[-1]: N\n",
      "demo_str[-2]: O\n",
      "\n",
      "=== SLICING ===\n",
      "demo_str[0:3]: PYT\n",
      "demo_str[2:6]: THON\n",
      "demo_str[:4]: PYTH\n",
      "demo_str[3:]: HON\n",
      "demo_str[:]: PYTHON\n",
      "demo_str[::2]: PTO\n",
      "demo_str[::3]: PH\n",
      "demo_str[::-1]: NOHTYP\n",
      "demo_str[1:5:2]: YH\n",
      "demo_str[5:2:-1]: NOH\n",
      "\n",
      "=== EXTRA SLICE BEHAVIORS ===\n",
      "demo_str[0:100]: PYTHON\n",
      "demo_str[-100:3]: PYT\n",
      "demo_str[3:1]: \n"
     ]
    }
   ],
   "source": [
    "# -----------------------------------------------------------\n",
    "# PYTHON STRINGS: INDEXING & SLICING IN DETAIL\n",
    "# -----------------------------------------------------------\n",
    "\n",
    "demo_str = \"PYTHON\"\n",
    "\n",
    "print(\"=== INDEXING ===\")\n",
    "# Indexing = Accessing characters by their position\n",
    "# Python indexing starts from 0 (first character) to len(string)-1 (last character)\n",
    "\n",
    "print(\"String:\", demo_str)\n",
    "print(\"Length:\", len(demo_str))\n",
    "\n",
    "# Positive indexing (0, 1, 2, ...)\n",
    "print(\"demo_str[0]:\", demo_str[0])  # First character\n",
    "print(\"demo_str[1]:\", demo_str[1])  # Second character\n",
    "print(\"demo_str[5]:\", demo_str[5])  # Last character using positive index\n",
    "\n",
    "# Negative indexing (-1, -2, ...)\n",
    "# -1 means last character, -2 means second last, etc.\n",
    "print(\"demo_str[-1]:\", demo_str[-1])  # Last character\n",
    "print(\"demo_str[-2]:\", demo_str[-2])  # Second last character\n",
    "\n",
    "# You CANNOT access an index outside the range\n",
    "# Uncommenting the next line will cause IndexError\n",
    "# print(demo_str[10])\n",
    "\n",
    "# -----------------------------------------------------------\n",
    "print(\"\\n=== SLICING ===\")\n",
    "# Syntax: string[start:end:step]\n",
    "# - start = index to begin (inclusive)\n",
    "# - end = index to stop (exclusive — character at 'end' is NOT included)\n",
    "# - step = how many characters to skip (default = 1)\n",
    "\n",
    "print(\"demo_str[0:3]:\", demo_str[0:3])   # Characters from index 0 to 2 (\"PYT\")\n",
    "print(\"demo_str[2:6]:\", demo_str[2:6])   # Characters from index 2 to 5 (\"THON\")\n",
    "print(\"demo_str[:4]:\", demo_str[:4])     # Start is omitted → starts from 0 (\"PYTH\")\n",
    "print(\"demo_str[3:]:\", demo_str[3:])     # End is omitted → goes till end (\"HON\")\n",
    "print(\"demo_str[:]:\", demo_str[:])       # Copy of the whole string (\"PYTHON\")\n",
    "\n",
    "# Step parameter\n",
    "print(\"demo_str[::2]:\", demo_str[::2])   # Every 2nd char (\"PTO\")\n",
    "print(\"demo_str[::3]:\", demo_str[::3])   # Every 3rd char (\"PH\")\n",
    "print(\"demo_str[::-1]:\", demo_str[::-1]) # Step -1 reverses the string (\"NOHTYP\")\n",
    "\n",
    "# Start & end with step\n",
    "print(\"demo_str[1:5:2]:\", demo_str[1:5:2]) # Start=1, End=4, Step=2 → (\"YH\")\n",
    "\n",
    "# Negative step (reverse direction)\n",
    "print(\"demo_str[5:2:-1]:\", demo_str[5:2:-1]) # From index 5 down to index 3 (\"NOH\")\n",
    "\n",
    "# -----------------------------------------------------------\n",
    "print(\"\\n=== EXTRA SLICE BEHAVIORS ===\")\n",
    "\n",
    "# Out of range handling\n",
    "print(\"demo_str[0:100]:\", demo_str[0:100])  # No error, stops at end (\"PYTHON\")\n",
    "print(\"demo_str[-100:3]:\", demo_str[-100:3])# No error, starts from beginning (\"PYT\")\n",
    "\n",
    "# Empty result\n",
    "print(\"demo_str[3:1]:\", demo_str[3:1])  # Start > End with default step → empty string\n",
    "\n",
    "# -----------------------------------------------------------\n",
    "# MINI VISUAL INDEX GUIDE\n",
    "# -----------------------------------------------------------\n",
    "# For demo_str = \"P  Y  T  H  O  N\"\n",
    "# Positive idx  = 0  1  2  3  4  5\n",
    "# Negative idx  =-6 -5 -4 -3 -2 -1\n",
    "\n",
    "# Example: demo_str[1:4] means → \"YTH\"\n",
    "#  ^ start=1  ↑ end=4 (exclusive)\n",
    "# -----------------------------------------------------------\n"
   ]
  },
  {
   "cell_type": "code",
   "execution_count": 3,
   "id": "1e8b5116-dc2e-4601-bc30-a6dc5b46b1a9",
   "metadata": {},
   "outputs": [],
   "source": [
    "sample_text = \"   Python is Fun!   \""
   ]
  },
  {
   "cell_type": "code",
   "execution_count": 4,
   "id": "f27f10d4-ab72-4a7e-90ac-fc8c700b8bfb",
   "metadata": {},
   "outputs": [
    {
     "name": "stdout",
     "output_type": "stream",
     "text": [
      "strip(): 'Python is Fun!'\n",
      "upper():    PYTHON IS FUN!   \n",
      "lower():    python is fun!   \n",
      "title():    Python Is Fun!   \n",
      "capitalize():    python is fun!   \n",
      "swapcase():    pYTHON IS fUN!   \n",
      "find('Fun'): 13\n",
      "replace('Fun', 'Awesome'):    Python is Awesome!   \n"
     ]
    }
   ],
   "source": [
    "# Strip leading/trailing spaces\n",
    "print(\"strip():\", repr(sample_text.strip()))\n",
    "\n",
    "# Change case\n",
    "print(\"upper():\", sample_text.upper())   # All uppercase\n",
    "print(\"lower():\", sample_text.lower())   # All lowercase\n",
    "print(\"title():\", sample_text.title())   # First letter of each word uppercase\n",
    "print(\"capitalize():\", sample_text.capitalize()) # First letter capital, rest lowercase\n",
    "print(\"swapcase():\", sample_text.swapcase()) # Upper to lower, lower to upper\n",
    "\n",
    "# Find and replace\n",
    "print(\"find('Fun'):\", sample_text.find(\"Fun\"))  # Returns index where 'Fun' starts\n",
    "print(\"replace('Fun', 'Awesome'):\", sample_text.replace(\"Fun\", \"Awesome\"))"
   ]
  },
  {
   "cell_type": "code",
   "execution_count": 5,
   "id": "484f29fa-e571-42e3-8be0-cf490bd8d03b",
   "metadata": {},
   "outputs": [
    {
     "name": "stdout",
     "output_type": "stream",
     "text": [
      "['Python', 'is', 'Fun!']\n",
      "split(): ['Python', 'is', 'Fun!']\n",
      "join(): Python-is-Fun!\n"
     ]
    }
   ],
   "source": [
    "# Split and join\n",
    "words = sample_text.strip().split(\" \")\n",
    "print(words)\n",
    "# Split into list by spaces\n",
    "print(\"split():\", words)\n",
    "joined = \"-\".join(words)                 # Join list with hyphen\n",
    "print(\"join():\", joined)"
   ]
  },
  {
   "cell_type": "code",
   "execution_count": 11,
   "id": "09d4e2f1-da28-42e5-844e-4e73dbc07e6e",
   "metadata": {},
   "outputs": [
    {
     "name": "stdout",
     "output_type": "stream",
     "text": [
      "\n",
      "=== IMMUTABILITY DEMO ===\n",
      "Original string: Python\n",
      "Memory address (id): 140730102219688\n",
      "New string: Python Programming\n",
      "Memory address (id) after modification: 1900929448848\n",
      "\n",
      "Original string: Hello | id: 1900923774320\n",
      "After replace(): Jello | id: 1900927943280\n",
      "\n",
      "=== MEMORY USAGE ON APPEND ===\n",
      "Initial string: A | id: 140730103525376\n",
      "After append 1: AA | id: 1900954978928\n",
      "After append 2: AAA | id: 1900954991152\n",
      "After append 3: AAAA | id: 1900954978928\n",
      "After append 4: AAAAA | id: 1900954991152\n",
      "After append 5: AAAAAA | id: 1900954978928\n"
     ]
    }
   ],
   "source": [
    "# -----------------------------------------------------------\n",
    "# 3. IMMUTABILITY OF STRINGS\n",
    "# -----------------------------------------------------------\n",
    "print(\"\\n=== IMMUTABILITY DEMO ===\")\n",
    "# Strings are immutable, meaning once created, they cannot be changed in-place.\n",
    "# Any operation that seems to \"modify\" a string actually creates a new string in memory.\n",
    "\n",
    "immutable_str = \"Python\"\n",
    "print(\"Original string:\", immutable_str)\n",
    "print(\"Memory address (id):\", id(immutable_str))  # id() shows memory address\n",
    "\n",
    "# Let's try to 'modify' it by concatenation\n",
    "immutable_str = immutable_str + \" Programming\"\n",
    "print(\"New string:\", immutable_str)\n",
    "print(\"Memory address (id) after modification:\", id(immutable_str))\n",
    "# Note: The ID is different, meaning a new object was created in memory.\n",
    "\n",
    "# Another immutability example: replace()\n",
    "test_str = \"Hello\"\n",
    "print(\"\\nOriginal string:\", test_str, \"| id:\", id(test_str))\n",
    "test_str = test_str.replace(\"H\", \"J\")  # Replace creates a new object\n",
    "print(\"After replace():\", test_str, \"| id:\", id(test_str))\n",
    "\n",
    "# -----------------------------------------------------------\n",
    "# 4. PROOF THAT NEW MEMORY IS USED EACH TIME\n",
    "# -----------------------------------------------------------\n",
    "print(\"\\n=== MEMORY USAGE ON APPEND ===\")\n",
    "s = \"A\"\n",
    "print(\"Initial string:\", s, \"| id:\", id(s))\n",
    "for i in range(1, 6):\n",
    "    s = s + \"A\"  # Every time we append, new memory is used\n",
    "    print(f\"After append {i}: {s} | id: {id(s)}\")"
   ]
  },
  {
   "cell_type": "code",
   "execution_count": null,
   "id": "d0e68781-9916-426f-a280-fb3f747dc6e3",
   "metadata": {},
   "outputs": [],
   "source": []
  }
 ],
 "metadata": {
  "kernelspec": {
   "display_name": "Python 3 (ipykernel)",
   "language": "python",
   "name": "python3"
  },
  "language_info": {
   "codemirror_mode": {
    "name": "ipython",
    "version": 3
   },
   "file_extension": ".py",
   "mimetype": "text/x-python",
   "name": "python",
   "nbconvert_exporter": "python",
   "pygments_lexer": "ipython3",
   "version": "3.11.7"
  }
 },
 "nbformat": 4,
 "nbformat_minor": 5
}
