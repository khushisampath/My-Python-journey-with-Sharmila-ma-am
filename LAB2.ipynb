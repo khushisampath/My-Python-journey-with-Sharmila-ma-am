{
 "cells": [
  {
   "cell_type": "markdown",
   "id": "c25988d5-ebe1-49b9-9898-f694449b7449",
   "metadata": {},
   "source": [
    "# LAB2"
   ]
  },
  {
   "cell_type": "code",
   "execution_count": 1,
   "id": "32e06366-a79b-4048-b5f9-ba4f0e6e2ad5",
   "metadata": {},
   "outputs": [],
   "source": [
    "import nltk\n",
    "from urllib import request\n",
    "from nltk.tokenize import word_tokenize"
   ]
  },
  {
   "cell_type": "code",
   "execution_count": 2,
   "id": "97896c56-21e9-46af-a15a-4f440f6db6b7",
   "metadata": {},
   "outputs": [
    {
     "name": "stderr",
     "output_type": "stream",
     "text": [
      "[nltk_data] Downloading package punkt to\n",
      "[nltk_data]     C:\\Users\\femal\\AppData\\Roaming\\nltk_data...\n",
      "[nltk_data]   Unzipping tokenizers\\punkt.zip.\n"
     ]
    },
    {
     "data": {
      "text/plain": [
       "True"
      ]
     },
     "execution_count": 2,
     "metadata": {},
     "output_type": "execute_result"
    }
   ],
   "source": [
    "# Download the tokenizer data \n",
    "nltk.download('punkt')\n"
   ]
  },
  {
   "cell_type": "code",
   "execution_count": 3,
   "id": "76c64e1a-35ab-41ad-9dda-c4dd190c9389",
   "metadata": {},
   "outputs": [],
   "source": [
    "url = \"https://www.gutenberg.org/files/98/98-0.txt\"\n"
   ]
  },
  {
   "cell_type": "code",
   "execution_count": 4,
   "id": "87952052-0cf1-4c94-a945-e1dbbce1096c",
   "metadata": {},
   "outputs": [
    {
     "name": "stdout",
     "output_type": "stream",
     "text": [
      "['\\ufeffThe', 'Project', 'Gutenberg', 'eBook', 'of', 'A', 'Tale', 'of', 'Two', 'Cities', ',', 'by', 'Charles', 'Dickens', 'This', 'eBook', 'is', 'for', 'the', 'use', 'of', 'anyone', 'anywhere', 'in', 'the', 'United', 'States', 'and', 'most', 'other', 'parts', 'of', 'the', 'world', 'at', 'no', 'cost', 'and', 'with', 'almost', 'no', 'restrictions', 'whatsoever', '.', 'You', 'may', 'copy', 'it', ',', 'give', 'it', 'away', 'or', 're-use', 'it', 'under', 'the', 'terms', 'of', 'the', 'Project', 'Gutenberg', 'License', 'included', 'with', 'this', 'eBook', 'or', 'online', 'at', 'www.gutenberg.org', '.', 'If', 'you', 'are', 'not', 'located', 'in', 'the', 'United', 'States', ',', 'you', 'will', 'have', 'to', 'check', 'the', 'laws', 'of', 'the', 'country', 'where', 'you', 'are', 'located', 'before', 'using', 'this', 'eBook']\n"
     ]
    }
   ],
   "source": [
    "response = request.urlopen(url)\n",
    "raw_text = response.read().decode('utf-8')#ENCODING STYLE\n",
    "tokens = word_tokenize(raw_text)\n",
    "print(tokens[:100]) # Display first 100 tokens"
   ]
  },
  {
   "cell_type": "code",
   "execution_count": 5,
   "id": "61a6a541-e9c5-4e76-bc64-96bad0f09c77",
   "metadata": {},
   "outputs": [
    {
     "name": "stdout",
     "output_type": "stream",
     "text": [
      "Requirement already satisfied: nltk in c:\\users\\femal\\anaconda3\\lib\\site-packages (3.8.1)\n",
      "Collecting html2text\n",
      "  Downloading html2text-2025.4.15-py3-none-any.whl.metadata (4.1 kB)\n",
      "Requirement already satisfied: click in c:\\users\\femal\\anaconda3\\lib\\site-packages (from nltk) (8.1.7)\n",
      "Requirement already satisfied: joblib in c:\\users\\femal\\anaconda3\\lib\\site-packages (from nltk) (1.2.0)\n",
      "Requirement already satisfied: regex>=2021.8.3 in c:\\users\\femal\\anaconda3\\lib\\site-packages (from nltk) (2023.10.3)\n",
      "Requirement already satisfied: tqdm in c:\\users\\femal\\anaconda3\\lib\\site-packages (from nltk) (4.65.0)\n",
      "Requirement already satisfied: colorama in c:\\users\\femal\\anaconda3\\lib\\site-packages (from click->nltk) (0.4.6)\n",
      "Downloading html2text-2025.4.15-py3-none-any.whl (34 kB)\n",
      "Installing collected packages: html2text\n",
      "Successfully installed html2text-2025.4.15\n"
     ]
    }
   ],
   "source": [
    "!pip install nltk html2text"
   ]
  },
  {
   "cell_type": "code",
   "execution_count": 6,
   "id": "c8da14f2-80ae-43f0-af34-7fd45b774a4a",
   "metadata": {},
   "outputs": [
    {
     "name": "stderr",
     "output_type": "stream",
     "text": [
      "[nltk_data] Downloading package punkt to\n",
      "[nltk_data]     C:\\Users\\femal\\AppData\\Roaming\\nltk_data...\n",
      "[nltk_data]   Package punkt is already up-to-date!\n"
     ]
    },
    {
     "data": {
      "text/plain": [
       "True"
      ]
     },
     "execution_count": 6,
     "metadata": {},
     "output_type": "execute_result"
    }
   ],
   "source": [
    "import nltk\n",
    "import html2text\n",
    "from urllib import request\n",
    "from nltk.tokenize import word_tokenize\n",
    "nltk.download('punkt')"
   ]
  },
  {
   "cell_type": "code",
   "execution_count": 7,
   "id": "bafee335-484c-43e0-bb91-19868bf539b6",
   "metadata": {},
   "outputs": [
    {
     "name": "stdout",
     "output_type": "stream",
     "text": [
      "['!', '#', '$', '%', '(', ')', '*', '+', ',', '-', '--', '-end', '.', '...', '//www.gutenberg.org', '//www.gutenberg.org/donate/', '1', '1.A', '1.B', '1.C', '1.D', '1.E', '1.E.1', '1.E.2', '1.E.3', '1.E.4', '1.E.5', '1.E.6', '1.E.7', '1.E.8', '1.E.9', '1.F', '1.F.1', '1.F.2', '1.F.3', '1.F.4', '1.F.5', '1.F.6', '1/1', '1/2', '1/3', '10', '10,000', '100', '1000', '1000.', '11', '12', '13', '1497', '150', '1500', '1514', '1568-1639', '16', '1688', '17,500', '18', '193', '1998', '1\\\\', '1st', '2', '2/1', '2/2', '20', '200,000', '2001', '2021', '21', '215', '216', '25', '27', '2700', '2\\\\', '2nd', '3', '3/2', '30', '300,000', '33', '34', '35', '365', '398-381', '3:4', '3\\\\', '3rd', '4', '4/3', '400', '400/9', '411', '435', '436', '456', '47', '48', '49']\n",
      "\n",
      "Total unique words (vocabulary size): 12353\n"
     ]
    }
   ],
   "source": [
    "url = \"https://www.gutenberg.org/cache/epub/1497/pg1497-images.html\"\n",
    "response = request.urlopen(url)\n",
    "html_content = response.read().decode('utf-8') # convert to UTF-8\n",
    "text = html2text.html2text(html_content)\n",
    "tokens = word_tokenize(text)\n",
    "vocabulary = sorted(set(tokens)) # removes duplicates and sorts\n",
    "print(vocabulary[:100]) # print first 100 unique words\n",
    "print(f\"\\nTotal unique words (vocabulary size): {len(vocabulary)}\")"
   ]
  },
  {
   "cell_type": "code",
   "execution_count": 9,
   "id": "33fcb256-6caa-4515-aedd-bda5da0224ec",
   "metadata": {},
   "outputs": [
    {
     "name": "stderr",
     "output_type": "stream",
     "text": [
      "[nltk_data] Downloading package stopwords to\n",
      "[nltk_data]     C:\\Users\\femal\\AppData\\Roaming\\nltk_data...\n",
      "[nltk_data]   Package stopwords is already up-to-date!\n"
     ]
    },
    {
     "name": "stdout",
     "output_type": "stream",
     "text": [
      "['abandoned', 'abate', 'abated', 'abates', 'abdera', 'abhor', 'abhorrence', 'abide', 'abiding', 'ability', 'abject', 'able', 'abler', 'abnegation', 'abnormal', 'abode', 'abolished', 'abolishes', 'abolition', 'abominable', 'abominate', 'abominates', 'aborigines', 'abound', 'abounds', 'abroad', 'absence', 'absolute', 'absolutely', 'absolution', 'absorb', 'absorbed', 'absorbs', 'abstain', 'abstained', 'abstainer', 'abstains', 'abstinence', 'abstract', 'abstracted', 'abstraction', 'abstractions', 'abstracts', 'absurd', 'absurdities', 'absurdity', 'absurdum', 'abundance', 'abundantly', 'abuse', 'abusing', 'academic', 'accent', 'accept', 'acceptance', 'accepted', 'accepting', 'access', 'accessed', 'accessible', 'accessory', 'accident', 'accidental', 'accidents', 'accommodate', 'accommodated', 'accommodation', 'accommodations', 'accompanied', 'accompanies', 'accompaniment', 'accompaniments', 'accompany', 'accompanying', 'accomplish', 'accomplished', 'accomplishing', 'accomplishments', 'accord', 'accordance', 'according', 'accordingly', 'accords', 'account', 'accounted', 'accruing', 'accumulate', 'accumulating', 'accumulation', 'accumulations', 'accuracy', 'accurate', 'accursed', 'accusation', 'accusations', 'accuse', 'accused', 'accuser', 'accustomed', 'accustoming']\n",
      "\n",
      "Clean vocabulary size: 10175\n"
     ]
    }
   ],
   "source": [
    "import string\n",
    "from nltk.corpus import stopwords\n",
    "nltk.download('stopwords')\n",
    "words = [word.lower() for word in tokens if word.isalpha()] # remove NON ALPHA\n",
    "words = [word for word in words if word not in\n",
    "stopwords.words('english')]\n",
    "vocab_clean = sorted(set(words))\n",
    "print(vocab_clean[:100])\n",
    "print(f\"\\nClean vocabulary size: {len(vocab_clean)}\")"
   ]
  },
  {
   "cell_type": "code",
   "execution_count": null,
   "id": "2461f6dc-7f89-4017-b45f-59aec01e98e2",
   "metadata": {},
   "outputs": [],
   "source": []
  }
 ],
 "metadata": {
  "kernelspec": {
   "display_name": "Python 3 (ipykernel)",
   "language": "python",
   "name": "python3"
  },
  "language_info": {
   "codemirror_mode": {
    "name": "ipython",
    "version": 3
   },
   "file_extension": ".py",
   "mimetype": "text/x-python",
   "name": "python",
   "nbconvert_exporter": "python",
   "pygments_lexer": "ipython3",
   "version": "3.11.7"
  }
 },
 "nbformat": 4,
 "nbformat_minor": 5
}
