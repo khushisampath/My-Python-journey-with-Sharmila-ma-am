{
 "cells": [
  {
   "cell_type": "code",
   "execution_count": 2,
   "id": "ad3efd13-254d-49e7-88c4-9cc528198593",
   "metadata": {},
   "outputs": [
    {
     "name": "stdout",
     "output_type": "stream",
     "text": [
      "I have a dog.\n",
      "My dog's name is Bruno.\n"
     ]
    }
   ],
   "source": [
    "from pets import describe_pet  # import only one function\n",
    "describe_pet('dog', 'bruno')\n"
   ]
  },
  {
   "cell_type": "code",
   "execution_count": 3,
   "id": "14e5d23e-214a-43a5-8148-70a4f081510b",
   "metadata": {},
   "outputs": [
    {
     "name": "stdout",
     "output_type": "stream",
     "text": [
      "I have a cat.\n",
      "My cat's name is Kitty.\n"
     ]
    }
   ],
   "source": [
    "from pets import describe_pet as dp  # dp is alias\n",
    "dp('cat', 'kitty')\n"
   ]
  },
  {
   "cell_type": "code",
   "execution_count": 4,
   "id": "2182d532-51f2-4925-aeac-495c26487c6c",
   "metadata": {},
   "outputs": [
    {
     "name": "stdout",
     "output_type": "stream",
     "text": [
      "I have a hamster.\n",
      "My hamster's name is Harry.\n"
     ]
    }
   ],
   "source": [
    "import pets as p   # module alias\n",
    "p.describe_pet('hamster', 'harry')\n"
   ]
  },
  {
   "cell_type": "code",
   "execution_count": 5,
   "id": "8d88d389-584a-4025-9b1a-69b15c742fd3",
   "metadata": {},
   "outputs": [
    {
     "name": "stdout",
     "output_type": "stream",
     "text": [
      "I have a dog.\n",
      "My dog's name is Rocky.\n"
     ]
    }
   ],
   "source": [
    "from pets import *   # imports everything\n",
    "describe_pet('dog', 'rocky')\n"
   ]
  },
  {
   "cell_type": "code",
   "execution_count": null,
   "id": "54ed6cd2-7151-4aa7-8e94-6d020cb6b7ee",
   "metadata": {},
   "outputs": [],
   "source": []
  }
 ],
 "metadata": {
  "kernelspec": {
   "display_name": "Python 3 (ipykernel)",
   "language": "python",
   "name": "python3"
  },
  "language_info": {
   "codemirror_mode": {
    "name": "ipython",
    "version": 3
   },
   "file_extension": ".py",
   "mimetype": "text/x-python",
   "name": "python",
   "nbconvert_exporter": "python",
   "pygments_lexer": "ipython3",
   "version": "3.11.7"
  }
 },
 "nbformat": 4,
 "nbformat_minor": 5
}
