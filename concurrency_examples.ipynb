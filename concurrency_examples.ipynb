{
 "cells": [
  {
   "cell_type": "markdown",
   "id": "e1376d18",
   "metadata": {},
   "source": [
    "# Python Concurrency & Parallelism Examples\n",
    "\n",
    "This notebook collects the provided code snippets covering threading, multiprocessing, `concurrent.futures`, `asyncio`, and related topics. Each section contains runnable (or explanatory) cells. Use with caution: some CPU-heavy cells are commented out or contain smaller workloads to avoid long runs inside the notebook."
   ]
  },
  {
   "cell_type": "markdown",
   "id": "e28c6e7c",
   "metadata": {},
   "source": [
    "## Core Concept: The GIL (Global Interpreter Lock)"
   ]
  },
  {
   "cell_type": "code",
   "execution_count": 1,
   "id": "1d2f1270",
   "metadata": {},
   "outputs": [
    {
     "name": "stdout",
     "output_type": "stream",
     "text": [
      "Ran cpu_bound_task once in 0.08679389953613281\n"
     ]
    }
   ],
   "source": [
    "import threading\n",
    "import time\n",
    "\n",
    "def cpu_bound_task(n):\n",
    "    while n > 0:\n",
    "        n -= 1\n",
    "\n",
    "N = 10**6\n",
    "start_time = time.time()\n",
    "cpu_bound_task(N)\n",
    "end_time = time.time()\n",
    "print('Ran cpu_bound_task once in', end_time - start_time)\n"
   ]
  },
  {
   "cell_type": "markdown",
   "id": "fe4f2912",
   "metadata": {},
   "source": [
    "## Part 1: Multithreading - Example"
   ]
  },
  {
   "cell_type": "code",
   "execution_count": 2,
   "id": "65c17769",
   "metadata": {},
   "outputs": [
    {
     "name": "stdout",
     "output_type": "stream",
     "text": [
      "hello from thread\n",
      "hello from thread\n",
      "hello from thread\n"
     ]
    }
   ],
   "source": [
    "import threading\n",
    "\n",
    "def hello():\n",
    "    print('hello from thread')\n",
    "\n",
    "threads = [threading.Thread(target=hello) for _ in range(3)]\n",
    "for t in threads:\n",
    "    t.start()\n",
    "for t in threads:\n",
    "    t.join()\n"
   ]
  },
  {
   "cell_type": "code",
   "execution_count": null,
   "id": "df8b1d12-df5b-455a-a58f-8c7da180982c",
   "metadata": {},
   "outputs": [],
   "source": []
  },
  {
   "cell_type": "code",
   "execution_count": null,
   "id": "841b3688-cd7b-4531-bbbc-ca39bb66b487",
   "metadata": {},
   "outputs": [],
   "source": []
  },
  {
   "cell_type": "code",
   "execution_count": null,
   "id": "c5eea419-1d20-4e48-be81-b5522fe22bdd",
   "metadata": {},
   "outputs": [],
   "source": []
  }
 ],
 "metadata": {
  "kernelspec": {
   "display_name": "Python 3 (ipykernel)",
   "language": "python",
   "name": "python3"
  },
  "language_info": {
   "codemirror_mode": {
    "name": "ipython",
    "version": 3
   },
   "file_extension": ".py",
   "mimetype": "text/x-python",
   "name": "python",
   "nbconvert_exporter": "python",
   "pygments_lexer": "ipython3",
   "version": "3.11.7"
  }
 },
 "nbformat": 4,
 "nbformat_minor": 5
}
