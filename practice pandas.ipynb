{
 "cells": [
  {
   "cell_type": "markdown",
   "id": "b509dae9-d252-418e-a231-cac793fd8133",
   "metadata": {},
   "source": [
    "# KHUSHI KS\n",
    "# 22MIC0041"
   ]
  },
  {
   "cell_type": "code",
   "execution_count": 12,
   "id": "f37e8aef-77c6-4483-bcc8-6af54ef0a622",
   "metadata": {},
   "outputs": [
    {
     "name": "stdout",
     "output_type": "stream",
     "text": [
      "0      1\n",
      "1    2.3\n",
      "2      a\n",
      "3      4\n",
      "4      5\n",
      "dtype: object\n"
     ]
    }
   ],
   "source": [
    "import pandas as pd\n",
    "\n",
    "# Initializing a Series from a list\n",
    "data = [1, 2.3, 'a', 4, 5]\n",
    "series_from_list = pd.Series(data)\n",
    "print(series_from_list)\n"
   ]
  },
  {
   "cell_type": "code",
   "execution_count": 10,
   "id": "4fd6bc75-62c5-41b2-91cb-e67ea40a4c7f",
   "metadata": {},
   "outputs": [
    {
     "name": "stdout",
     "output_type": "stream",
     "text": [
      "      Name  Age  Score\n",
      "0    Alice   23     85\n",
      "1      Bob   25     90\n",
      "2  Charlie   22     78\n",
      "3    David   24     92\n"
     ]
    }
   ],
   "source": [
    "# Creating a DataFrame\n",
    "data = {\n",
    "    'Name': ['Alice', 'Bob', 'Charlie', 'David'],\n",
    "    'Age': [23, 25, 22, 24],\n",
    "    'Score': [85, 90, 78, 92]\n",
    "}\n",
    "\n",
    "df = pd.DataFrame(data)\n",
    "print(df)\n"
   ]
  },
  {
   "cell_type": "code",
   "execution_count": 16,
   "id": "d477ca48-f760-4f14-a754-6376563b0100",
   "metadata": {},
   "outputs": [
    {
     "name": "stdout",
     "output_type": "stream",
     "text": [
      "a     NaN\n",
      "b     8.0\n",
      "c    15.0\n",
      "d     NaN\n",
      "dtype: float64\n"
     ]
    }
   ],
   "source": [
    "#alignment \n",
    "s1 = pd.Series([1, 2, 3], index=[\"a\", \"b\", \"c\"])\n",
    "s2 = pd.Series([4, 5, 6], index=[\"b\", \"c\", \"d\"])\n",
    "print(s1 * s2)\n"
   ]
  },
  {
   "cell_type": "code",
   "execution_count": 17,
   "id": "e934a9dd-22a3-49df-b250-568755af982f",
   "metadata": {},
   "outputs": [
    {
     "name": "stdout",
     "output_type": "stream",
     "text": [
      "0    5\n",
      "1    7\n",
      "2    9\n",
      "dtype: int64\n"
     ]
    }
   ],
   "source": [
    "series_a = pd.Series([1, 2, 3])\n",
    "series_b = pd.Series([4, 5, 6])\n",
    "sum_series = series_a + series_b \n",
    "print(sum_series)\n"
   ]
  },
  {
   "cell_type": "code",
   "execution_count": 6,
   "id": "a2d7a6d4-e9fc-4a38-8965-1494548f7a9c",
   "metadata": {},
   "outputs": [
    {
     "name": "stdout",
     "output_type": "stream",
     "text": [
      "Alphabet  Subject\n",
      "A         Math       90\n",
      "          Science    85\n",
      "B         Math       88\n",
      "          Science    92\n",
      "dtype: int64\n"
     ]
    }
   ],
   "source": [
    "# Creating a MultiIndex Series\n",
    "arrays = [\n",
    "    ['A', 'A', 'B', 'B'],\n",
    "    ['Math', 'Science', 'Math', 'Science']\n",
    "]\n",
    "index = pd.MultiIndex.from_arrays(arrays, names=('Alphabet', 'Subject'))\n",
    "\n",
    "multi_s = pd.Series([90, 85, 88, 92], index=index)\n",
    "print(multi_s)\n"
   ]
  },
  {
   "cell_type": "code",
   "execution_count": null,
   "id": "13efdaf8-b03d-472f-956f-6a9a5852334f",
   "metadata": {},
   "outputs": [],
   "source": [
    "# Creating a MultiIndex Series\n",
    "import pandas as pd  \n",
    "\n",
    "arrays = [\n",
    "    ['A', 'A', 'B', 'B'],   # <-- fixed quotes\n",
    "    ['Math', 'Science', 'Math', 'Science']\n",
    "]\n",
    "\n",
    "index = pd.MultiIndex.from_arrays(arrays, names=('Alphabet', 'Subject'))\n",
    "\n",
    "multi_s = pd.Series([90, 85, 88, 92], index=index)\n",
    "print(multi_s)\n"
   ]
  },
  {
   "cell_type": "code",
   "execution_count": 7,
   "id": "5d361bed-890f-4dfa-b8c6-771e6096205f",
   "metadata": {},
   "outputs": [
    {
     "name": "stdout",
     "output_type": "stream",
     "text": [
      "Alphabet  Subject\n",
      "A         Math       90\n",
      "          Science    85\n",
      "B         Math       88\n",
      "          Science    92\n",
      "dtype: int64\n"
     ]
    }
   ],
   "source": [
    "import pandas as pd  \n",
    "\n",
    "tuples = [('A', 'Math'), ('A', 'Science'), ('B', 'Math'), ('B', 'Science')]\n",
    "index = pd.MultiIndex.from_tuples(tuples, names=('Alphabet', 'Subject'))\n",
    "\n",
    "multi_s = pd.Series([90, 85, 88, 92], index=index)\n",
    "print(multi_s)\n"
   ]
  },
  {
   "cell_type": "code",
   "execution_count": 8,
   "id": "4df4bc0c-e5de-4453-80ed-c2b70e5f60da",
   "metadata": {},
   "outputs": [
    {
     "name": "stdout",
     "output_type": "stream",
     "text": [
      "Alphabet  Subject\n",
      "A         Math       90\n",
      "          Science    85\n",
      "B         Math       88\n",
      "          Science    92\n",
      "dtype: int64\n"
     ]
    }
   ],
   "source": [
    "index = pd.MultiIndex.from_product(\n",
    "    [['A', 'B'], ['Math', 'Science']],\n",
    "    names=('Alphabet', 'Subject')\n",
    ")\n",
    "\n",
    "multi_s = pd.Series([90, 85, 88, 92], index=index)\n",
    "print(multi_s)\n"
   ]
  },
  {
   "cell_type": "code",
   "execution_count": 9,
   "id": "f70e8f13-73e6-4629-af21-1cac4ee90ab6",
   "metadata": {},
   "outputs": [
    {
     "name": "stdout",
     "output_type": "stream",
     "text": [
      "Alphabet  Subject\n",
      "A         Math       90\n",
      "          Science    85\n",
      "B         Math       88\n",
      "          Science    92\n",
      "dtype: int64\n"
     ]
    }
   ],
   "source": [
    "df = pd.DataFrame({\n",
    "    'Alphabet': ['A', 'A', 'B', 'B'],\n",
    "    'Subject': ['Math', 'Science', 'Math', 'Science']\n",
    "})\n",
    "index = pd.MultiIndex.from_frame(df, names=('Alphabet', 'Subject'))\n",
    "\n",
    "multi_s = pd.Series([90, 85, 88, 92], index=index)\n",
    "print(multi_s)\n"
   ]
  },
  {
   "cell_type": "code",
   "execution_count": 1,
   "id": "851dc272-2278-465c-9824-c10cf6c743b1",
   "metadata": {},
   "outputs": [
    {
     "name": "stdout",
     "output_type": "stream",
     "text": [
      "MultiIndex Series from arrays:\n",
      " Alphabet  Subject\n",
      "A         Math       90\n",
      "          Science    85\n",
      "B         Math       88\n",
      "          Science    92\n",
      "dtype: int64 \n",
      "\n",
      "MultiIndex Series from tuples:\n",
      " Alphabet  Subject\n",
      "A         Math       70\n",
      "          Science    75\n",
      "B         Math       80\n",
      "          Science    82\n",
      "dtype: int64 \n",
      "\n",
      "MultiIndex Series from product:\n",
      " Alphabet  Subject\n",
      "A         Math       96\n",
      "          Science    95\n",
      "B         Math       64\n",
      "          Science    86\n",
      "dtype: int64 \n",
      "\n",
      "Access all subjects for 'A':\n",
      " Subject\n",
      "Math       90\n",
      "Science    85\n",
      "dtype: int64 \n",
      "\n",
      "Access specific element (B, Science):\n",
      " 92 \n",
      "\n",
      "Slicing from A to B:\n",
      " Alphabet  Subject\n",
      "A         Math       90\n",
      "          Science    85\n",
      "B         Math       88\n",
      "          Science    92\n",
      "dtype: int64 \n",
      "\n",
      "Partial slice for all Math:\n",
      " Alphabet\n",
      "A    90\n",
      "B    88\n",
      "dtype: int64 \n",
      "\n",
      "Swapping levels:\n",
      " Subject  Alphabet\n",
      "Math     A           90\n",
      "Science  A           85\n",
      "Math     B           88\n",
      "Science  B           92\n",
      "dtype: int64 \n",
      "\n",
      "Reordering levels:\n",
      " Subject  Alphabet\n",
      "Math     A           96\n",
      "Science  A           95\n",
      "Math     B           64\n",
      "Science  B           86\n",
      "dtype: int64 \n",
      "\n",
      "MultiIndex Series constructed automatically:\n",
      " A  X    0.501259\n",
      "   Y    0.382217\n",
      "B  X   -1.062572\n",
      "   Y   -2.640875\n",
      "dtype: float64 \n",
      "\n",
      "DataFrame with MultiIndex automatically:\n",
      "               Score1    Score2\n",
      "Group1 One  0.955279 -0.639985\n",
      "       Two  2.086193 -0.357683\n",
      "Group2 One  0.617727  2.130191\n",
      "       Two -0.035427 -0.996703 \n",
      "\n",
      "Original DataFrame:\n",
      "        Math  Science\n",
      "A one    85       82\n",
      "  two    90       88\n",
      "B one    95       92\n",
      "  two    80       84 \n",
      "\n",
      "Mean by group:\n",
      "    Math  Science\n",
      "A  87.5     85.0\n",
      "B  87.5     88.0 \n",
      "\n",
      "Reindexed to align with original index:\n",
      "        Math  Science\n",
      "A one  87.5     85.0\n",
      "  two  87.5     85.0\n",
      "B one  87.5     88.0\n",
      "  two  87.5     88.0 \n",
      "\n",
      "Cross-section for level 'two':\n",
      "    Math  Science\n",
      "A    90       88\n",
      "B    80       84 \n",
      "\n",
      "Unsorted MultiIndex Series:\n",
      " B  Y   -2.640875\n",
      "A  X    0.501259\n",
      "B  X   -1.062572\n",
      "A  Y    0.382217\n",
      "dtype: float64 \n",
      "\n",
      "Sorted by index:\n",
      " A  X    0.501259\n",
      "   Y    0.382217\n",
      "B  X   -1.062572\n",
      "   Y   -2.640875\n",
      "dtype: float64 \n",
      "\n"
     ]
    },
    {
     "ename": "AttributeError",
     "evalue": "'Index' object has no attribute 'levels'",
     "output_type": "error",
     "traceback": [
      "\u001b[0;31m---------------------------------------------------------------------------\u001b[0m",
      "\u001b[0;31mAttributeError\u001b[0m                            Traceback (most recent call last)",
      "Cell \u001b[0;32mIn[1], line 104\u001b[0m\n\u001b[1;32m    101\u001b[0m \u001b[38;5;28mprint\u001b[39m(\u001b[38;5;124m\"\u001b[39m\u001b[38;5;124mSorted by index:\u001b[39m\u001b[38;5;130;01m\\n\u001b[39;00m\u001b[38;5;124m\"\u001b[39m, unsorted\u001b[38;5;241m.\u001b[39msort_index(), \u001b[38;5;124m\"\u001b[39m\u001b[38;5;130;01m\\n\u001b[39;00m\u001b[38;5;124m\"\u001b[39m)\n\u001b[1;32m    103\u001b[0m sub_df \u001b[38;5;241m=\u001b[39m df_auto[[\u001b[38;5;124m\"\u001b[39m\u001b[38;5;124mScore1\u001b[39m\u001b[38;5;124m\"\u001b[39m]]  \u001b[38;5;66;03m# remove one column\u001b[39;00m\n\u001b[0;32m--> 104\u001b[0m \u001b[38;5;28mprint\u001b[39m(\u001b[38;5;124m\"\u001b[39m\u001b[38;5;124mUnused levels before removing:\u001b[39m\u001b[38;5;130;01m\\n\u001b[39;00m\u001b[38;5;124m\"\u001b[39m, \u001b[43msub_df\u001b[49m\u001b[38;5;241;43m.\u001b[39;49m\u001b[43mcolumns\u001b[49m\u001b[38;5;241;43m.\u001b[39;49m\u001b[43mlevels\u001b[49m, \u001b[38;5;124m\"\u001b[39m\u001b[38;5;130;01m\\n\u001b[39;00m\u001b[38;5;124m\"\u001b[39m)\n\u001b[1;32m    105\u001b[0m \u001b[38;5;28mprint\u001b[39m(\u001b[38;5;124m\"\u001b[39m\u001b[38;5;124mAfter remove_unused_levels:\u001b[39m\u001b[38;5;130;01m\\n\u001b[39;00m\u001b[38;5;124m\"\u001b[39m, sub_df\u001b[38;5;241m.\u001b[39mcolumns\u001b[38;5;241m.\u001b[39mremove_unused_levels()\u001b[38;5;241m.\u001b[39mlevels, \u001b[38;5;124m\"\u001b[39m\u001b[38;5;130;01m\\n\u001b[39;00m\u001b[38;5;124m\"\u001b[39m)\n",
      "\u001b[0;31mAttributeError\u001b[0m: 'Index' object has no attribute 'levels'"
     ]
    }
   ],
   "source": [
    "import pandas as pd\n",
    "import numpy as np\n",
    "\n",
    "# -----------------------------------------------------------\n",
    "# 1. Creating a MultiIndex Series in Different Ways\n",
    "# -----------------------------------------------------------\n",
    "\n",
    "# From arrays\n",
    "arrays = [\n",
    "    [\"A\", \"A\", \"B\", \"B\"],\n",
    "    [\"Math\", \"Science\", \"Math\", \"Science\"]\n",
    "]\n",
    "index = pd.MultiIndex.from_arrays(arrays, names=(\"Alphabet\", \"Subject\"))\n",
    "multi_s = pd.Series([90, 85, 88, 92], index=index)\n",
    "print(\"MultiIndex Series from arrays:\\n\", multi_s, \"\\n\")\n",
    "\n",
    "# From tuples\n",
    "tuples = [\n",
    "    (\"A\", \"Math\"), (\"A\", \"Science\"),\n",
    "    (\"B\", \"Math\"), (\"B\", \"Science\")\n",
    "]\n",
    "index2 = pd.MultiIndex.from_tuples(tuples, names=(\"Alphabet\", \"Subject\"))\n",
    "multi_s2 = pd.Series([70, 75, 80, 82], index=index2)\n",
    "print(\"MultiIndex Series from tuples:\\n\", multi_s2, \"\\n\")\n",
    "\n",
    "# From product (Cartesian product of iterables)\n",
    "iterables = [[\"A\", \"B\"], [\"Math\", \"Science\"]]\n",
    "index3 = pd.MultiIndex.from_product(iterables, names=(\"Alphabet\", \"Subject\"))\n",
    "multi_s3 = pd.Series(np.random.randint(60, 100, size=4), index=index3)\n",
    "print(\"MultiIndex Series from product:\\n\", multi_s3, \"\\n\")\n",
    "\n",
    "# -----------------------------------------------------------\n",
    "# 2. Accessing and Indexing\n",
    "# -----------------------------------------------------------\n",
    "\n",
    "print(\"Access all subjects for 'A':\\n\", multi_s.loc[\"A\"], \"\\n\")\n",
    "print(\"Access specific element (B, Science):\\n\", multi_s.loc[(\"B\", \"Science\")], \"\\n\")\n",
    "\n",
    "# -----------------------------------------------------------\n",
    "# 3. Slicing in MultiIndex\n",
    "# -----------------------------------------------------------\n",
    "\n",
    "print(\"Slicing from A to B:\\n\", multi_s.loc[\"A\":\"B\"], \"\\n\")\n",
    "print(\"Partial slice for all Math:\\n\", multi_s.loc[:, \"Math\"], \"\\n\")\n",
    "\n",
    "# -----------------------------------------------------------\n",
    "# 4. Swapping and Reordering Levels\n",
    "# -----------------------------------------------------------\n",
    "\n",
    "print(\"Swapping levels:\\n\", multi_s.swaplevel(), \"\\n\")\n",
    "print(\"Reordering levels:\\n\", multi_s3.reorder_levels([\"Subject\", \"Alphabet\"]), \"\\n\")\n",
    "\n",
    "# -----------------------------------------------------------\n",
    "# 5. Passing List of Arrays directly to Series / DataFrame\n",
    "# -----------------------------------------------------------\n",
    "\n",
    "multi_s_auto = pd.Series(\n",
    "    np.random.randn(4),\n",
    "    index=pd.MultiIndex.from_arrays([[\"A\", \"A\", \"B\", \"B\"], [\"X\", \"Y\", \"X\", \"Y\"]])\n",
    ")\n",
    "print(\"MultiIndex Series constructed automatically:\\n\", multi_s_auto, \"\\n\")\n",
    "\n",
    "df_auto = pd.DataFrame(\n",
    "    np.random.randn(4, 2),\n",
    "    index=pd.MultiIndex.from_arrays([[\"Group1\", \"Group1\", \"Group2\", \"Group2\"],\n",
    "                                     [\"One\", \"Two\", \"One\", \"Two\"]]),\n",
    "    columns=[\"Score1\", \"Score2\"]\n",
    ")\n",
    "print(\"DataFrame with MultiIndex automatically:\\n\", df_auto, \"\\n\")\n",
    "\n",
    "# -----------------------------------------------------------\n",
    "# 6. Data Alignment and Reindexing\n",
    "# -----------------------------------------------------------\n",
    "\n",
    "df = pd.DataFrame({\n",
    "    \"Math\": [85, 90, 95, 80],\n",
    "    \"Science\": [82, 88, 92, 84]\n",
    "}, index=pd.MultiIndex.from_arrays([[\"A\", \"A\", \"B\", \"B\"], [\"one\", \"two\", \"one\", \"two\"]]))\n",
    "print(\"Original DataFrame:\\n\", df, \"\\n\")\n",
    "\n",
    "# Group by first level and compute mean\n",
    "mean_by_group = df.groupby(level=0).mean()\n",
    "print(\"Mean by group:\\n\", mean_by_group, \"\\n\")\n",
    "\n",
    "# Reindexing with MultiIndex\n",
    "aligned = mean_by_group.reindex(df.index, level=0)\n",
    "print(\"Reindexed to align with original index:\\n\", aligned, \"\\n\")\n",
    "\n",
    "# -----------------------------------------------------------\n",
    "# 7. Using xs() for Cross-Section\n",
    "# -----------------------------------------------------------\n",
    "\n",
    "print(\"Cross-section for level 'two':\\n\", df.xs(\"two\", level=1), \"\\n\")\n",
    "\n",
    "# -----------------------------------------------------------\n",
    "# 8. Sorting and Removing Unused Levels\n",
    "# -----------------------------------------------------------\n",
    "\n",
    "unsorted = multi_s_auto.sample(frac=1)   # shuffle randomly\n",
    "print(\"Unsorted MultiIndex Series:\\n\", unsorted, \"\\n\")\n",
    "print(\"Sorted by index:\\n\", unsorted.sort_index(), \"\\n\")\n",
    "\n",
    "sub_df = df_auto[[\"Score1\"]]  # remove one column\n",
    "print(\"Unused levels before removing:\\n\", sub_df.columns.levels, \"\\n\")\n",
    "print(\"After remove_unused_levels:\\n\", sub_df.columns.remove_unused_levels().levels, \"\\n\")\n"
   ]
  },
  {
   "cell_type": "code",
   "execution_count": 2,
   "id": "38161706-ac2d-473a-9c5e-2b7df94b4b49",
   "metadata": {},
   "outputs": [
    {
     "name": "stdout",
     "output_type": "stream",
     "text": [
      "MultiIndex Series from arrays:\n",
      " Alphabet  Subject\n",
      "A         Math       90\n",
      "          Science    85\n",
      "B         Math       88\n",
      "          Science    92\n",
      "dtype: int64 \n",
      "\n",
      "MultiIndex Series from tuples:\n",
      " Alphabet  Subject\n",
      "A         Math       70\n",
      "          Science    75\n",
      "B         Math       80\n",
      "          Science    82\n",
      "dtype: int64 \n",
      "\n",
      "MultiIndex Series from product:\n",
      " Alphabet  Subject\n",
      "A         Math       76\n",
      "          Science    91\n",
      "B         Math       72\n",
      "          Science    76\n",
      "dtype: int64 \n",
      "\n"
     ]
    }
   ],
   "source": [
    "# Program 1: Creating MultiIndex Series in different ways\n",
    "import pandas as pd\n",
    "import numpy as np\n",
    "\n",
    "# From arrays\n",
    "arrays = [[\"A\", \"A\", \"B\", \"B\"], [\"Math\", \"Science\", \"Math\", \"Science\"]]\n",
    "index = pd.MultiIndex.from_arrays(arrays, names=(\"Alphabet\", \"Subject\"))\n",
    "multi_s = pd.Series([90, 85, 88, 92], index=index)\n",
    "print(\"MultiIndex Series from arrays:\\n\", multi_s, \"\\n\")\n",
    "\n",
    "# From tuples\n",
    "tuples = [(\"A\", \"Math\"), (\"A\", \"Science\"), (\"B\", \"Math\"), (\"B\", \"Science\")]\n",
    "index2 = pd.MultiIndex.from_tuples(tuples, names=(\"Alphabet\", \"Subject\"))\n",
    "multi_s2 = pd.Series([70, 75, 80, 82], index=index2)\n",
    "print(\"MultiIndex Series from tuples:\\n\", multi_s2, \"\\n\")\n",
    "\n",
    "# From product\n",
    "iterables = [[\"A\", \"B\"], [\"Math\", \"Science\"]]\n",
    "index3 = pd.MultiIndex.from_product(iterables, names=(\"Alphabet\", \"Subject\"))\n",
    "multi_s3 = pd.Series(np.random.randint(60, 100, size=4), index=index3)\n",
    "print(\"MultiIndex Series from product:\\n\", multi_s3, \"\\n\")\n"
   ]
  },
  {
   "cell_type": "code",
   "execution_count": 3,
   "id": "b7a184a6-3dbf-4dbc-9460-6a1d07011532",
   "metadata": {},
   "outputs": [
    {
     "name": "stdout",
     "output_type": "stream",
     "text": [
      "Example 1: MultiIndex from arrays\n",
      "                   Score1  Score2\n",
      "Alphabet Subject                \n",
      "A        Math         81      78\n",
      "         Science      50      60\n",
      "B        Math         86      60\n",
      "         Science      94      99 \n",
      "\n",
      "Example 2: MultiIndex from tuples\n",
      "                     Value1    Value2\n",
      "Alphabet Subject                    \n",
      "A        Math    -0.828153 -0.307509\n",
      "         Science -0.009007  0.540696\n",
      "B        Math     0.882202 -0.998638\n",
      "         Science  0.036264  1.168382 \n",
      "\n",
      "Example 3: MultiIndex from product\n",
      "                 Col1  Col2\n",
      "Group  Subject            \n",
      "Group1 Math        2     7\n",
      "       Science     6     8\n",
      "Group2 Math        5     8\n",
      "       Science     4     3 \n",
      "\n",
      "Example 4: MultiIndex created from DataFrame columns\n",
      "                Score\n",
      "Group Subject       \n",
      "A     Math        88\n",
      "      Science     92\n",
      "B     Math        85\n",
      "      Science     90 \n",
      "\n"
     ]
    }
   ],
   "source": [
    "import pandas as pd\n",
    "import numpy as np\n",
    "\n",
    "# ------------------------------------------\n",
    "# Example 1: Creating a MultiIndex directly from arrays\n",
    "# ------------------------------------------\n",
    "arrays = [\n",
    "    [\"A\", \"A\", \"B\", \"B\"],\n",
    "    [\"Math\", \"Science\", \"Math\", \"Science\"]\n",
    "]\n",
    "index = pd.MultiIndex.from_arrays(arrays, names=(\"Alphabet\", \"Subject\"))\n",
    "\n",
    "df1 = pd.DataFrame(\n",
    "    np.random.randint(50, 100, size=(4, 2)),\n",
    "    index=index,\n",
    "    columns=[\"Score1\", \"Score2\"]\n",
    ")\n",
    "print(\"Example 1: MultiIndex from arrays\\n\", df1, \"\\n\")\n",
    "\n",
    "# ------------------------------------------\n",
    "# Example 2: Creating a MultiIndex from tuples\n",
    "# ------------------------------------------\n",
    "tuples = [\n",
    "    (\"A\", \"Math\"),\n",
    "    (\"A\", \"Science\"),\n",
    "    (\"B\", \"Math\"),\n",
    "    (\"B\", \"Science\")\n",
    "]\n",
    "index2 = pd.MultiIndex.from_tuples(tuples, names=(\"Alphabet\", \"Subject\"))\n",
    "\n",
    "df2 = pd.DataFrame(\n",
    "    np.random.randn(4, 2),\n",
    "    index=index2,\n",
    "    columns=[\"Value1\", \"Value2\"]\n",
    ")\n",
    "print(\"Example 2: MultiIndex from tuples\\n\", df2, \"\\n\")\n",
    "\n",
    "# ------------------------------------------\n",
    "# Example 3: Creating a MultiIndex from product\n",
    "# ------------------------------------------\n",
    "index3 = pd.MultiIndex.from_product(\n",
    "    [[\"Group1\", \"Group2\"], [\"Math\", \"Science\"]],\n",
    "    names=(\"Group\", \"Subject\")\n",
    ")\n",
    "\n",
    "df3 = pd.DataFrame(\n",
    "    np.random.randint(1, 10, size=(4, 2)),\n",
    "    index=index3,\n",
    "    columns=[\"Col1\", \"Col2\"]\n",
    ")\n",
    "print(\"Example 3: MultiIndex from product\\n\", df3, \"\\n\")\n",
    "\n",
    "# ------------------------------------------\n",
    "# Example 4: Creating MultiIndex directly from DataFrame\n",
    "# ------------------------------------------\n",
    "data = {\n",
    "    \"Group\": [\"A\", \"A\", \"B\", \"B\"],\n",
    "    \"Subject\": [\"Math\", \"Science\", \"Math\", \"Science\"],\n",
    "    \"Score\": [88, 92, 85, 90]\n",
    "}\n",
    "\n",
    "df4 = pd.DataFrame(data)\n",
    "df4 = df4.set_index([\"Group\", \"Subject\"])  # setting multiple columns as index\n",
    "print(\"Example 4: MultiIndex created from DataFrame columns\\n\", df4, \"\\n\")\n"
   ]
  },
  {
   "cell_type": "code",
   "execution_count": 4,
   "id": "f6a38eff-1311-4b9a-8b44-3fc6c77b6c51",
   "metadata": {},
   "outputs": [
    {
     "name": "stdout",
     "output_type": "stream",
     "text": [
      "Access all subjects for 'A':\n",
      " Subject\n",
      "Math       90\n",
      "Science    85\n",
      "dtype: int64 \n",
      "\n",
      "Access specific element (B, Science):\n",
      " 92 \n",
      "\n"
     ]
    }
   ],
   "source": [
    "#Program 2: Accessing and Indexing\n",
    "# Program 2: Accessing and indexing in MultiIndex Series\n",
    "import pandas as pd\n",
    "\n",
    "arrays = [[\"A\", \"A\", \"B\", \"B\"], [\"Math\", \"Science\", \"Math\", \"Science\"]]\n",
    "index = pd.MultiIndex.from_arrays(arrays, names=(\"Alphabet\", \"Subject\"))\n",
    "multi_s = pd.Series([90, 85, 88, 92], index=index)\n",
    "\n",
    "print(\"Access all subjects for 'A':\\n\", multi_s.loc[\"A\"], \"\\n\")\n",
    "print(\"Access specific element (B, Science):\\n\", multi_s.loc[(\"B\", \"Science\")], \"\\n\")"
   ]
  },
  {
   "cell_type": "code",
   "execution_count": 5,
   "id": "771e00a1-81d0-4846-8626-613a7db21e63",
   "metadata": {},
   "outputs": [
    {
     "name": "stdout",
     "output_type": "stream",
     "text": [
      "Slicing from A to B:\n",
      " Alphabet  Subject\n",
      "A         Math       90\n",
      "          Science    85\n",
      "B         Math       88\n",
      "          Science    92\n",
      "dtype: int64 \n",
      "\n",
      "Partial slice for all Math:\n",
      " Alphabet\n",
      "A    90\n",
      "B    88\n",
      "dtype: int64 \n",
      "\n"
     ]
    }
   ],
   "source": [
    "# Program 3: Slicing in MultiIndex Series\n",
    "import pandas as pd\n",
    "\n",
    "arrays = [[\"A\", \"A\", \"B\", \"B\"], [\"Math\", \"Science\", \"Math\", \"Science\"]]\n",
    "index = pd.MultiIndex.from_arrays(arrays, names=(\"Alphabet\", \"Subject\"))\n",
    "multi_s = pd.Series([90, 85, 88, 92], index=index)\n",
    "\n",
    "print(\"Slicing from A to B:\\n\", multi_s.loc[\"A\":\"B\"], \"\\n\")\n",
    "print(\"Partial slice for all Math:\\n\", multi_s.loc[:, \"Math\"], \"\\n\")\n"
   ]
  },
  {
   "cell_type": "code",
   "execution_count": 6,
   "id": "cc6d0eaf-3c2d-4d0f-bfcc-611ccce40fc7",
   "metadata": {},
   "outputs": [
    {
     "name": "stdout",
     "output_type": "stream",
     "text": [
      "Swapping levels:\n",
      " Subject  Alphabet\n",
      "Math     A           90\n",
      "Science  A           85\n",
      "Math     B           88\n",
      "Science  B           92\n",
      "dtype: int64 \n",
      "\n",
      "Reordering levels:\n",
      " Subject  Alphabet\n",
      "Math     A           90\n",
      "Science  A           85\n",
      "Math     B           88\n",
      "Science  B           92\n",
      "dtype: int64 \n",
      "\n"
     ]
    }
   ],
   "source": [
    "# Program 4: Swapping and reordering levels\n",
    "import pandas as pd\n",
    "\n",
    "arrays = [[\"A\", \"A\", \"B\", \"B\"], [\"Math\", \"Science\", \"Math\", \"Science\"]]\n",
    "index = pd.MultiIndex.from_arrays(arrays, names=(\"Alphabet\", \"Subject\"))\n",
    "multi_s = pd.Series([90, 85, 88, 92], index=index)\n",
    "\n",
    "print(\"Swapping levels:\\n\", multi_s.swaplevel(), \"\\n\")\n",
    "print(\"Reordering levels:\\n\", multi_s.reorder_levels([\"Subject\", \"Alphabet\"]), \"\\n\")\n"
   ]
  },
  {
   "cell_type": "code",
   "execution_count": 7,
   "id": "d3b931bd-d213-4c2d-88c5-27d707e8dc95",
   "metadata": {},
   "outputs": [
    {
     "name": "stdout",
     "output_type": "stream",
     "text": [
      "MultiIndex Series constructed automatically:\n",
      " A  X    0.455204\n",
      "   Y   -1.739523\n",
      "B  X   -0.221556\n",
      "   Y    0.434846\n",
      "dtype: float64 \n",
      "\n",
      "DataFrame with MultiIndex automatically:\n",
      "               Score1    Score2\n",
      "Group1 One  0.911164 -2.439734\n",
      "       Two -2.090144 -1.312084\n",
      "Group2 One  1.507332  0.254842\n",
      "       Two -0.897946 -1.895881 \n",
      "\n"
     ]
    }
   ],
   "source": [
    "# Program 5: Passing arrays directly to create MultiIndex in Series/DataFrame\n",
    "import pandas as pd\n",
    "import numpy as np\n",
    "\n",
    "# Series with automatic MultiIndex\n",
    "multi_s_auto = pd.Series(\n",
    "    np.random.randn(4),\n",
    "    index=pd.MultiIndex.from_arrays([[\"A\", \"A\", \"B\", \"B\"], [\"X\", \"Y\", \"X\", \"Y\"]])\n",
    ")\n",
    "print(\"MultiIndex Series constructed automatically:\\n\", multi_s_auto, \"\\n\")\n",
    "\n",
    "# DataFrame with automatic MultiIndex\n",
    "df_auto = pd.DataFrame(\n",
    "    np.random.randn(4, 2),\n",
    "    index=pd.MultiIndex.from_arrays([[\"Group1\", \"Group1\", \"Group2\", \"Group2\"],\n",
    "                                     [\"One\", \"Two\", \"One\", \"Two\"]]),\n",
    "    columns=[\"Score1\", \"Score2\"]\n",
    ")\n",
    "print(\"DataFrame with MultiIndex automatically:\\n\", df_auto, \"\\n\")\n"
   ]
  },
  {
   "cell_type": "code",
   "execution_count": 8,
   "id": "c85b7867-f214-45bd-883d-7e0663540219",
   "metadata": {},
   "outputs": [
    {
     "name": "stdout",
     "output_type": "stream",
     "text": [
      "Original DataFrame:\n",
      "        Math  Science\n",
      "A one    85       82\n",
      "  two    90       88\n",
      "B one    95       92\n",
      "  two    80       84 \n",
      "\n",
      "Mean by group:\n",
      "    Math  Science\n",
      "A  87.5     85.0\n",
      "B  87.5     88.0 \n",
      "\n",
      "Reindexed to align with original index:\n",
      "        Math  Science\n",
      "A one  87.5     85.0\n",
      "  two  87.5     85.0\n",
      "B one  87.5     88.0\n",
      "  two  87.5     88.0 \n",
      "\n"
     ]
    }
   ],
   "source": [
    "# Program 6: Data alignment and reindexing with MultiIndex\n",
    "import pandas as pd\n",
    "\n",
    "df = pd.DataFrame({\n",
    "    \"Math\": [85, 90, 95, 80],\n",
    "    \"Science\": [82, 88, 92, 84]\n",
    "}, index=pd.MultiIndex.from_arrays([[\"A\", \"A\", \"B\", \"B\"], [\"one\", \"two\", \"one\", \"two\"]]))\n",
    "print(\"Original DataFrame:\\n\", df, \"\\n\")\n",
    "\n",
    "# Group by first level and compute mean\n",
    "mean_by_group = df.groupby(level=0).mean()\n",
    "print(\"Mean by group:\\n\", mean_by_group, \"\\n\")\n",
    "\n",
    "# Reindexing with MultiIndex\n",
    "aligned = mean_by_group.reindex(df.index, level=0)\n",
    "print(\"Reindexed to align with original index:\\n\", aligned, \"\\n\")\n"
   ]
  },
  {
   "cell_type": "code",
   "execution_count": 9,
   "id": "bbc5a1fc-890b-4816-a142-946d5cdfd959",
   "metadata": {},
   "outputs": [
    {
     "name": "stdout",
     "output_type": "stream",
     "text": [
      "Unsorted MultiIndex Series:\n",
      " B  X   -0.701111\n",
      "A  Y    0.922219\n",
      "B  Y    0.972224\n",
      "A  X   -0.097493\n",
      "dtype: float64 \n",
      "\n",
      "Sorted by index:\n",
      " A  X   -0.097493\n",
      "   Y    0.922219\n",
      "B  X   -0.701111\n",
      "   Y    0.972224\n",
      "dtype: float64 \n",
      "\n",
      "Before removing unused levels:\n",
      " [['Score1', 'Score2'], ['X', 'Y']] \n",
      "\n",
      "After removing unused levels:\n",
      " [['Score1'], ['X']] \n",
      "\n"
     ]
    }
   ],
   "source": [
    "# Program 8: Sorting MultiIndex and removing unused levels\n",
    "import pandas as pd\n",
    "import numpy as np\n",
    "\n",
    "# Unsorted MultiIndex Series\n",
    "multi_s = pd.Series(\n",
    "    np.random.randn(4),\n",
    "    index=pd.MultiIndex.from_arrays([[\"B\", \"A\", \"B\", \"A\"], [\"X\", \"Y\", \"Y\", \"X\"]])\n",
    ")\n",
    "print(\"Unsorted MultiIndex Series:\\n\", multi_s, \"\\n\")\n",
    "print(\"Sorted by index:\\n\", multi_s.sort_index(), \"\\n\")\n",
    "\n",
    "# Removing unused levels\n",
    "df = pd.DataFrame(\n",
    "    np.random.randn(4, 2),\n",
    "    index=pd.MultiIndex.from_arrays([[\"Group1\", \"Group1\", \"Group2\", \"Group2\"], [\"One\", \"Two\", \"One\", \"Two\"]]),\n",
    "    columns=pd.MultiIndex.from_arrays([[\"Score1\", \"Score2\"], [\"X\", \"Y\"]])\n",
    ")\n",
    "print(\"Before removing unused levels:\\n\", df.columns.levels, \"\\n\")\n",
    "sub_df = df[[\"Score1\"]]  # drop Score2\n",
    "print(\"After removing unused levels:\\n\", sub_df.columns.remove_unused_levels().levels, \"\\n\")\n"
   ]
  },
  {
   "cell_type": "code",
   "execution_count": null,
   "id": "8bf782bf-c63c-4067-9994-93a2bfead0b1",
   "metadata": {},
   "outputs": [],
   "source": []
  },
  {
   "cell_type": "markdown",
   "id": "fcc4cd29-345b-496e-a540-e3bffca95e78",
   "metadata": {},
   "source": [
    "#Program 1: Creating DataFrames (different ways)\n"
   ]
  },
  {
   "cell_type": "code",
   "execution_count": 10,
   "id": "b62d6f0e-acd5-4b65-86aa-e1e5df9866a4",
   "metadata": {},
   "outputs": [
    {
     "name": "stdout",
     "output_type": "stream",
     "text": [
      "DataFrame from dictionary of lists:\n",
      "       Name  Age  Score\n",
      "0    Alice   24     85\n",
      "1      Bob   27     90\n",
      "2  Charlie   22     88 \n",
      "\n",
      "DataFrame from dictionary of Series:\n",
      "          Math  Science\n",
      "Alice      90       88\n",
      "Bob        80       92\n",
      "Charlie    85       84 \n",
      "\n",
      "DataFrame from NumPy array:\n",
      "    Col1  Col2  Col3\n",
      "0     0     1     2\n",
      "1     3     4     5\n",
      "2     6     7     8 \n",
      "\n"
     ]
    }
   ],
   "source": [
    "#Program 1: Creating DataFrames (different ways)\n",
    "import pandas as pd\n",
    "import numpy as np\n",
    "\n",
    "# ------------------------------------------\n",
    "# 1. From dictionary of lists\n",
    "# ------------------------------------------\n",
    "data1 = {\"Name\": [\"Alice\", \"Bob\", \"Charlie\"],\n",
    "         \"Age\": [24, 27, 22],\n",
    "         \"Score\": [85, 90, 88]}\n",
    "df1 = pd.DataFrame(data1)\n",
    "print(\"DataFrame from dictionary of lists:\\n\", df1, \"\\n\")\n",
    "\n",
    "# ------------------------------------------\n",
    "# 2. From dictionary of Series\n",
    "# ------------------------------------------\n",
    "data2 = {\"Math\": pd.Series([90, 80, 85], index=[\"Alice\", \"Bob\", \"Charlie\"]),\n",
    "         \"Science\": pd.Series([88, 92, 84], index=[\"Alice\", \"Bob\", \"Charlie\"])}\n",
    "df2 = pd.DataFrame(data2)\n",
    "print(\"DataFrame from dictionary of Series:\\n\", df2, \"\\n\")\n",
    "\n",
    "# ------------------------------------------\n",
    "# 3. From NumPy array\n",
    "# ------------------------------------------\n",
    "df3 = pd.DataFrame(np.arange(9).reshape(3, 3),\n",
    "                   columns=[\"Col1\", \"Col2\", \"Col3\"])\n",
    "print(\"DataFrame from NumPy array:\\n\", df3, \"\\n\")\n"
   ]
  },
  {
   "cell_type": "code",
   "execution_count": 11,
   "id": "0bf4c21e-ec87-4ec9-afa2-94e743aafcfa",
   "metadata": {},
   "outputs": [
    {
     "name": "stdout",
     "output_type": "stream",
     "text": [
      "Original DataFrame:\n",
      "       Name  Age  Score\n",
      "0    Alice   24     85\n",
      "1      Bob   27     90\n",
      "2  Charlie   22     88\n",
      "3    David   30     95 \n",
      "\n",
      "Accessing single column (Score):\n",
      " 0    85\n",
      "1    90\n",
      "2    88\n",
      "3    95\n",
      "Name: Score, dtype: int64 \n",
      "\n",
      "Accessing multiple columns:\n",
      "       Name  Age\n",
      "0    Alice   24\n",
      "1      Bob   27\n",
      "2  Charlie   22\n",
      "3    David   30 \n",
      "\n",
      "Access row using loc:\n",
      " Name     Charlie\n",
      "Age           22\n",
      "Score         88\n",
      "Name: 2, dtype: object \n",
      "\n",
      "Access row using iloc:\n",
      " Name     Bob\n",
      "Age       27\n",
      "Score     90\n",
      "Name: 1, dtype: object \n",
      "\n"
     ]
    }
   ],
   "source": [
    "#Program 2: Accessing rows and columns\n",
    "import pandas as pd\n",
    "\n",
    "data = {\"Name\": [\"Alice\", \"Bob\", \"Charlie\", \"David\"],\n",
    "        \"Age\": [24, 27, 22, 30],\n",
    "        \"Score\": [85, 90, 88, 95]}\n",
    "df = pd.DataFrame(data)\n",
    "\n",
    "print(\"Original DataFrame:\\n\", df, \"\\n\")\n",
    "\n",
    "# Access single column\n",
    "print(\"Accessing single column (Score):\\n\", df[\"Score\"], \"\\n\")\n",
    "\n",
    "# Access multiple columns\n",
    "print(\"Accessing multiple columns:\\n\", df[[\"Name\", \"Age\"]], \"\\n\")\n",
    "\n",
    "# Access row by index label\n",
    "print(\"Access row using loc:\\n\", df.loc[2], \"\\n\")\n",
    "\n",
    "# Access row by integer location\n",
    "print(\"Access row using iloc:\\n\", df.iloc[1], \"\\n\")"
   ]
  },
  {
   "cell_type": "code",
   "execution_count": 12,
   "id": "acb8d1c0-1d13-4522-84b2-19d1caf19208",
   "metadata": {},
   "outputs": [
    {
     "name": "stdout",
     "output_type": "stream",
     "text": [
      "Original DataFrame:\n",
      "       Name  Age  Score\n",
      "0    Alice   24     85\n",
      "1      Bob   27     90\n",
      "2  Charlie   22     88\n",
      "3    David   30     95\n",
      "4      Eva   28     89 \n",
      "\n",
      "First three rows:\n",
      "       Name  Age  Score\n",
      "0    Alice   24     85\n",
      "1      Bob   27     90\n",
      "2  Charlie   22     88 \n",
      "\n",
      "Rows 1 to 3:\n",
      "       Name  Age  Score\n",
      "1      Bob   27     90\n",
      "2  Charlie   22     88\n",
      "3    David   30     95 \n",
      "\n",
      "Columns Name and Score:\n",
      "       Name  Score\n",
      "0    Alice     85\n",
      "1      Bob     90\n",
      "2  Charlie     88\n",
      "3    David     95\n",
      "4      Eva     89 \n",
      "\n",
      "Rows where Score > 88:\n",
      "     Name  Age  Score\n",
      "1    Bob   27     90\n",
      "3  David   30     95\n",
      "4    Eva   28     89 \n",
      "\n"
     ]
    }
   ],
   "source": [
    "#Program 3: Indexing and Slicing\n",
    "import pandas as pd\n",
    "\n",
    "data = {\"Name\": [\"Alice\", \"Bob\", \"Charlie\", \"David\", \"Eva\"],\n",
    "        \"Age\": [24, 27, 22, 30, 28],\n",
    "        \"Score\": [85, 90, 88, 95, 89]}\n",
    "df = pd.DataFrame(data)\n",
    "\n",
    "print(\"Original DataFrame:\\n\", df, \"\\n\")\n",
    "\n",
    "# Slicing rows\n",
    "print(\"First three rows:\\n\", df[:3], \"\\n\")\n",
    "\n",
    "# Slicing specific rows using loc\n",
    "print(\"Rows 1 to 3:\\n\", df.loc[1:3], \"\\n\")\n",
    "\n",
    "# Slicing specific columns\n",
    "print(\"Columns Name and Score:\\n\", df.loc[:, [\"Name\", \"Score\"]], \"\\n\")\n",
    "\n",
    "# Conditional selection\n",
    "print(\"Rows where Score > 88:\\n\", df[df[\"Score\"] > 88], \"\\n\")\n"
   ]
  },
  {
   "cell_type": "code",
   "execution_count": 13,
   "id": "5c13d2cc-eb7e-4601-91b2-bf2c23780cee",
   "metadata": {},
   "outputs": [
    {
     "name": "stdout",
     "output_type": "stream",
     "text": [
      "Original DataFrame:\n",
      "       Name  Age\n",
      "0    Alice   24\n",
      "1      Bob   27\n",
      "2  Charlie   22 \n",
      "\n",
      "After adding Score column:\n",
      "       Name  Age  Score\n",
      "0    Alice   24     85\n",
      "1      Bob   27     90\n",
      "2  Charlie   22     88 \n",
      "\n",
      "After updating Age of Bob:\n",
      "       Name  Age  Score\n",
      "0    Alice   24     85\n",
      "1      Bob   28     90\n",
      "2  Charlie   22     88 \n",
      "\n",
      "After deleting Score column:\n",
      "       Name  Age\n",
      "0    Alice   24\n",
      "1      Bob   28\n",
      "2  Charlie   22 \n",
      "\n",
      "After deleting row with index 2:\n",
      "     Name  Age\n",
      "0  Alice   24\n",
      "1    Bob   28 \n",
      "\n"
     ]
    }
   ],
   "source": [
    "#Program 4: Adding, Updating, and Deleting Data\n",
    "import pandas as pd\n",
    "\n",
    "df = pd.DataFrame({\"Name\": [\"Alice\", \"Bob\", \"Charlie\"],\n",
    "                   \"Age\": [24, 27, 22]})\n",
    "print(\"Original DataFrame:\\n\", df, \"\\n\")\n",
    "\n",
    "# Adding new column\n",
    "df[\"Score\"] = [85, 90, 88]\n",
    "print(\"After adding Score column:\\n\", df, \"\\n\")\n",
    "\n",
    "# Updating values\n",
    "df.at[1, \"Age\"] = 28\n",
    "print(\"After updating Age of Bob:\\n\", df, \"\\n\")\n",
    "\n",
    "# Deleting column\n",
    "df = df.drop(\"Score\", axis=1)\n",
    "print(\"After deleting Score column:\\n\", df, \"\\n\")\n",
    "\n",
    "# Deleting row\n",
    "df = df.drop(2, axis=0)\n",
    "print(\"After deleting row with index 2:\\n\", df, \"\\n\")"
   ]
  },
  {
   "cell_type": "code",
   "execution_count": 14,
   "id": "9d71ba17-d9ba-49e5-97c4-a589e51aaf4a",
   "metadata": {},
   "outputs": [
    {
     "name": "stdout",
     "output_type": "stream",
     "text": [
      "Original DataFrame with NaN values:\n",
      "       Name   Age  Score\n",
      "0    Alice  24.0   85.0\n",
      "1      Bob   NaN   90.0\n",
      "2  Charlie  22.0    NaN \n",
      "\n",
      "Detect missing values:\n",
      "     Name    Age  Score\n",
      "0  False  False  False\n",
      "1  False   True  False\n",
      "2  False  False   True \n",
      "\n",
      "Fill missing values:\n",
      "       Name   Age  Score\n",
      "0    Alice  24.0   85.0\n",
      "1      Bob   0.0   90.0\n",
      "2  Charlie  22.0    0.0 \n",
      "\n",
      "Drop rows with missing values:\n",
      "     Name   Age  Score\n",
      "0  Alice  24.0   85.0 \n",
      "\n"
     ]
    }
   ],
   "source": [
    "#Program 5: Handling Missing Data\n",
    "import pandas as pd\n",
    "import numpy as np\n",
    "\n",
    "df = pd.DataFrame({\"Name\": [\"Alice\", \"Bob\", \"Charlie\"],\n",
    "                   \"Age\": [24, np.nan, 22],\n",
    "                   \"Score\": [85, 90, np.nan]})\n",
    "print(\"Original DataFrame with NaN values:\\n\", df, \"\\n\")\n",
    "\n",
    "# Detect missing values\n",
    "print(\"Detect missing values:\\n\", df.isnull(), \"\\n\")\n",
    "\n",
    "# Fill missing values\n",
    "print(\"Fill missing values:\\n\", df.fillna(0), \"\\n\")\n",
    "\n",
    "# Drop rows with missing values\n",
    "print(\"Drop rows with missing values:\\n\", df.dropna(), \"\\n\")\n"
   ]
  },
  {
   "cell_type": "code",
   "execution_count": 15,
   "id": "9a6a8705-30ad-4edc-bc93-ad5c75881c4e",
   "metadata": {},
   "outputs": [
    {
     "name": "stdout",
     "output_type": "stream",
     "text": [
      "DataFrame 1:\n",
      "          Score\n",
      "Alice       85\n",
      "Bob         90\n",
      "Charlie     88 \n",
      "\n",
      "DataFrame 2:\n",
      "        Score\n",
      "Bob       92\n",
      "David     80 \n",
      "\n",
      "Adding df1 and df2:\n",
      "          Score\n",
      "Alice      NaN\n",
      "Bob      182.0\n",
      "Charlie    NaN\n",
      "David      NaN \n",
      "\n",
      "Reindexed DataFrame:\n",
      "          Score\n",
      "Alice       85\n",
      "Bob         90\n",
      "Charlie     88\n",
      "David        0 \n",
      "\n"
     ]
    }
   ],
   "source": [
    "#Program 6: Data Alignment and Reindexing\n",
    "import pandas as pd\n",
    "\n",
    "df1 = pd.DataFrame({\"Score\": [85, 90, 88]}, index=[\"Alice\", \"Bob\", \"Charlie\"])\n",
    "df2 = pd.DataFrame({\"Score\": [92, 80]}, index=[\"Bob\", \"David\"])\n",
    "\n",
    "print(\"DataFrame 1:\\n\", df1, \"\\n\")\n",
    "print(\"DataFrame 2:\\n\", df2, \"\\n\")\n",
    "\n",
    "# Automatic alignment in arithmetic\n",
    "print(\"Adding df1 and df2:\\n\", df1 + df2, \"\\n\")\n",
    "\n",
    "# Reindexing\n",
    "df3 = df1.reindex([\"Alice\", \"Bob\", \"Charlie\", \"David\"], fill_value=0)\n",
    "print(\"Reindexed DataFrame:\\n\", df3, \"\\n\")"
   ]
  },
  {
   "cell_type": "code",
   "execution_count": 16,
   "id": "b4d418a5-614e-410f-817d-9cc874061b92",
   "metadata": {},
   "outputs": [
    {
     "name": "stdout",
     "output_type": "stream",
     "text": [
      "Original DataFrame:\n",
      "       Name  Age  Score\n",
      "0    Alice   24     85\n",
      "1      Bob   27     90\n",
      "2  Charlie   22     88\n",
      "3    David   30     95\n",
      "4      Eva   28     89 \n",
      "\n",
      "Sorted by Score:\n",
      "       Name  Age  Score\n",
      "0    Alice   24     85\n",
      "2  Charlie   22     88\n",
      "4      Eva   28     89\n",
      "1      Bob   27     90\n",
      "3    David   30     95 \n",
      "\n",
      "Average score grouped by Age:\n",
      " Age\n",
      "22    88.0\n",
      "24    85.0\n",
      "27    90.0\n",
      "28    89.0\n",
      "30    95.0\n",
      "Name: Score, dtype: float64 \n",
      "\n"
     ]
    }
   ],
   "source": [
    "#Program 7: Sorting and Grouping\n",
    "import pandas as pd\n",
    "\n",
    "data = {\"Name\": [\"Alice\", \"Bob\", \"Charlie\", \"David\", \"Eva\"],\n",
    "        \"Age\": [24, 27, 22, 30, 28],\n",
    "        \"Score\": [85, 90, 88, 95, 89]}\n",
    "df = pd.DataFrame(data)\n",
    "\n",
    "print(\"Original DataFrame:\\n\", df, \"\\n\")\n",
    "\n",
    "# Sorting by column\n",
    "print(\"Sorted by Score:\\n\", df.sort_values(by=\"Score\"), \"\\n\")\n",
    "\n",
    "# Grouping data\n",
    "grouped = df.groupby(\"Age\")[\"Score\"].mean()\n",
    "print(\"Average score grouped by Age:\\n\", grouped, \"\\n\")\n"
   ]
  },
  {
   "cell_type": "code",
   "execution_count": 18,
   "id": "09e147ec-e7ab-45f1-ab78-0209b6c0c638",
   "metadata": {},
   "outputs": [
    {
     "name": "stdout",
     "output_type": "stream",
     "text": [
      "Grouped Series (just groups, no aggregation):\n",
      " <pandas.core.groupby.generic.SeriesGroupBy object at 0x117b87080> \n",
      "\n",
      "HR group in Series:\n",
      " Alice    50000\n",
      "Bob      55000\n",
      "dtype: int64 \n",
      "\n"
     ]
    }
   ],
   "source": [
    "#Grouping Example\n",
    "#A. Series\n",
    "import pandas as pd\n",
    "\n",
    "# Salary series\n",
    "salary = pd.Series([50000, 55000, 60000, 62000],\n",
    "                   index=[\"Alice\", \"Bob\", \"Charlie\", \"David\"])\n",
    "# Department for each person\n",
    "department = pd.Series([\"HR\", \"HR\", \"IT\", \"IT\"],\n",
    "                       index=[\"Alice\", \"Bob\", \"Charlie\", \"David\"])\n",
    "\n",
    "# Grouping by department (no aggregation yet)\n",
    "grouped_series = salary.groupby(department)\n",
    "print(\"Grouped Series (just groups, no aggregation):\\n\", grouped_series, \"\\n\")\n",
    "\n",
    "# You can access a group\n",
    "print(\"HR group in Series:\\n\", grouped_series.get_group(\"HR\"), \"\\n\")"
   ]
  },
  {
   "cell_type": "code",
   "execution_count": 19,
   "id": "95a0bd23-1254-4c87-8a2c-35dd348a22c3",
   "metadata": {},
   "outputs": [
    {
     "name": "stdout",
     "output_type": "stream",
     "text": [
      "Aggregated Series (mean salary per department):\n",
      " HR    52500.0\n",
      "IT    61000.0\n",
      "dtype: float64 \n",
      "\n",
      "Sum per department:\n",
      " HR    105000\n",
      "IT    122000\n",
      "dtype: int64 \n",
      "\n",
      "Max per department:\n",
      " HR    55000\n",
      "IT    62000\n",
      "dtype: int64 \n",
      "\n"
     ]
    }
   ],
   "source": [
    "#Aggregation Example\n",
    "#A. Series\n",
    "# Aggregation on grouped Series\n",
    "# Compute mean salary per department\n",
    "aggregated_series = grouped_series.mean()\n",
    "print(\"Aggregated Series (mean salary per department):\\n\", aggregated_series, \"\\n\")\n",
    "\n",
    "# Other aggregations\n",
    "print(\"Sum per department:\\n\", grouped_series.sum(), \"\\n\")\n",
    "print(\"Max per department:\\n\", grouped_series.max(), \"\\n\")"
   ]
  },
  {
   "cell_type": "code",
   "execution_count": 17,
   "id": "ec77ac0f-3e85-4af8-93e5-939358990879",
   "metadata": {},
   "outputs": [
    {
     "name": "stdout",
     "output_type": "stream",
     "text": [
      "Mean salary by department (Series):\n",
      " HR    52500.0\n",
      "IT    61000.0\n",
      "dtype: float64 \n",
      "\n",
      "Mean salary by department (MultiLevel Series):\n",
      " Dept\n",
      "HR    52500.0\n",
      "IT    61000.0\n",
      "dtype: float64 \n",
      "\n"
     ]
    }
   ],
   "source": [
    "#Example: Grouping and Aggregating for Series / MultiLevel Series\n",
    "import pandas as pd\n",
    "\n",
    "# Single Series\n",
    "salary = pd.Series([50000, 55000, 60000, 62000],\n",
    "                   index=[\"Alice\", \"Bob\", \"Charlie\", \"David\"])\n",
    "department = pd.Series([\"HR\", \"HR\", \"IT\", \"IT\"],\n",
    "                       index=[\"Alice\", \"Bob\", \"Charlie\", \"David\"])\n",
    "\n",
    "# Grouping salaries by department and calculating mean\n",
    "grouped_series = salary.groupby(department).mean()\n",
    "print(\"Mean salary by department (Series):\\n\", grouped_series, \"\\n\")\n",
    "\n",
    "# MultiLevel Series\n",
    "arrays = [\n",
    "    [\"HR\", \"HR\", \"IT\", \"IT\"],\n",
    "    [\"Alice\", \"Bob\", \"Charlie\", \"David\"]\n",
    "]\n",
    "index = pd.MultiIndex.from_arrays(arrays, names=(\"Dept\", \"Employee\"))\n",
    "multi_s = pd.Series([50000, 55000, 60000, 62000], index=index)\n",
    "\n",
    "# Group by first level (Dept)\n",
    "grouped_multi = multi_s.groupby(level=0).mean()\n",
    "print(\"Mean salary by department (MultiLevel Series):\\n\", grouped_multi, \"\\n\")"
   ]
  },
  {
   "cell_type": "code",
   "execution_count": 20,
   "id": "33c01d76-0fd0-4f8c-bd1a-c6b78015374f",
   "metadata": {},
   "outputs": [
    {
     "name": "stdout",
     "output_type": "stream",
     "text": [
      "Grouped DataFrame (just groups, no aggregation):\n",
      " <pandas.core.groupby.generic.DataFrameGroupBy object at 0x11797a5a0> \n",
      "\n",
      "HR group in DataFrame:\n",
      "   Department Employee  Salary\n",
      "0         HR    Alice   50000\n",
      "1         HR      Bob   55000 \n",
      "\n"
     ]
    }
   ],
   "source": [
    "#Grouping (DataFrame)\n",
    "import pandas as pd\n",
    "\n",
    "# DataFrame\n",
    "df = pd.DataFrame({\n",
    "    \"Department\": [\"HR\", \"HR\", \"IT\", \"IT\"],\n",
    "    \"Employee\": [\"Alice\", \"Bob\", \"Charlie\", \"David\"],\n",
    "    \"Salary\": [50000, 55000, 60000, 62000]\n",
    "})\n",
    "\n",
    "# Grouping by Department\n",
    "grouped_df = df.groupby(\"Department\")\n",
    "print(\"Grouped DataFrame (just groups, no aggregation):\\n\", grouped_df, \"\\n\")\n",
    "\n",
    "# Accessing one group\n",
    "print(\"HR group in DataFrame:\\n\", grouped_df.get_group(\"HR\"), \"\\n\")"
   ]
  },
  {
   "cell_type": "code",
   "execution_count": 21,
   "id": "d5797d50-b7e4-4078-b2af-bc46b2abdd95",
   "metadata": {},
   "outputs": [
    {
     "name": "stdout",
     "output_type": "stream",
     "text": [
      "Aggregated DataFrame (mean salary per department):\n",
      " Department\n",
      "HR    52500.0\n",
      "IT    61000.0\n",
      "Name: Salary, dtype: float64 \n",
      "\n",
      "Aggregated DataFrame (multiple stats):\n",
      "              Salary               \n",
      "               mean     sum    max\n",
      "Department                        \n",
      "HR          52500.0  105000  55000\n",
      "IT          61000.0  122000  62000 \n",
      "\n"
     ]
    }
   ],
   "source": [
    "# Aggregating DataFrame \n",
    "# Aggregation on grouped DataFrame\n",
    "# Compute mean salary per department\n",
    "aggregated_df = grouped_df[\"Salary\"].mean()\n",
    "print(\"Aggregated DataFrame (mean salary per department):\\n\", aggregated_df, \"\\n\")\n",
    "\n",
    "# Multiple aggregations on DataFrame\n",
    "multi_agg_df = grouped_df.agg({\n",
    "    \"Salary\": [\"mean\", \"sum\", \"max\"]\n",
    "})\n",
    "print(\"Aggregated DataFrame (multiple stats):\\n\", multi_agg_df, \"\\n\")"
   ]
  },
  {
   "cell_type": "code",
   "execution_count": 22,
   "id": "a21249ab-97a5-474f-b5cc-52a120a3b079",
   "metadata": {},
   "outputs": [
    {
     "name": "stdout",
     "output_type": "stream",
     "text": [
      "Original DataFrame:\n",
      "   Department Employee  Salary  Bonus\n",
      "0         HR    Alice   50000   5000\n",
      "1         HR      Bob   55000   6000\n",
      "2         IT  Charlie   60000   7000\n",
      "3         IT    David   62000   8000\n",
      "4         HR      Eva   58000   5500\n",
      "5         IT    Frank   61000   7500 \n",
      "\n",
      "Groups formed:\n",
      " {'HR': [0, 1, 4], 'IT': [2, 3, 5]} \n",
      "\n",
      "HR group:\n",
      "   Department Employee  Salary  Bonus\n",
      "0         HR    Alice   50000   5000\n",
      "1         HR      Bob   55000   6000\n",
      "4         HR      Eva   58000   5500 \n",
      "\n",
      "Mean Salary per Department:\n",
      " Department\n",
      "HR    54333.333333\n",
      "IT    61000.000000\n",
      "Name: Salary, dtype: float64 \n",
      "\n",
      "Aggregated stats per Department:\n",
      "                   Salary                Bonus        \n",
      "                    mean    max    min    sum    mean\n",
      "Department                                           \n",
      "HR          54333.333333  58000  50000  16500  5500.0\n",
      "IT          61000.000000  62000  60000  22500  7500.0 \n",
      "\n",
      "Departments with mean salary > 55000:\n",
      "   Department Employee  Salary  Bonus\n",
      "2         IT  Charlie   60000   7000\n",
      "3         IT    David   62000   8000\n",
      "5         IT    Frank   61000   7500 \n",
      "\n"
     ]
    }
   ],
   "source": [
    "import pandas as pd\n",
    "\n",
    "# ------------------------------------------\n",
    "# Sample DataFrame\n",
    "# ------------------------------------------\n",
    "df = pd.DataFrame({\n",
    "    \"Department\": [\"HR\", \"HR\", \"IT\", \"IT\", \"HR\", \"IT\"],\n",
    "    \"Employee\": [\"Alice\", \"Bob\", \"Charlie\", \"David\", \"Eva\", \"Frank\"],\n",
    "    \"Salary\": [50000, 55000, 60000, 62000, 58000, 61000],\n",
    "    \"Bonus\": [5000, 6000, 7000, 8000, 5500, 7500]\n",
    "})\n",
    "\n",
    "print(\"Original DataFrame:\\n\", df, \"\\n\")\n",
    "\n",
    "# ------------------------------------------\n",
    "# Grouping by Department (no aggregation yet)\n",
    "# ------------------------------------------\n",
    "grouped = df.groupby(\"Department\")\n",
    "print(\"Groups formed:\\n\", grouped.groups, \"\\n\")\n",
    "\n",
    "# Access a specific group\n",
    "print(\"HR group:\\n\", grouped.get_group(\"HR\"), \"\\n\")\n",
    "\n",
    "# ------------------------------------------\n",
    "# Aggregating after grouping\n",
    "# ------------------------------------------\n",
    "# 1. Single aggregation function (mean salary)\n",
    "mean_salary = grouped[\"Salary\"].mean()\n",
    "print(\"Mean Salary per Department:\\n\", mean_salary, \"\\n\")\n",
    "\n",
    "# 2. Multiple aggregation functions\n",
    "agg_stats = grouped.agg({\n",
    "    \"Salary\": [\"mean\", \"max\", \"min\"],\n",
    "    \"Bonus\": [\"sum\", \"mean\"]\n",
    "})\n",
    "print(\"Aggregated stats per Department:\\n\", agg_stats, \"\\n\")\n",
    "\n",
    "# ------------------------------------------\n",
    "# Optional: filtering groups (e.g., mean salary > 55000)\n",
    "# ------------------------------------------\n",
    "high_salary_dept = grouped.filter(lambda x: x[\"Salary\"].mean() > 55000)\n",
    "print(\"Departments with mean salary > 55000:\\n\", high_salary_dept, \"\\n\")\n"
   ]
  },
  {
   "cell_type": "markdown",
   "id": "3c4df9c8-840d-4236-a06d-b3b73b46b0f4",
   "metadata": {},
   "source": [
    "Difference between grouping/ aggregating in series and dataframes\n",
    "#In grouping, a Series can be grouped only by another Series or index level, while a DataFrame can be grouped by one or more columns.\n",
    "\n",
    "Series aggregation operates on a single column and returns a Series, whereas DataFrame aggregation can operate on multiple columns and return a DataFrame.\n",
    "\n",
    "Series is simpler and suitable for single-column data, while DataFrame is more powerful for handling complex, multi-column datasets."
   ]
  },
  {
   "cell_type": "code",
   "execution_count": 25,
   "id": "32bf69ec-9486-4ac9-95ac-6d01723b0948",
   "metadata": {},
   "outputs": [],
   "source": [
    "#series\n",
    "import pandas as pd\n",
    "salary = pd.Series([50000, 55000, 60000, 62000], index=[\"Alice\",\"Bob\",\"Charlie\",\"David\"])\n",
    "department = pd.Series([\"HR\",\"HR\",\"IT\",\"IT\"], index=[\"Alice\",\"Bob\",\"Charlie\",\"David\"])\n",
    "\n",
    "grouped_series = salary.groupby(department)\n"
   ]
  },
  {
   "cell_type": "code",
   "execution_count": 26,
   "id": "f1de13bb-68db-47f2-831b-a938ae3e0d06",
   "metadata": {},
   "outputs": [],
   "source": [
    "#data frames\n",
    "df = pd.DataFrame({\n",
    "    \"Department\":[\"HR\",\"HR\",\"IT\",\"IT\"],\n",
    "    \"Employee\":[\"Alice\",\"Bob\",\"Charlie\",\"David\"],\n",
    "    \"Salary\":[50000,55000,60000,62000]\n",
    "})\n",
    "\n",
    "grouped_df = df.groupby(\"Department\")\n"
   ]
  },
  {
   "cell_type": "code",
   "execution_count": 27,
   "id": "6c63ad38-af55-4cdf-9c67-7a5b29bc52fe",
   "metadata": {},
   "outputs": [
    {
     "name": "stdout",
     "output_type": "stream",
     "text": [
      "Grouped Series (no aggregation):\n",
      "HR: [50000 55000]\n",
      "IT: [60000 62000]\n",
      "\n",
      "Aggregated Series (mean salary per department):\n",
      "HR    52500.0\n",
      "IT    61000.0\n",
      "dtype: float64\n",
      "\n",
      "==================================================\n",
      "\n",
      "Grouped DataFrame (no aggregation):\n",
      "HR group:\n",
      "  Department Employee  Salary  Bonus\n",
      "0         HR    Alice   50000   5000\n",
      "1         HR      Bob   55000   6000\n",
      "\n",
      "IT group:\n",
      "  Department Employee  Salary  Bonus\n",
      "2         IT  Charlie   60000   7000\n",
      "3         IT    David   62000   8000\n",
      "\n",
      "Aggregated DataFrame (Salary and Bonus stats per Department):\n",
      "             Salary           Bonus       \n",
      "               mean     sum    mean    sum\n",
      "Department                                \n",
      "HR          52500.0  105000  5500.0  11000\n",
      "IT          61000.0  122000  7500.0  15000\n"
     ]
    }
   ],
   "source": [
    "import pandas as pd\n",
    "\n",
    "# ------------------------------------------\n",
    "# 1. Series Example\n",
    "# ------------------------------------------\n",
    "salary_series = pd.Series([50000, 55000, 60000, 62000],\n",
    "                          index=[\"Alice\", \"Bob\", \"Charlie\", \"David\"])\n",
    "department_series = pd.Series([\"HR\", \"HR\", \"IT\", \"IT\"],\n",
    "                              index=[\"Alice\", \"Bob\", \"Charlie\", \"David\"])\n",
    "\n",
    "# Grouping (creates groups, no aggregation yet)\n",
    "grouped_series = salary_series.groupby(department_series)\n",
    "print(\"Grouped Series (no aggregation):\")\n",
    "for dept, group in grouped_series:\n",
    "    print(f\"{dept}: {group.values}\")\n",
    "print()\n",
    "\n",
    "# Aggregating (mean per department)\n",
    "aggregated_series = grouped_series.mean()\n",
    "print(\"Aggregated Series (mean salary per department):\")\n",
    "print(aggregated_series)\n",
    "print(\"\\n\" + \"=\"*50 + \"\\n\")\n",
    "\n",
    "# ------------------------------------------\n",
    "# 2. DataFrame Example\n",
    "# ------------------------------------------\n",
    "df = pd.DataFrame({\n",
    "    \"Department\": [\"HR\", \"HR\", \"IT\", \"IT\"],\n",
    "    \"Employee\": [\"Alice\", \"Bob\", \"Charlie\", \"David\"],\n",
    "    \"Salary\": [50000, 55000, 60000, 62000],\n",
    "    \"Bonus\": [5000, 6000, 7000, 8000]\n",
    "})\n",
    "\n",
    "# Grouping by Department (creates groups)\n",
    "grouped_df = df.groupby(\"Department\")\n",
    "print(\"Grouped DataFrame (no aggregation):\")\n",
    "for dept, group in grouped_df:\n",
    "    print(f\"{dept} group:\\n{group}\\n\")\n",
    "\n",
    "# Aggregating (mean and sum for numeric columns)\n",
    "aggregated_df = grouped_df.agg({\n",
    "    \"Salary\": [\"mean\", \"sum\"],\n",
    "    \"Bonus\": [\"mean\", \"sum\"]\n",
    "})\n",
    "print(\"Aggregated DataFrame (Salary and Bonus stats per Department):\")\n",
    "print(aggregated_df)\n"
   ]
  },
  {
   "cell_type": "code",
   "execution_count": 29,
   "id": "4156c69e-15e6-4082-88bb-2a96254e63a9",
   "metadata": {},
   "outputs": [
    {
     "name": "stdout",
     "output_type": "stream",
     "text": [
      "Inner Merge:\n",
      "   Employee Department  Salary\n",
      "0    Alice         HR   50000\n",
      "1      Bob         IT   60000\n",
      "2  Charlie         HR   55000 \n",
      "\n",
      "Outer Merge:\n",
      "   Employee Department   Salary\n",
      "0    Alice         HR  50000.0\n",
      "1      Bob         IT  60000.0\n",
      "2  Charlie         HR  55000.0\n",
      "3    David         IT      NaN\n",
      "4      Eva        NaN  58000.0 \n",
      "\n"
     ]
    }
   ],
   "source": [
    "#merging DataFRames\n",
    "import pandas as pd\n",
    "\n",
    "# DataFrame 1\n",
    "df1 = pd.DataFrame({\n",
    "    \"Employee\": [\"Alice\", \"Bob\", \"Charlie\", \"David\"],\n",
    "    \"Department\": [\"HR\", \"IT\", \"HR\", \"IT\"]\n",
    "})\n",
    "\n",
    "# DataFrame 2\n",
    "df2 = pd.DataFrame({\n",
    "    \"Employee\": [\"Alice\", \"Bob\", \"Charlie\", \"Eva\"],\n",
    "    \"Salary\": [50000, 60000, 55000, 58000]\n",
    "})\n",
    "\n",
    "# Inner merge (only common employees)\n",
    "inner_merge = pd.merge(df1, df2, on=\"Employee\", how=\"inner\")\n",
    "print(\"Inner Merge:\\n\", inner_merge, \"\\n\")\n",
    "\n",
    "# Outer merge (all employees)\n",
    "outer_merge = pd.merge(df1, df2, on=\"Employee\", how=\"outer\")\n",
    "print(\"Outer Merge:\\n\", outer_merge, \"\\n\")\n"
   ]
  },
  {
   "cell_type": "code",
   "execution_count": 30,
   "id": "fb8c7831-fe38-4610-a294-4a4e44e1a347",
   "metadata": {},
   "outputs": [
    {
     "name": "stdout",
     "output_type": "stream",
     "text": [
      "Merge on different keys:\n",
      "    EmpID     Name  EmployeeID  Salary\n",
      "0      2      Bob           2   60000\n",
      "1      3  Charlie           3   55000\n"
     ]
    }
   ],
   "source": [
    "#Merging on different key columns\n",
    "\n",
    "#You can merge two DataFrames using different column names in each DataFrame by using left_on and right_on.\n",
    "\n",
    "#Example:\n",
    "\n",
    "import pandas as pd\n",
    "\n",
    "df1 = pd.DataFrame({\n",
    "    \"EmpID\": [1, 2, 3],\n",
    "    \"Name\": [\"Alice\", \"Bob\", \"Charlie\"]\n",
    "})\n",
    "\n",
    "df2 = pd.DataFrame({\n",
    "    \"EmployeeID\": [2, 3, 4],\n",
    "    \"Salary\": [60000, 55000, 58000]\n",
    "})\n",
    "\n",
    "# Merge using different column names\n",
    "merged_df = pd.merge(df1, df2, left_on=\"EmpID\", right_on=\"EmployeeID\", how=\"inner\")\n",
    "print(\"Merge on different keys:\\n\", merged_df)\n"
   ]
  },
  {
   "cell_type": "code",
   "execution_count": 32,
   "id": "12aa2578-92e0-4099-a73e-d5a59cbaad5a",
   "metadata": {},
   "outputs": [
    {
     "name": "stdout",
     "output_type": "stream",
     "text": [
      "Merge with custom suffixes:\n",
      "   Employee  Salary_Old  Salary_New\n",
      "0    Alice     50000.0         NaN\n",
      "1      Bob     60000.0     65000.0\n",
      "2  Charlie         NaN     55000.0\n"
     ]
    }
   ],
   "source": [
    "#Handling overlapping column names\n",
    "\n",
    "#If both DataFrames have columns with the same name other than the key, Pandas automatically adds suffixes: _x and _y.\n",
    "\n",
    "#You can customize suffixes using the suffixes parameter.\n",
    "\n",
    "df1 = pd.DataFrame({\n",
    "    \"Employee\": [\"Alice\", \"Bob\"],\n",
    "    \"Salary\": [50000, 60000]\n",
    "})\n",
    "\n",
    "df2 = pd.DataFrame({\n",
    "    \"Employee\": [\"Bob\", \"Charlie\"],\n",
    "    \"Salary\": [65000, 55000]\n",
    "})\n",
    "\n",
    "# Merge with custom suffixes\n",
    "merged_df = pd.merge(df1, df2, on=\"Employee\", how=\"outer\", suffixes=(\"_Old\", \"_New\"))\n",
    "print(\"Merge with custom suffixes:\\n\", merged_df)"
   ]
  },
  {
   "cell_type": "code",
   "execution_count": 31,
   "id": "aaed49da-0ce9-4d19-a0cc-1ec85f23b9c9",
   "metadata": {},
   "outputs": [
    {
     "name": "stdout",
     "output_type": "stream",
     "text": [
      "Merge using indexes:\n",
      "        Salary Department\n",
      "Alice   50000         HR\n",
      "Bob     60000         IT\n"
     ]
    }
   ],
   "source": [
    "#Merging using indexes\n",
    "\n",
    "#Instead of merging on columns, you can merge using the row index with left_index=True and right_index=True.\n",
    "\n",
    "df1 = pd.DataFrame({\"Salary\": [50000, 60000]}, index=[\"Alice\", \"Bob\"])\n",
    "df2 = pd.DataFrame({\"Department\": [\"HR\", \"IT\"]}, index=[\"Alice\", \"Bob\"])\n",
    "\n",
    "# Merge using index\n",
    "merged_index_df = pd.merge(df1, df2, left_index=True, right_index=True)\n",
    "print(\"Merge using indexes:\\n\", merged_index_df)\n"
   ]
  },
  {
   "cell_type": "markdown",
   "id": "fcb0cae7-4842-4528-aea8-944208f20222",
   "metadata": {},
   "source": [
    "#Summary table\n",
    "df.pivot_table(values='NumericColumn', index='RowCategory', columns='ColumnCategory', aggfunc='mean')\n",
    "values → numeric column to summarize\n",
    "\n",
    "index → row labels\n",
    "\n",
    "columns → column labels (optional)\n",
    "\n",
    "aggfunc → aggregation function (mean, sum, count, etc.)"
   ]
  },
  {
   "cell_type": "code",
   "execution_count": 33,
   "id": "134fd3fb-9c30-491a-a922-eb4511174c52",
   "metadata": {},
   "outputs": [
    {
     "name": "stdout",
     "output_type": "stream",
     "text": [
      "Team              A        B\n",
      "Department                  \n",
      "HR          50000.0  55000.0\n",
      "IT          60000.0  62000.0\n"
     ]
    }
   ],
   "source": [
    "#Summary Tables \n",
    "df = pd.DataFrame({\n",
    "    \"Department\": [\"HR\",\"HR\",\"IT\",\"IT\"],\n",
    "    \"Team\": [\"A\",\"B\",\"A\",\"B\"],\n",
    "    \"Salary\": [50000,55000,60000,62000]\n",
    "})\n",
    "summary = df.pivot_table(values=\"Salary\", index=\"Department\", columns=\"Team\", aggfunc=\"mean\")\n",
    "print(summary)\n"
   ]
  },
  {
   "cell_type": "code",
   "execution_count": 34,
   "id": "4dafd903-ff64-4c53-8ecd-9ff1b6e77c4f",
   "metadata": {},
   "outputs": [
    {
     "name": "stdout",
     "output_type": "stream",
     "text": [
      "Summary Table (Average Salary):\n",
      " Team              A        B\n",
      "Department                  \n",
      "HR          54000.0  55000.0\n",
      "IT          60000.0  61500.0\n"
     ]
    }
   ],
   "source": [
    "# summary table pivot table\n",
    "import pandas as pd\n",
    "\n",
    "df = pd.DataFrame({\n",
    "    \"Department\": [\"HR\", \"HR\", \"IT\", \"IT\", \"HR\", \"IT\"],\n",
    "    \"Team\": [\"A\", \"B\", \"A\", \"B\", \"A\", \"B\"],\n",
    "    \"Salary\": [50000, 55000, 60000, 62000, 58000, 61000]\n",
    "})\n",
    "\n",
    "# Pivot table: average salary by Department and Team\n",
    "summary_table = df.pivot_table(values=\"Salary\", index=\"Department\", columns=\"Team\", aggfunc=\"mean\")\n",
    "print(\"Summary Table (Average Salary):\\n\", summary_table)\n"
   ]
  },
  {
   "cell_type": "code",
   "execution_count": 35,
   "id": "8069fcb9-4956-46fd-b815-247f02dce79d",
   "metadata": {},
   "outputs": [
    {
     "name": "stdout",
     "output_type": "stream",
     "text": [
      "Pivot Table with Multiple Aggregations:\n",
      "                mean              sum            max       \n",
      "Team              A        B       A       B      A      B\n",
      "Department                                                \n",
      "HR          54000.0  55000.0  108000   55000  58000  55000\n",
      "IT          60000.0  61500.0   60000  123000  60000  62000\n"
     ]
    }
   ],
   "source": [
    "#Pivot Table with Multiple Aggregation Functions\n",
    "\n",
    "#You can apply more than one aggregation function at once using a list:\n",
    "\n",
    "summary_table_multi = df.pivot_table(\n",
    "    values=\"Salary\",\n",
    "    index=\"Department\",\n",
    "    columns=\"Team\",\n",
    "    aggfunc=[\"mean\", \"sum\", \"max\"]\n",
    ")\n",
    "print(\"Pivot Table with Multiple Aggregations:\\n\", summary_table_multi)"
   ]
  },
  {
   "cell_type": "code",
   "execution_count": 36,
   "id": "02b7244c-29a4-4623-919a-307d8bd22b57",
   "metadata": {},
   "outputs": [
    {
     "name": "stdout",
     "output_type": "stream",
     "text": [
      "Pivot Table with Missing Values Filled:\n",
      " Team              A        B\n",
      "Department                  \n",
      "HR          54000.0  55000.0\n",
      "IT          60000.0  61500.0\n"
     ]
    }
   ],
   "source": [
    "#Handling Missing Data\n",
    "\n",
    "#Pivot tables automatically fill missing combinations with NaN.\n",
    "\n",
    "#You can replace missing values with fill_value:\n",
    "\n",
    "summary_table_fill = df.pivot_table(\n",
    "    values=\"Salary\",\n",
    "    index=\"Department\",\n",
    "    columns=\"Team\",\n",
    "    aggfunc=\"mean\",\n",
    "    fill_value=0\n",
    ")\n",
    "print(\"Pivot Table with Missing Values Filled:\\n\", summary_table_fill)\n"
   ]
  },
  {
   "cell_type": "code",
   "execution_count": 37,
   "id": "5cd11c9f-3a54-47cf-9000-1fda8c61f12f",
   "metadata": {},
   "outputs": [
    {
     "name": "stdout",
     "output_type": "stream",
     "text": [
      "Equivalent using groupby + unstack:\n",
      " Team              A        B\n",
      "Department                  \n",
      "HR          54000.0  55000.0\n",
      "IT          60000.0  61500.0\n"
     ]
    }
   ],
   "source": [
    "#Grouping vs Pivot Tables\n",
    "\n",
    "#Pivot tables are essentially groupby + aggregation + reshape in one step.\n",
    "\n",
    "#They are easier to read when summarizing across two categorical variables.\n",
    "\n",
    "# Equivalent using groupby\n",
    "grouped = df.groupby([\"Department\", \"Team\"])[\"Salary\"].mean().unstack()\n",
    "print(\"Equivalent using groupby + unstack:\\n\", grouped)"
   ]
  },
  {
   "cell_type": "code",
   "execution_count": null,
   "id": "c79d5cff-11d2-4529-9dc2-ddd365ceb2a3",
   "metadata": {},
   "outputs": [],
   "source": []
  }
 ],
 "metadata": {
  "kernelspec": {
   "display_name": "Python 3 (ipykernel)",
   "language": "python",
   "name": "python3"
  },
  "language_info": {
   "codemirror_mode": {
    "name": "ipython",
    "version": 3
   },
   "file_extension": ".py",
   "mimetype": "text/x-python",
   "name": "python",
   "nbconvert_exporter": "python",
   "pygments_lexer": "ipython3",
   "version": "3.13.5"
  }
 },
 "nbformat": 4,
 "nbformat_minor": 5
}
