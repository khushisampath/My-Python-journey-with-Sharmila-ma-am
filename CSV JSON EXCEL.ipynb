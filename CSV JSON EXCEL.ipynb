{
 "cells": [
  {
   "cell_type": "markdown",
   "id": "ae2c8a51",
   "metadata": {},
   "source": [
    "# 22MIC0041\n",
    "# KHUSHI KS\n",
    "# CSV, JSON & Excel Examples\n",
    "\n",
    "\n",
    "**Contents**\n",
    "\n",
    "1. Writing CSV with `csv.writer()`\n",
    "2. Get Absolute Path of File\n",
    "3. Writing Rows One by One\n",
    "4. Writing Multiple Rows with `writerows()`\n",
    "5. Writing CSV with `csv.DictWriter()`\n",
    "6. Reading CSV with `csv.reader()`\n",
    "7. Appending Data to CSV\n",
    "8. Handling CSV with Pandas\n",
    "9. JSON Handling: `dump()`, `load()`, `dumps()`, `loads()`\n",
    "10. Handling JSON with Pandas\n",
    "11. Reading Excel with `openpyxl`\n",
    "12. Writing to Excel with `openpyxl`\n",
    "13. Writing Formulas with `openpyxl`\n",
    "14. Formatting Cells with `openpyxl`\n",
    "15. Handling Excel with Pandas\n",
    "\n",
    "---\n"
   ]
  },
  {
   "cell_type": "markdown",
   "id": "3db26c16",
   "metadata": {},
   "source": [
    "## 1. Writing CSV with `csv.writer()`"
   ]
  },
  {
   "cell_type": "code",
   "execution_count": 1,
   "id": "d32551de",
   "metadata": {},
   "outputs": [
    {
     "name": "stdout",
     "output_type": "stream",
     "text": [
      "CSV file created successfully!\n"
     ]
    }
   ],
   "source": [
    "import csv\n",
    "\n",
    "data = [\n",
    "    [\"Name\", \"Age\", \"Parents Income\"],\n",
    "    [\"Arun\", 21, \"5L\"],\n",
    "    [\"Priya\", 22, \"9.2L\"],\n",
    "    [\"Kiran\", 20, \"7.5L\"]\n",
    "]\n",
    "\n",
    "with open(\"students.csv\", \"w\", newline=\"\") as file:\n",
    "    writer = csv.writer(file)\n",
    "    writer.writerows(data)\n",
    "\n",
    "print(\"CSV file created successfully!\")"
   ]
  },
  {
   "cell_type": "code",
   "execution_count": 19,
   "id": "de8f965e-e674-4bfa-985e-0e362a317aab",
   "metadata": {},
   "outputs": [
    {
     "name": "stdout",
     "output_type": "stream",
     "text": [
      "      Name  Age  Marks\n",
      "0     Arun   21     85\n",
      "1    Priya   22     90\n",
      "2    Kiran   20     78\n",
      "3  William   28     92\n"
     ]
    }
   ],
   "source": [
    "df_final = pd.read_csv(\"students.csv\")\n",
    "print(df_final)"
   ]
  },
  {
   "cell_type": "markdown",
   "id": "ef797ca8",
   "metadata": {},
   "source": [
    "## 2. Get Absolute Path of File"
   ]
  },
  {
   "cell_type": "code",
   "execution_count": 2,
   "id": "27f389e4",
   "metadata": {},
   "outputs": [
    {
     "name": "stdout",
     "output_type": "stream",
     "text": [
      "The absolute path of 'students.csv' is: C:\\Users\\femal\\Downloads\\students.csv\n"
     ]
    }
   ],
   "source": [
    "import os\n",
    "\n",
    "absolute_path = os.path.abspath(\"students.csv\")\n",
    "print(f\"The absolute path of 'students.csv' is: {absolute_path}\")"
   ]
  },
  {
   "cell_type": "markdown",
   "id": "f5911049",
   "metadata": {},
   "source": [
    "## 3. Writing Rows One by One"
   ]
  },
  {
   "cell_type": "code",
   "execution_count": 3,
   "id": "5f02973b",
   "metadata": {},
   "outputs": [],
   "source": [
    "import csv\n",
    "\n",
    "with open('profiles1.csv', 'w', newline='') as file:\n",
    "    writer = csv.writer(file)\n",
    "    field = [\"name\", \"age\", \"country\"]\n",
    "    writer.writerow(field)\n",
    "    writer.writerow([\"Oladele Damilola\", \"40\", \"Nigeria\"])\n",
    "    writer.writerow([\"Alina Hricko\", \"23\", \"Ukraine\"])\n",
    "    writer.writerow([\"Isabel Walter\", \"50\", \"United Kingdom\"])"
   ]
  },
  {
   "cell_type": "code",
   "execution_count": 20,
   "id": "3e3bd039-aa1e-4d69-984e-b2ae384bf1ac",
   "metadata": {},
   "outputs": [
    {
     "name": "stdout",
     "output_type": "stream",
     "text": [
      "               name  age         country\n",
      "0  Oladele Damilola   40         Nigeria\n",
      "1      Alina Hricko   23         Ukraine\n",
      "2     Isabel Walter   50  United Kingdom\n"
     ]
    }
   ],
   "source": [
    "df_final = pd.read_csv(\"profiles1.csv\")\n",
    "print(df_final)"
   ]
  },
  {
   "cell_type": "code",
   "execution_count": 21,
   "id": "4a5d563d-ffb1-42b5-9c10-755eb38cf58f",
   "metadata": {},
   "outputs": [
    {
     "name": "stdout",
     "output_type": "stream",
     "text": [
      "The absolute path of 'students.csv' is: C:\\Users\\femal\\Downloads\\profiles1.csv\n"
     ]
    }
   ],
   "source": [
    "import os\n",
    "\n",
    "absolute_path = os.path.abspath(\"profiles1.csv\")\n",
    "print(f\"The absolute path of 'students.csv' is: {absolute_path}\")"
   ]
  },
  {
   "cell_type": "markdown",
   "id": "af214a0b",
   "metadata": {},
   "source": [
    "## 4. Writing Multiple Rows with `writerows()`"
   ]
  },
  {
   "cell_type": "code",
   "execution_count": 4,
   "id": "0fabf0f8",
   "metadata": {},
   "outputs": [],
   "source": [
    "import csv\n",
    "\n",
    "row_list = [\n",
    "    [\"name\", \"age\", \"country\"],\n",
    "    [\"Oladele Damilola\", \"40\", \"Nigeria\"],\n",
    "    [\"Alina Hricko\", \"23\", \"Ukraine\"],\n",
    "    [\"Isabel Walter\", \"50\", \"United Kingdom\"]\n",
    "]\n",
    "\n",
    "with open('profiles2.csv', 'w', newline='') as file:\n",
    "    writer = csv.writer(file)\n",
    "    writer.writerows(row_list)"
   ]
  },
  {
   "cell_type": "code",
   "execution_count": 22,
   "id": "567f1a46-48ef-42f9-b3a3-fe34d5f87ba2",
   "metadata": {},
   "outputs": [
    {
     "name": "stdout",
     "output_type": "stream",
     "text": [
      "               name  age         country\n",
      "0  Oladele Damilola   40         Nigeria\n",
      "1      Alina Hricko   23         Ukraine\n",
      "2     Isabel Walter   50  United Kingdom\n"
     ]
    }
   ],
   "source": [
    "df_final = pd.read_csv(\"profiles2.csv\")\n",
    "print(df_final)"
   ]
  },
  {
   "cell_type": "markdown",
   "id": "31255543",
   "metadata": {},
   "source": [
    "## 5. Writing CSV with `csv.DictWriter()`"
   ]
  },
  {
   "cell_type": "code",
   "execution_count": 5,
   "id": "00ad64eb",
   "metadata": {},
   "outputs": [],
   "source": [
    "import csv\n",
    "\n",
    "mydict = [\n",
    "    {'name': 'Kelvin Gates', 'age': '19', 'country': 'USA'},\n",
    "    {'name': 'Blessing Iroko', 'age': '25', 'country': 'Nigeria'},\n",
    "    {'name': 'Idong Essien', 'age': '42', 'country': 'Ghana'}\n",
    "]\n",
    "\n",
    "fields = ['name', 'age', 'country']\n",
    "\n",
    "with open('profiles3.csv', 'w', newline='') as file:\n",
    "    writer = csv.DictWriter(file, fieldnames=fields)\n",
    "    writer.writeheader()\n",
    "    writer.writerows(mydict)"
   ]
  },
  {
   "cell_type": "code",
   "execution_count": 23,
   "id": "13fe729b-6ba1-4150-b35e-82ea6ac8cce5",
   "metadata": {},
   "outputs": [
    {
     "name": "stdout",
     "output_type": "stream",
     "text": [
      "             name  age  country\n",
      "0    Kelvin Gates   19      USA\n",
      "1  Blessing Iroko   25  Nigeria\n",
      "2    Idong Essien   42    Ghana\n"
     ]
    }
   ],
   "source": [
    "df_final = pd.read_csv(\"profiles3.csv\")\n",
    "print(df_final)"
   ]
  },
  {
   "cell_type": "markdown",
   "id": "c54ad543",
   "metadata": {},
   "source": [
    "## 6. Reading CSV with `csv.reader()`"
   ]
  },
  {
   "cell_type": "code",
   "execution_count": 6,
   "id": "5c432387",
   "metadata": {},
   "outputs": [
    {
     "name": "stdout",
     "output_type": "stream",
     "text": [
      "['name', 'age', 'country']\n",
      "['Oladele Damilola', '40', 'Nigeria']\n",
      "['Alina Hricko', '23', 'Ukraine']\n",
      "['Isabel Walter', '50', 'United Kingdom']\n"
     ]
    }
   ],
   "source": [
    "import csv\n",
    "\n",
    "def readcsv():\n",
    "    with open('profiles2.csv', newline='') as csv_file:\n",
    "        csv_read = csv.reader(csv_file, delimiter=',')\n",
    "        for row in csv_read:\n",
    "            print(row)\n",
    "\n",
    "readcsv()"
   ]
  },
  {
   "cell_type": "markdown",
   "id": "bb8d1fa3",
   "metadata": {},
   "source": [
    "## 7. Appending Data to CSV"
   ]
  },
  {
   "cell_type": "code",
   "execution_count": 7,
   "id": "7b6246a1",
   "metadata": {},
   "outputs": [
    {
     "name": "stdout",
     "output_type": "stream",
     "text": [
      "Row appended successfully!\n"
     ]
    }
   ],
   "source": [
    "from csv import writer\n",
    "\n",
    "new_row = [6, 'William', 5532, 1, 'UAE']\n",
    "\n",
    "with open('event.csv', 'a', newline='') as f_object:\n",
    "    writer_object = writer(f_object)\n",
    "    writer_object.writerow(new_row)\n",
    "\n",
    "print(\"Row appended successfully!\")"
   ]
  },
  {
   "cell_type": "code",
   "execution_count": 25,
   "id": "09c1f718-b82c-4a90-aa35-e8c062140b10",
   "metadata": {},
   "outputs": [
    {
     "name": "stdout",
     "output_type": "stream",
     "text": [
      "Empty DataFrame\n",
      "Columns: [6, William, 5532, 1, UAE]\n",
      "Index: []\n"
     ]
    }
   ],
   "source": [
    "df_final = pd.read_csv(\"event.csv\")\n",
    "print(df_final)"
   ]
  },
  {
   "cell_type": "markdown",
   "id": "b0da871e",
   "metadata": {},
   "source": [
    "## 8. Handling CSV with Pandas"
   ]
  },
  {
   "cell_type": "code",
   "execution_count": 8,
   "id": "1f7d3af3",
   "metadata": {},
   "outputs": [
    {
     "name": "stdout",
     "output_type": "stream",
     "text": [
      "    Name  Age  Marks\n",
      "0   Arun   21     85\n",
      "1  Priya   22     90\n",
      "2  Kiran   20     78\n",
      "      Name  Age  Marks\n",
      "0     Arun   21     85\n",
      "1    Priya   22     90\n",
      "2    Kiran   20     78\n",
      "3  William   28     92\n"
     ]
    }
   ],
   "source": [
    "import pandas as pd\n",
    "\n",
    "# Create DataFrame\n",
    "data = {\n",
    "    \"Name\": [\"Arun\", \"Priya\", \"Kiran\"],\n",
    "    \"Age\": [21, 22, 20],\n",
    "    \"Marks\": [85, 90, 78]\n",
    "}\n",
    "df = pd.DataFrame(data)\n",
    "\n",
    "# Write to CSV\n",
    "df.to_csv(\"students.csv\", index=False)\n",
    "\n",
    "# Read CSV\n",
    "df_read = pd.read_csv(\"students.csv\")\n",
    "print(df_read)\n",
    "\n",
    "# Append new row\n",
    "new_row = {\"Name\": \"William\", \"Age\": 28, \"Marks\": 92}\n",
    "df_updated = pd.concat([df_read, pd.DataFrame([new_row])], ignore_index=True)\n",
    "df_updated.to_csv(\"students.csv\", index=False)\n",
    "\n",
    "# Read updated CSV\n",
    "df_final = pd.read_csv(\"students.csv\")\n",
    "print(df_final)"
   ]
  },
  {
   "cell_type": "markdown",
   "id": "2f2b419d",
   "metadata": {},
   "source": [
    "## 9. JSON Handling: `dump()`, `load()`, `dumps()`, `loads()`"
   ]
  },
  {
   "cell_type": "code",
   "execution_count": 9,
   "id": "2daf265c",
   "metadata": {},
   "outputs": [
    {
     "name": "stdout",
     "output_type": "stream",
     "text": [
      "{'emp1': {'name': 'Alice', 'age': 30, 'department': 'HR'}, 'emp2': {'name': 'Bob', 'age': 25, 'department': 'IT'}}\n",
      "{\n",
      "    \"name\": \"Charlie\",\n",
      "    \"age\": 35,\n",
      "    \"skills\": [\n",
      "        \"Python\",\n",
      "        \"AI\"\n",
      "    ]\n",
      "}\n",
      "{'city': 'New York', 'population': 890000, 'famous': True}\n"
     ]
    }
   ],
   "source": [
    "import json\n",
    "\n",
    "# dump()\n",
    "employee_data = {\n",
    "    \"emp1\": {\"name\": \"Alice\", \"age\": 30, \"department\": \"HR\"},\n",
    "    \"emp2\": {\"name\": \"Bob\", \"age\": 25, \"department\": \"IT\"}\n",
    "}\n",
    "with open(\"employees.json\", \"w\") as f:\n",
    "    json.dump(employee_data, f, indent=4)\n",
    "\n",
    "# load()\n",
    "with open(\"employees.json\", \"r\") as f:\n",
    "    data_from_file = json.load(f)\n",
    "    print(data_from_file)\n",
    "\n",
    "# dumps()\n",
    "person_dict = {\"name\": \"Charlie\", \"age\": 35, \"skills\": [\"Python\", \"AI\"]}\n",
    "person_json = json.dumps(person_dict, indent=4)\n",
    "print(person_json)\n",
    "\n",
    "# loads()\n",
    "json_string = '{\"city\": \"New York\", \"population\": 890000, \"famous\": true}'\n",
    "city_dict = json.loads(json_string)\n",
    "print(city_dict)"
   ]
  },
  {
   "cell_type": "markdown",
   "id": "d23ba0b1",
   "metadata": {},
   "source": [
    "## 10. Handling JSON with Pandas"
   ]
  },
  {
   "cell_type": "code",
   "execution_count": 10,
   "id": "f16b350b",
   "metadata": {},
   "outputs": [
    {
     "name": "stdout",
     "output_type": "stream",
     "text": [
      "   id     name  age           city\n",
      "0   1    Alice   25       New York\n",
      "1   2      Bob   30    Los Angeles\n",
      "2   3  Charlie   35        Chicago\n",
      "3   4    Diana   28  San Francisco\n",
      "   id     name  age         city\n",
      "1   2      Bob   30  Los Angeles\n",
      "2   3  Charlie   35      Chicago\n"
     ]
    }
   ],
   "source": [
    "import pandas as pd\n",
    "\n",
    "# Create and write JSON\n",
    "data = [\n",
    "    {\"id\": 1, \"name\": \"Alice\", \"age\": 25, \"city\": \"New York\"},\n",
    "    {\"id\": 2, \"name\": \"Bob\", \"age\": 30, \"city\": \"Los Angeles\"},\n",
    "    {\"id\": 3, \"name\": \"Charlie\", \"age\": 35, \"city\": \"Chicago\"},\n",
    "    {\"id\": 4, \"name\": \"Diana\", \"age\": 28, \"city\": \"San Francisco\"}\n",
    "]\n",
    "df = pd.DataFrame(data)\n",
    "df.to_json(\"people.json\", orient=\"records\", indent=4)\n",
    "\n",
    "# Read JSON\n",
    "df = pd.read_json(\"people.json\")\n",
    "print(df.head())\n",
    "\n",
    "# Filtering\n",
    "filtered_df = df[df[\"age\"] > 28]\n",
    "print(filtered_df)\n",
    "\n",
    "# Add column\n",
    "df[\"age_group\"] = df[\"age\"].apply(lambda x: \"Young\" if x < 30 else \"Old\")\n",
    "\n",
    "# Update value\n",
    "df.loc[df[\"name\"] == \"Alice\", \"city\"] = \"Boston\"\n",
    "\n",
    "# Write back\n",
    "df.to_json(\"people_updated.json\", orient=\"records\", indent=4)"
   ]
  },
  {
   "cell_type": "markdown",
   "id": "76cbdfb5",
   "metadata": {},
   "source": [
    "## 11. Reading Excel with `openpyxl`"
   ]
  },
  {
   "cell_type": "code",
   "execution_count": 13,
   "id": "33aad7fc",
   "metadata": {},
   "outputs": [
    {
     "name": "stdout",
     "output_type": "stream",
     "text": [
      "Total rows: 3\n",
      "Total columns: 11\n",
      "A1 value: Rank\n",
      "['Rank', 'Name', 'Platform', 'Year', 'Genre', 'Publisher', 'NA_Sales', 'EU_Sales', 'JP_Sales', 'Other_Sales', 'Global_Sales']\n",
      "['Wii Sports', 'Super Mario Bros.', None, None, None, None, None, None, None, None]\n"
     ]
    }
   ],
   "source": [
    "import openpyxl\n",
    "\n",
    "wb = openpyxl.load_workbook(r\"C:\\Users\\femal\\OneDrive\\Desktop\\videogamesales.xlsx\")\n",
    "ws = wb.active  # or wb['Sheet1']\n",
    "\n",
    "print('Total rows:', ws.max_row)\n",
    "print('Total columns:', ws.max_column)\n",
    "\n",
    "print('A1 value:', ws['A1'].value)\n",
    "\n",
    "# Read first row\n",
    "values = [ws.cell(row=1, column=i).value for i in range(1, ws.max_column+1)]\n",
    "print(values)\n",
    "\n",
    "# Read first 10 rows of column B\n",
    "data = [ws.cell(row=i, column=2).value for i in range(2, 12)]\n",
    "print(data)"
   ]
  },
  {
   "cell_type": "markdown",
   "id": "865e1bde",
   "metadata": {},
   "source": [
    "## 12. Writing to Excel with `openpyxl`"
   ]
  },
  {
   "cell_type": "code",
   "execution_count": 14,
   "id": "fd19f888",
   "metadata": {},
   "outputs": [],
   "source": [
    "ws['K1'] = 'Sum of Sales'\n",
    "ws.cell(row=1, column=11, value='Sum of Sales')\n",
    "wb.save('videogamesales.xlsx')"
   ]
  },
  {
   "cell_type": "markdown",
   "id": "cf77d8d0",
   "metadata": {},
   "source": [
    "## 13. Writing Formulas with `openpyxl`"
   ]
  },
  {
   "cell_type": "code",
   "execution_count": 15,
   "id": "3502fb99",
   "metadata": {},
   "outputs": [],
   "source": [
    "ws['P1'] = 'Average Sales'\n",
    "ws['P2'] = '=AVERAGE(K2:K16220)'\n",
    "\n",
    "ws['R1'] = 'Number of Rows with Sports Genre'\n",
    "ws['R2'] = '=COUNTIF(E2:E16220, \"Sports\")'\n",
    "\n",
    "ws['S1'] = 'Total Sports Sales'\n",
    "ws['S2'] = '=SUMIF(E2:E16220, \"Sports\", K2:K16220)'\n",
    "\n",
    "ws['T1'] = 'Rounded Sum of Sports Sales'\n",
    "ws['T2'] = '=CEILING(S2,25)'\n",
    "\n",
    "wb.save('videogamesales.xlsx')"
   ]
  },
  {
   "cell_type": "markdown",
   "id": "027e2cc8",
   "metadata": {},
   "source": [
    "## 14. Formatting Cells with `openpyxl`"
   ]
  },
  {
   "cell_type": "code",
   "execution_count": 16,
   "id": "0417cfd7",
   "metadata": {},
   "outputs": [],
   "source": [
    "from openpyxl.styles import Font, PatternFill, colors\n",
    "\n",
    "ws['A1'].font = Font(bold=True, size=12)\n",
    "ws['A1'].font = Font(color='FF0000', bold=True, size=12)\n",
    "ws['A2'].font = Font(color='0000FF')\n",
    "ws['A1'].fill = PatternFill('solid', start_color=\"38e3ff\")\n",
    "\n",
    "wb.save('videogamesales.xlsx')"
   ]
  },
  {
   "cell_type": "code",
   "execution_count": 26,
   "id": "80107e7d-8f7d-4230-87c9-55a2db54fdb8",
   "metadata": {},
   "outputs": [
    {
     "name": "stdout",
     "output_type": "stream",
     "text": [
      "   Rank               Name Platform  Year     Genre Publisher  NA_Sales  \\\n",
      "0     1         Wii Sports      Wii  2006    Sports  Nintendo     41.36   \n",
      "1     2  Super Mario Bros.      NES  1985  Platform  Nintendo     29.08   \n",
      "\n",
      "   EU_Sales  JP_Sales  Other_Sales  Sum of Sales  Unnamed: 11  Unnamed: 12  \\\n",
      "0     28.96      3.77         8.45         82.53          NaN          NaN   \n",
      "1      3.58      6.81         0.77         40.24          NaN          NaN   \n",
      "\n",
      "   Unnamed: 13  Unnamed: 14  Average Sales  Unnamed: 16  \\\n",
      "0          NaN          NaN            NaN          NaN   \n",
      "1          NaN          NaN            NaN          NaN   \n",
      "\n",
      "   Number of Rows with Sports Genre  Total Sports Sales  \\\n",
      "0                               NaN                 NaN   \n",
      "1                               NaN                 NaN   \n",
      "\n",
      "   Rounded Sum of Sports Sales  \n",
      "0                          NaN  \n",
      "1                          NaN  \n"
     ]
    }
   ],
   "source": [
    "df = pd.read_excel(r\"videogamesales.xlsx\", sheet_name=\"Sheet1\")\n",
    "print(df.head())"
   ]
  },
  {
   "cell_type": "markdown",
   "id": "8039b4e4",
   "metadata": {},
   "source": [
    "## 15. Handling Excel with Pandas"
   ]
  },
  {
   "cell_type": "code",
   "execution_count": 18,
   "id": "b092fb00",
   "metadata": {},
   "outputs": [
    {
     "name": "stdout",
     "output_type": "stream",
     "text": [
      "      Name  Age           City\n",
      "0    Alice   25       New York\n",
      "1      Bob   30    Los Angeles\n",
      "2  Charlie   35        Chicago\n",
      "3    Diana   28  San Francisco\n",
      "      Name  Age           City\n",
      "1      Bob   30    Los Angeles\n",
      "2  Charlie   35        Chicago\n",
      "3    Diana   28  San Francisco\n"
     ]
    }
   ],
   "source": [
    "import pandas as pd\n",
    "\n",
    "df = pd.read_excel(r\"C:\\Users\\femal\\OneDrive\\Desktop\\sample.xlsx\", sheet_name=\"Sheet1\")\n",
    "print(df.head())\n",
    "\n",
    "filtered_df = df[df[\"Age\"] > 25]\n",
    "print(filtered_df)\n",
    "\n",
    "df[\"Age_Group\"] = df[\"Age\"].apply(lambda x: \"Young\" if x < 30 else \"Old\")\n",
    "df.loc[df[\"Name\"] == \"Alice\", \"City\"] = \"Boston\"\n",
    "\n",
    "df.to_excel(\"sample_updated.xlsx\", sheet_name=\"UpdatedData\", index=False)"
   ]
  },
  {
   "cell_type": "code",
   "execution_count": null,
   "id": "cb7b5349-3e1a-4d24-b1aa-48bb8b1fbd73",
   "metadata": {},
   "outputs": [],
   "source": []
  }
 ],
 "metadata": {
  "kernelspec": {
   "display_name": "Python 3 (ipykernel)",
   "language": "python",
   "name": "python3"
  },
  "language_info": {
   "codemirror_mode": {
    "name": "ipython",
    "version": 3
   },
   "file_extension": ".py",
   "mimetype": "text/x-python",
   "name": "python",
   "nbconvert_exporter": "python",
   "pygments_lexer": "ipython3",
   "version": "3.11.7"
  }
 },
 "nbformat": 4,
 "nbformat_minor": 5
}
