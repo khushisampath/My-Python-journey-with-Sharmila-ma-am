{
 "cells": [
  {
   "cell_type": "markdown",
   "id": "3aa831e5-ecba-4d5f-a4d6-4b93b1d6adf7",
   "metadata": {},
   "source": [
    "# Lab 12(Handling CSV file)"
   ]
  },
  {
   "cell_type": "markdown",
   "id": "bdb729bb-fceb-4b84-88f5-d6f8ef488ec4",
   "metadata": {},
   "source": [
    "# Reading a CSV file"
   ]
  },
  {
   "cell_type": "code",
   "execution_count": 1,
   "id": "a1fb2b47-006a-487d-b0a5-78a5c876419a",
   "metadata": {},
   "outputs": [
    {
     "name": "stdout",
     "output_type": "stream",
     "text": [
      "Read CSV:\n",
      "       Food    Rich_in  Calories\n",
      "0  Almonds    Protein       576\n",
      "1  Spinach       Iron        23\n",
      "2   Salmon    Omega-3       208\n",
      "3   Banana  Potassium        89\n",
      "4     Eggs    Protein       155\n"
     ]
    }
   ],
   "source": [
    "import pandas as pd\n",
    "\n",
    "# File path\n",
    "file_path = r\"D:\\Apoo\\Study materials\\Food.csv\"   # use raw string (r\"...\") to avoid \\ issues\n",
    "\n",
    "# Reading the CSV File\n",
    "df = pd.read_csv(file_path)\n",
    "print(\"Read CSV:\\n\", df.head())"
   ]
  },
  {
   "cell_type": "markdown",
   "id": "92227d36-fecf-4e41-a99a-b1863c6e8b53",
   "metadata": {},
   "source": [
    "# Extracting the contents of a CSV File into a Panda Dataframe"
   ]
  },
  {
   "cell_type": "code",
   "execution_count": 2,
   "id": "5e3bcaa1-19d4-4d6a-a916-8f6887c63923",
   "metadata": {},
   "outputs": [
    {
     "name": "stdout",
     "output_type": "stream",
     "text": [
      "\n",
      "DataFrame contents:\n",
      "              Food       Rich_in  Calories\n",
      "0         Almonds       Protein       576\n",
      "1         Spinach          Iron        23\n",
      "2          Salmon       Omega-3       208\n",
      "3          Banana     Potassium        89\n",
      "4            Eggs       Protein       155\n",
      "5         Avocado  Healthy Fats       160\n",
      "6      Brown Rice         Fiber       111\n",
      "7         Carrots     Vitamin A        41\n",
      "8            Milk       Calcium        42\n",
      "9  Dark Chocolate  Antioxidants       546\n"
     ]
    }
   ],
   "source": [
    "print(\"\\nDataFrame contents:\\n\", df)"
   ]
  },
  {
   "cell_type": "markdown",
   "id": "e6534d45-8c96-4770-9bd2-6cfbaf15cf54",
   "metadata": {},
   "source": [
    "# Appending into a CSV"
   ]
  },
  {
   "cell_type": "code",
   "execution_count": 11,
   "id": "e031abe9-b9ea-426f-99b2-c72594539e01",
   "metadata": {},
   "outputs": [],
   "source": [
    "#Adding new value to the CSV file\n",
    "new_data = pd.DataFrame({\n",
    "    \"Food\": [\"Oats\", \"Walnuts\"],\n",
    "    \"Rich_in\": [\"Fiber\", \"Omega-3\"],\n",
    "    \"Calories\": [68, 654]\n",
    "})\n",
    "#adding the new row in the CSV file\n",
    "new_data.to_csv(file_path, mode=\"a\", header=False, index=False)#a is for append mode#index=False(Prevents pandas from writing the DataFrame’s index (0,1,2,...) into the CSV\n",
    "                                                               #Otherwise, an extra column with row numbers would appear.#header=False(Prevents writing the column names again)\n"
   ]
  },
  {
   "cell_type": "code",
   "execution_count": 15,
   "id": "22fd9204-0833-4601-8b93-60836e8f588d",
   "metadata": {},
   "outputs": [
    {
     "name": "stdout",
     "output_type": "stream",
     "text": [
      "              Food       Rich_in  Calories\n",
      "7          Carrots     Vitamin A        41\n",
      "8             Milk       Calcium        42\n",
      "9   Dark Chocolate  Antioxidants       546\n",
      "10            Oats         Fiber        68\n",
      "11         Walnuts       Omega-3       654\n"
     ]
    }
   ],
   "source": [
    "#Checking if the value was appended or not\n",
    "df = pd.read_csv(r\"D:\\Apoo\\Study materials\\Food.csv\")\n",
    "print(df.tail())#to extract last 5 rows of the dataset"
   ]
  },
  {
   "cell_type": "markdown",
   "id": "02246918-2e9c-4546-8592-174c1482e0c1",
   "metadata": {},
   "source": [
    "# Reading a CSV Chunk-by-chunk"
   ]
  },
  {
   "cell_type": "code",
   "execution_count": 21,
   "id": "8b5f7297-5b70-4201-8931-74f9999d9b61",
   "metadata": {
    "scrolled": true
   },
   "outputs": [
    {
     "name": "stdout",
     "output_type": "stream",
     "text": [
      "<pandas.io.parsers.readers.TextFileReader object at 0x000001FBEED561A0>\n",
      "      Food  Rich_in  Calories\n",
      "0  Almonds  Protein       576\n",
      "1  Spinach     Iron        23\n",
      "     Food    Rich_in  Calories\n",
      "2  Salmon    Omega-3       208\n",
      "3  Banana  Potassium        89\n",
      "      Food       Rich_in  Calories\n",
      "4     Eggs       Protein       155\n",
      "5  Avocado  Healthy Fats       160\n",
      "         Food    Rich_in  Calories\n",
      "6  Brown Rice      Fiber       111\n",
      "7     Carrots  Vitamin A        41\n",
      "             Food       Rich_in  Calories\n",
      "8            Milk       Calcium        42\n",
      "9  Dark Chocolate  Antioxidants       546\n",
      "       Food  Rich_in  Calories\n",
      "10     Oats    Fiber        68\n",
      "11  Walnuts  Omega-3       654\n"
     ]
    }
   ],
   "source": [
    "#chunk of 2 data entry at a time\n",
    "with pd.read_csv(file_path, chunksize=2) as reader:\n",
    "    print(reader)\n",
    "    for chunk in reader:\n",
    "        print(chunk)#printing the chunk"
   ]
  },
  {
   "cell_type": "code",
   "execution_count": 32,
   "id": "3c7c4d04-17d5-499d-bc6e-3babeb3b2e8e",
   "metadata": {},
   "outputs": [
    {
     "name": "stdout",
     "output_type": "stream",
     "text": [
      "      Food    Rich_in  Calories\n",
      "0  Almonds    Protein       576\n",
      "1  Spinach       Iron        23\n",
      "2   Salmon    Omega-3       208\n",
      "3   Banana  Potassium        89\n",
      "4     Eggs    Protein       155\n"
     ]
    }
   ],
   "source": [
    "#reading through a specific chunk of data \n",
    "with pd.read_csv(r\"D:\\Apoo\\Study materials\\Food.csv\", iterator=True) as reader:\n",
    "    print(reader.get_chunk(5))"
   ]
  },
  {
   "cell_type": "markdown",
   "id": "74b0ce76-66f6-45e5-b9cb-c6a1b5e437fd",
   "metadata": {},
   "source": [
    "# Writing numeric data into a CSV File"
   ]
  },
  {
   "cell_type": "code",
   "execution_count": null,
   "id": "f744c541-57df-44bd-86c6-faa4b1d992f6",
   "metadata": {},
   "outputs": [],
   "source": [
    "import pandas as pd\n",
    "\n",
    "file_path = r\"D:\\Apoo\\Study materials\\Food.csv\"\n",
    "\n",
    "df = pd.read_csv(file_path)\n",
    "\n",
    "# Add numeric columns\n",
    "df[\"Carbs\"] = [10, 20, 30, 40, 50, 60, 70, 80, 90, 100, 110, 120]\n",
    "\n",
    "# Save back into the same CSV\n",
    "df.to_csv(file_path, index=False)"
   ]
  },
  {
   "cell_type": "code",
   "execution_count": 36,
   "id": "fe334822-b47c-45f3-9257-001023a4f62b",
   "metadata": {},
   "outputs": [
    {
     "name": "stdout",
     "output_type": "stream",
     "text": [
      "Numeric columns added into Food.csv\n",
      "              Food       Rich_in  Calories  Carbs\n",
      "7          Carrots     Vitamin A        41     80\n",
      "8             Milk       Calcium        42     90\n",
      "9   Dark Chocolate  Antioxidants       546    100\n",
      "10            Oats         Fiber        68    110\n",
      "11         Walnuts       Omega-3       654    120\n"
     ]
    }
   ],
   "source": [
    "print(\"Numeric columns added into Food.csv\")\n",
    "print(df.tail())  # showing last rows to confirm"
   ]
  },
  {
   "cell_type": "markdown",
   "id": "bac706ec-89d5-43a8-9bf3-414034807368",
   "metadata": {},
   "source": [
    "# Writing text data into a CSV File"
   ]
  },
  {
   "cell_type": "code",
   "execution_count": 40,
   "id": "2ae150da-0c3b-4021-90f4-22d5d96c7a6f",
   "metadata": {},
   "outputs": [],
   "source": [
    "quote = '\"One cannot think well, love well, sleep well, if one has not dined well.\" - Virginia Woolf'\n",
    "\n",
    "with open(\"D:\\Apoo\\Study materials\\Food.csv\", \"a\", encoding=\"utf-8\") as f:\n",
    "    f.write(\"\\n\" + quote)\n"
   ]
  },
  {
   "cell_type": "code",
   "execution_count": 43,
   "id": "ff4f3e91-0db5-457f-b3a5-1b45ed5eeba2",
   "metadata": {},
   "outputs": [
    {
     "name": "stdout",
     "output_type": "stream",
     "text": [
      "                                                 Food       Rich_in  Calories  \\\n",
      "8                                                Milk       Calcium      42.0   \n",
      "9                                      Dark Chocolate  Antioxidants     546.0   \n",
      "10                                               Oats         Fiber      68.0   \n",
      "11                                            Walnuts       Omega-3     654.0   \n",
      "12  One cannot think well, love well, sleep well, ...           NaN       NaN   \n",
      "\n",
      "    Carbs  \n",
      "8    90.0  \n",
      "9   100.0  \n",
      "10  110.0  \n",
      "11  120.0  \n",
      "12    NaN  \n"
     ]
    }
   ],
   "source": [
    "df = pd.read_csv(r\"D:\\Apoo\\Study materials\\Food.csv\")\n",
    "print(df.tail())"
   ]
  },
  {
   "cell_type": "code",
   "execution_count": 45,
   "id": "50ad3cc9-d750-47da-b494-387852402c69",
   "metadata": {},
   "outputs": [
    {
     "name": "stdout",
     "output_type": "stream",
     "text": [
      "\"One cannot think well, love well, sleep well, if one has not dined well.\" - Virginia Woolf\n"
     ]
    }
   ],
   "source": [
    "with open(r\"D:\\Apoo\\Study materials\\Food.csv\", encoding=\"utf-8\") as f:\n",
    "    lines = f.readlines()\n",
    "    last_line = lines[-1].strip()   # extracting the text added\n",
    "print(last_line)"
   ]
  },
  {
   "cell_type": "markdown",
   "id": "75b58bd5-4267-42e6-b5dd-0c99a2369a18",
   "metadata": {},
   "source": [
    "# To look for something in a file"
   ]
  },
  {
   "cell_type": "code",
   "execution_count": 1,
   "id": "51e58a1b-2c83-4538-b2f6-f6f52dd653d0",
   "metadata": {},
   "outputs": [
    {
     "name": "stdout",
     "output_type": "stream",
     "text": [
      "Found 'Banana' in line 5: Banana,Potassium,89.0,40.0\n"
     ]
    }
   ],
   "source": [
    "file_path = \"D:\\Apoo\\Study materials\\Food.csv\"\n",
    "search_word = \"Banana\"\n",
    "\n",
    "with open(file_path, \"r\", encoding=\"utf-8\") as f:\n",
    "    for line_no, line in enumerate(f, start=1):\n",
    "        if search_word in line:\n",
    "            print(f\"Found '{search_word}' in line {line_no}: {line.strip()}\")"
   ]
  },
  {
   "cell_type": "code",
   "execution_count": 4,
   "id": "b1fb0143-c474-4ec0-90f5-09b9e2e34e0e",
   "metadata": {},
   "outputs": [
    {
     "name": "stdout",
     "output_type": "stream",
     "text": [
      "     Food    Rich_in  Calories  Carbs\n",
      "3  Banana  Potassium      89.0   40.0\n"
     ]
    }
   ],
   "source": [
    "#Look for values inside a CSV using pandas\n",
    "import pandas as pd\n",
    "df = pd.read_csv(\"D:\\Apoo\\Study materials\\Food.csv\")\n",
    "result = df[df[\"Food\"] == \"Banana\"]\n",
    "print(result)"
   ]
  },
  {
   "cell_type": "markdown",
   "id": "816bf8c1-c071-45f1-800f-76165608519b",
   "metadata": {},
   "source": [
    "# Some interesting Functions "
   ]
  },
  {
   "cell_type": "code",
   "execution_count": 5,
   "id": "412f8715-d1fc-4b7d-ac6f-b470864a277f",
   "metadata": {},
   "outputs": [
    {
     "name": "stdout",
     "output_type": "stream",
     "text": [
      "              Food       Rich_in  Calories  Carbs\n",
      "0          Almonds       Protein     576.0   10.0\n",
      "2           Salmon       Omega-3     208.0   30.0\n",
      "9   Dark Chocolate  Antioxidants     546.0  100.0\n",
      "11         Walnuts       Omega-3     654.0  120.0\n"
     ]
    }
   ],
   "source": [
    "#Filter rows with a condition\n",
    "high_cal = df[df[\"Calories\"] > 200]\n",
    "print(high_cal)"
   ]
  },
  {
   "cell_type": "code",
   "execution_count": 7,
   "id": "83432d15-0563-4aa2-a6c2-3fc0aeb9cdf7",
   "metadata": {},
   "outputs": [],
   "source": [
    "#Handling missing values\n",
    "df = pd.read_csv(\"D:\\Apoo\\Study materials\\Food.csv\")\n",
    "df.fillna(\"Unknown\", inplace=True)#makes data cleaner"
   ]
  },
  {
   "cell_type": "code",
   "execution_count": 8,
   "id": "892f05a6-70c2-4f6b-a802-fe86fb91d0f4",
   "metadata": {},
   "outputs": [],
   "source": [
    "# for chunk in pd.read_csv(\"bigData.csv\", chunksize=10000):\n",
    "#     print(chunk[\"Calories\"].mean())Process millions of rows without crashing memory\n"
   ]
  },
  {
   "cell_type": "code",
   "execution_count": 12,
   "id": "e35389cd-7916-4321-83f8-fb1980b49b5e",
   "metadata": {},
   "outputs": [
    {
     "name": "stdout",
     "output_type": "stream",
     "text": [
      "      Food    Rich_in  Calories  Carbs\n",
      "0  Almonds    Protein  2409.984   10.0\n",
      "1  Spinach       Iron    96.232   20.0\n",
      "2   Salmon    Omega-3   870.272   30.0\n",
      "3   Banana  Potassium   372.376   40.0\n",
      "4     Eggs    Protein   648.520   50.0\n"
     ]
    }
   ],
   "source": [
    "#Conversion using lamda operators\n",
    "df = pd.read_csv(r\"D:\\Apoo\\Study materials\\Food.csv\",converters={\"Calories\": lambda x: float(x) * 4.184})#Converting to kilo\n",
    "print(df.head())"
   ]
  },
  {
   "cell_type": "code",
   "execution_count": null,
   "id": "cba87664-091f-4bc2-bc60-2342b1de6197",
   "metadata": {},
   "outputs": [],
   "source": []
  }
 ],
 "metadata": {
  "kernelspec": {
   "display_name": "Python 3 (ipykernel)",
   "language": "python",
   "name": "python3"
  },
  "language_info": {
   "codemirror_mode": {
    "name": "ipython",
    "version": 3
   },
   "file_extension": ".py",
   "mimetype": "text/x-python",
   "name": "python",
   "nbconvert_exporter": "python",
   "pygments_lexer": "ipython3",
   "version": "3.11.7"
  }
 },
 "nbformat": 4,
 "nbformat_minor": 5
}
