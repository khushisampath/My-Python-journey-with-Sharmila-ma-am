{
 "cells": [
  {
   "cell_type": "code",
   "execution_count": 48,
   "id": "f9c2034d-c8d1-4000-bec6-e103d5d73482",
   "metadata": {},
   "outputs": [
    {
     "name": "stdout",
     "output_type": "stream",
     "text": [
      "2\n"
     ]
    }
   ],
   "source": [
    "import numpy as np\n",
    "arr = np.array([[1, 2, 3], [4, 5, 6]])\n",
    "#print(arr.size)\n",
    "#print(arr.shape)\n",
    "print(arr.ndim)\n"
   ]
  },
  {
   "cell_type": "code",
   "execution_count": 49,
   "id": "7e58b079-77c1-425d-bb00-2309c8d34505",
   "metadata": {},
   "outputs": [
    {
     "name": "stdout",
     "output_type": "stream",
     "text": [
      "Original array: [1 2 3 4 5 6]\n",
      "Original shape: (6,)\n",
      "[[1 2 3]\n",
      " [4 5 6]]\n",
      "New shape: (2, 3)\n"
     ]
    }
   ],
   "source": [
    "# Create a 1D array\n",
    "arr = np.array([1, 2, 3, 4, 5, 6])\n",
    "print(\"Original array:\", arr)\n",
    "print(\"Original shape:\", arr.shape)\n",
    "\n",
    "# Reshape to a 2D array (2 rows, 3 columns)\n",
    "reshaped_arr = arr.reshape(2, 3)\n",
    "print(reshaped_arr)\n",
    "print(\"New shape:\", reshaped_arr.shape)"
   ]
  },
  {
   "cell_type": "code",
   "execution_count": 3,
   "id": "f24c3871-2960-4509-a436-1187e81f0d0b",
   "metadata": {},
   "outputs": [],
   "source": [
    "def pythonsum(n):\n",
    "   a = range(n)\n",
    "   b = range(n)\n",
    "   c = []\n",
    "   for i in range(n):\n",
    "       a[i] = i ** 2\n",
    "       b[i] = i ** 3\n",
    "       c.append(a[i] + b[i])\n",
    "   return c"
   ]
  },
  {
   "cell_type": "code",
   "execution_count": 5,
   "id": "93d673a4-b683-4a3b-93f0-98cdc9953aff",
   "metadata": {},
   "outputs": [],
   "source": [
    "def pythonsum(n):\n",
    "    a = [0] * n\n",
    "    b = [0] * n\n",
    "    c = []\n",
    "    for i in range(n):\n",
    "        a[i] = i ** 2\n",
    "        b[i] = i ** 3\n",
    "        c.append(a[i] + b[i])\n",
    "    return c\n"
   ]
  },
  {
   "cell_type": "code",
   "execution_count": 9,
   "id": "fb592690-df43-4693-adb6-13e2f13d3a75",
   "metadata": {},
   "outputs": [],
   "source": [
    "import numpy as np\n",
    "def numpysum(n):\n",
    "  a = np.arange(n) ** 2  #Creates an array [0,1,..n-1] and element-wise sqauring\n",
    "  b = np.arange(n) ** 3\n",
    "  c = a + b #element wise adding - NO LOOP Overhead, hence Memory Efficient\n",
    "  return c"
   ]
  },
  {
   "cell_type": "code",
   "execution_count": null,
   "id": "8a429b65-19f3-4075-86da-9dc70d1ca0b9",
   "metadata": {},
   "outputs": [],
   "source": []
  },
  {
   "cell_type": "code",
   "execution_count": null,
   "id": "bff4168e-f685-4655-9ac1-8f93cc7c469b",
   "metadata": {},
   "outputs": [
    {
     "data": {
      "text/plain": [
       "array([ 0,  2, 12])"
      ]
     },
     "execution_count": 10,
     "metadata": {},
     "output_type": "execute_result"
    }
   ],
   "source": [
    "numpysum(3)"
   ]
  },
  {
   "cell_type": "code",
   "execution_count": 11,
   "id": "358e64b7-2447-482f-a43d-403200d9ba58",
   "metadata": {},
   "outputs": [],
   "source": [
    "#Creating Arrays from Sequences\n",
    "#a list of numbers will create a 1D array,\n",
    "#a list of lists will create a 2D array,\n",
    "#further nested lists will create higher-dimensional arrays. \n",
    "#In general, any array object is called an ndarray in NumPy."
   ]
  },
  {
   "cell_type": "code",
   "execution_count": 12,
   "id": "637d079f-aa83-4dcc-8cb3-4d839caa6ef2",
   "metadata": {},
   "outputs": [],
   "source": [
    "import numpy as np\n",
    "a1D = np.array([1, 2, 3, 4])\n",
    "a2D = np.array([[1, 2], [3, 4]])\n",
    "a3D = np.array([[[1, 2], [3, 4]], [[5, 6], [7, 8]]])"
   ]
  },
  {
   "cell_type": "code",
   "execution_count": 51,
   "id": "881e42ff-0071-4cc0-8e7b-5d03ee0297ee",
   "metadata": {},
   "outputs": [
    {
     "data": {
      "text/plain": [
       "array([127, 128, 129], dtype=int32)"
      ]
     },
     "execution_count": 51,
     "metadata": {},
     "output_type": "execute_result"
    }
   ],
   "source": [
    "import numpy as np\n",
    "np.array([127, 128, 129], dtype=np.int32) "
   ]
  },
  {
   "cell_type": "markdown",
   "id": "30bc1a73-0ad4-4ffe-921b-09d574ac2206",
   "metadata": {},
   "source": [
    "| Name       | Alias(es)       | Size   | Range                           |\n",
    "| ---------- | --------------- | ------ | ------------------------------- |\n",
    "| `np.int8`  | `int8`          | 8-bit  | −128 to 127                     |\n",
    "| `np.int16` | `int16`         | 16-bit | −32,768 to 32,767               |\n",
    "| `np.int32` | `int32`, `int_` | 32-bit | −2,147,483,648 to 2,147,483,647 |\n",
    "| `np.int64` | `int64`         | 64-bit | −9.2e18 to 9.2e18 (approx.)     |\n"
   ]
  },
  {
   "cell_type": "code",
   "execution_count": 16,
   "id": "76cfd0ad-bdb5-4f6f-86d6-8f774ae06226",
   "metadata": {},
   "outputs": [],
   "source": [
    "import numpy as np\n",
    "np.array([127, 128, 129], dtype=np.int8)\n",
    "# You will get an error, why?"
   ]
  },
  {
   "cell_type": "code",
   "execution_count": 54,
   "id": "5f395b9a-3c39-4d84-8b73-ef896983994a",
   "metadata": {},
   "outputs": [
    {
     "data": {
      "text/plain": [
       "array([2. , 2.1, 2.2, 2.3, 2.4, 2.5, 2.6, 2.7, 2.8, 2.9])"
      ]
     },
     "execution_count": 54,
     "metadata": {},
     "output_type": "execute_result"
    }
   ],
   "source": [
    "#ARRAY CREATION FUNCTIONS\n",
    "import numpy as np\n",
    "#np.arange(10) #0 TO BEFORE 10, Step Value 1\n",
    "#np.arange(2, 10, dtype=float) #?\n",
    "np.arange(2, 3, 0.1) #?"
   ]
  },
  {
   "cell_type": "code",
   "execution_count": 20,
   "id": "6b97f27e-811e-467a-bda3-715c28f4c785",
   "metadata": {},
   "outputs": [],
   "source": [
    "#best practice for numpy.arange is to use integer start, end, and step values."
   ]
  },
  {
   "cell_type": "code",
   "execution_count": 55,
   "id": "46f65fb4-0d33-4262-a9e4-e4746110887f",
   "metadata": {},
   "outputs": [
    {
     "data": {
      "text/plain": [
       "array([1. , 1.6, 2.2, 2.8, 3.4, 4. ])"
      ]
     },
     "execution_count": 55,
     "metadata": {},
     "output_type": "execute_result"
    }
   ],
   "source": [
    "np.linspace(1., 4., 6)\n"
   ]
  },
  {
   "cell_type": "code",
   "execution_count": null,
   "id": "f7b27d4a-6b8b-4125-9218-92d9cd426ce8",
   "metadata": {},
   "outputs": [],
   "source": [
    "#numpy.linspace will create arrays with a specified number of elements, and spaced equally between the specified beginning and end values. \n",
    "#For example:\n",
    "\n",
    "# np.linspace(start, stop, num)\n",
    "\n",
    "# Start: 1.0\n",
    "\n",
    "# Stop: 4.0\n",
    "\n",
    "# num: 6 (number of samples including both endpoints)\n",
    "\n",
    "# The interval is divided into 5 equal steps (because 6 points mean 5 intervals)."
   ]
  },
  {
   "cell_type": "code",
   "execution_count": 57,
   "id": "3ad958f7-4450-4437-9c0d-48388a8ec30f",
   "metadata": {},
   "outputs": [
    {
     "data": {
      "text/plain": [
       "array([[1., 0., 0., 0., 0.],\n",
       "       [0., 1., 0., 0., 0.],\n",
       "       [0., 0., 1., 0., 0.]])"
      ]
     },
     "execution_count": 57,
     "metadata": {},
     "output_type": "execute_result"
    }
   ],
   "source": [
    "#2D Array Creation\n",
    "#The 2D array creation functions e.g. numpy.eye, numpy.diag, and numpy.vander define \n",
    "#properties of special matrices represented as 2D arrays.\n",
    "import numpy as np\n",
    "#np.eye(3)\n",
    "np.eye(3, 5)"
   ]
  },
  {
   "cell_type": "code",
   "execution_count": 60,
   "id": "f769c7f2-acfe-49ee-bf2d-1eed274a20ed",
   "metadata": {},
   "outputs": [
    {
     "data": {
      "text/plain": [
       "array([[0., 0., 0., 0., 0.],\n",
       "       [0., 0., 0., 0., 0.],\n",
       "       [1., 0., 0., 0., 0.]])"
      ]
     },
     "execution_count": 60,
     "metadata": {},
     "output_type": "execute_result"
    }
   ],
   "source": [
    "np.eye(3, 5, k=-2) #optional k argument, what happens when k>0, k<0"
   ]
  },
  {
   "cell_type": "code",
   "execution_count": 30,
   "id": "bf38cc13-a308-4da3-86bd-7ec60f342cdb",
   "metadata": {},
   "outputs": [],
   "source": [
    "# numpy.diag can define either a square 2D array with given values along the diagonal or if given a 2D array \n",
    "# returns a 1D array that is only the diagonal elements. \n",
    "# The two array creation functions can be helpful while doing linear algebra, as such:"
   ]
  },
  {
   "cell_type": "code",
   "execution_count": 32,
   "id": "6a2806a0-b980-499e-abaf-629afb635c61",
   "metadata": {},
   "outputs": [
    {
     "data": {
      "text/plain": [
       "array([[0, 1, 0, 0],\n",
       "       [0, 0, 2, 0],\n",
       "       [0, 0, 0, 3],\n",
       "       [0, 0, 0, 0]])"
      ]
     },
     "execution_count": 32,
     "metadata": {},
     "output_type": "execute_result"
    }
   ],
   "source": [
    "import numpy as np\n",
    "#np.diag([1, 2, 3])\n",
    "np.diag([1, 2, 3], 1)\n",
    "#a = np.array([[1, 2], [3, 4]])\n",
    "#np.diag(a)"
   ]
  },
  {
   "cell_type": "code",
   "execution_count": 33,
   "id": "82543f35-3208-4cc2-94fd-3856e91067b1",
   "metadata": {},
   "outputs": [],
   "source": [
    "# np.diag(v, k=1):\n",
    "\n",
    "# When v is a 1D array, np.diag creates a 2D square matrix with v placed along the k-th diagonal.\n",
    "\n",
    "# k=1 → the diagonal above the main (first superdiagonal).\n",
    "\n",
    "# To hold this upper diagonal, NumPy creates a (n + k) × (n + k) square matrix, where n is the length of the input array.\n",
    "\n",
    "# So for [1, 2, 3]: Length = 3, k = 1, Matrix shape = 4 × 4\n",
    "\n",
    "# # Diagonal values are placed at positions: (0,1), (1,2), (2,3)"
   ]
  },
  {
   "cell_type": "code",
   "execution_count": null,
   "id": "e6b4170d-9ecc-4ec1-942c-09c546829811",
   "metadata": {},
   "outputs": [],
   "source": [
    "#Vandermonde Matrix\n",
    "import numpy as np\n",
    "#np.vander(np.linspace(0, 2, 5), 2)\n",
    "#np.vander([1, 2, 3, 4], 2)\n",
    "#np.vander((1, 2, 3, 4), 4)"
   ]
  },
  {
   "cell_type": "markdown",
   "id": "a348594c-294c-4d4d-9d70-238501564d8e",
   "metadata": {},
   "source": [
    "| x | x¹ | x⁰ |\n",
    "| - | -- | -- |\n",
    "| 1 | 1  | 1  |\n",
    "| 2 | 2  | 1  |\n",
    "| 3 | 3  | 1  |\n",
    "| 4 | 4  | 1  |\n"
   ]
  },
  {
   "cell_type": "markdown",
   "id": "3c062029-808b-4668-a959-4645715e8eea",
   "metadata": {},
   "source": [
    "| x | x³ | x² | x¹ | x⁰ |\n",
    "| - | -- | -- | -- | -- |\n",
    "| 1 | 1  | 1  | 1  | 1  |\n",
    "| 2 | 8  | 4  | 2  | 1  |\n",
    "| 3 | 27 | 9  | 3  | 1  |\n",
    "| 4 | 64 | 16 | 4  | 1  |\n"
   ]
  },
  {
   "cell_type": "code",
   "execution_count": null,
   "id": "78c35181-99d5-4725-b3f2-5b933d26b026",
   "metadata": {},
   "outputs": [],
   "source": [
    "#np.vander(x, N) creates a Vandermonde matrix from a 1D input array x.\n",
    "\n",
    "# [[x₁**(N-1), x₁**(N-2), ..., x₁**0],\n",
    "#  [x₂**(N-1), x₂**(N-2), ..., x₂**0],\n",
    "#  ...\n",
    "#  [xₙ**(N-1), xₙ**(N-2), ..., xₙ**0]]\n",
    "\n",
    "# So each row is a decreasing power of an element from x.\n"
   ]
  },
  {
   "cell_type": "code",
   "execution_count": null,
   "id": "d07ecf61-ca3e-48a1-85db-441e811e0b40",
   "metadata": {},
   "outputs": [],
   "source": []
  },
  {
   "cell_type": "code",
   "execution_count": 38,
   "id": "2fe7db07-3327-4216-8c4b-54f455245906",
   "metadata": {},
   "outputs": [
    {
     "data": {
      "text/plain": [
       "array([[1, 1],\n",
       "       [2, 1],\n",
       "       [3, 1],\n",
       "       [4, 1]])"
      ]
     },
     "execution_count": 38,
     "metadata": {},
     "output_type": "execute_result"
    }
   ],
   "source": [
    "np.vander(np.linspace(0, 2, 5), 2)\n",
    "#np.linspace(0, 2, 5) → [0. , 0.5, 1. , 1.5, 2. ]\n",
    "# N = 2 → two columns: x**1, x**0\n",
    "\n",
    "np.vander([1, 2, 3, 4], 2)\n",
    "#Input: [1, 2, 3, 4]\n",
    "# No of Columns 2\n",
    "#N = 4 → columns: x**3, x**2, x**1, x**0"
   ]
  },
  {
   "cell_type": "code",
   "execution_count": 39,
   "id": "1fd76384-a941-4070-9eb5-ec595afc2741",
   "metadata": {},
   "outputs": [],
   "source": [
    "#Each row is [x**3, x**2, x, 1] for each x in the input."
   ]
  },
  {
   "cell_type": "markdown",
   "id": "4273807b-cb8b-4f2b-9cf7-9819bd094c08",
   "metadata": {},
   "source": [
    "| Code                                 | Shape    | Meaning                                           |\n",
    "| ------------------------------------ | -------- | ------------------------------------------------- |\n",
    "| `np.vander(np.linspace(0, 2, 5), 2)` | `(5, 2)` | 2-column Vandermonde matrix of `[0, 0.5, ..., 2]` |\n",
    "| `np.vander([1, 2, 3, 4], 2)`         | `(4, 2)` | Powers: `[x, 1]` for each x                       |\n",
    "| `np.vander((1, 2, 3, 4), 4)`         | `(4, 4)` | Powers: `[x**3, x**2, x, 1]`                      |\n"
   ]
  },
  {
   "cell_type": "code",
   "execution_count": null,
   "id": "d2dcbb45-3b80-4368-b2cf-b28f3804587e",
   "metadata": {},
   "outputs": [],
   "source": []
  },
  {
   "cell_type": "code",
   "execution_count": null,
   "id": "0f0404e0-2aa1-4a49-8c51-722ed3d8dcd0",
   "metadata": {},
   "outputs": [],
   "source": []
  }
 ],
 "metadata": {
  "kernelspec": {
   "display_name": "Python 3 (ipykernel)",
   "language": "python",
   "name": "python3"
  },
  "language_info": {
   "codemirror_mode": {
    "name": "ipython",
    "version": 3
   },
   "file_extension": ".py",
   "mimetype": "text/x-python",
   "name": "python",
   "nbconvert_exporter": "python",
   "pygments_lexer": "ipython3",
   "version": "3.11.7"
  }
 },
 "nbformat": 4,
 "nbformat_minor": 5
}
