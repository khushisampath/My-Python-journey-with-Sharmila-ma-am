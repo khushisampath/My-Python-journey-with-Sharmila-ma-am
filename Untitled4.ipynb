{
 "cells": [
  {
   "cell_type": "code",
   "execution_count": 4,
   "id": "eecbf01c",
   "metadata": {},
   "outputs": [],
   "source": [
    "odds=[1,2,3]"
   ]
  },
  {
   "cell_type": "code",
   "execution_count": 5,
   "id": "c48fd9d9",
   "metadata": {},
   "outputs": [],
   "source": [
    "def a(x,y,z):\n",
    "    return(x+y+z)"
   ]
  },
  {
   "cell_type": "code",
   "execution_count": 6,
   "id": "137542a8",
   "metadata": {},
   "outputs": [
    {
     "name": "stdout",
     "output_type": "stream",
     "text": [
      "6\n"
     ]
    }
   ],
   "source": [
    "print(a(*odds))"
   ]
  },
  {
   "cell_type": "code",
   "execution_count": 7,
   "id": "5641a7a1",
   "metadata": {},
   "outputs": [
    {
     "name": "stdout",
     "output_type": "stream",
     "text": [
      "Hello, Khushi\n",
      "Hello, Druti\n",
      "Hello, Everyone\n"
     ]
    }
   ],
   "source": [
    "def hi(*names):\n",
    "    for n in names:\n",
    "        print(f\"Hello, {n}\")\n",
    "hi(\"Khushi\",\"Druti\",\"Everyone\")"
   ]
  },
  {
   "cell_type": "code",
   "execution_count": 9,
   "id": "82611b30",
   "metadata": {},
   "outputs": [
    {
     "name": "stdout",
     "output_type": "stream",
     "text": [
      "2,4,6,8,10\n"
     ]
    }
   ],
   "source": [
    "even=[2,4,6,8,10]\n",
    "a,b,c,d,e=even\n",
    "print(f\"{a}--{b}--{c}--{d}--{e}\")"
   ]
  },
  {
   "cell_type": "code",
   "execution_count": 15,
   "id": "ffc19087",
   "metadata": {},
   "outputs": [
    {
     "name": "stdout",
     "output_type": "stream",
     "text": [
      "2--[4, 6, 8]--10\n"
     ]
    }
   ],
   "source": [
    "a,*b,c=even\n",
    "print(f\"{a}--{b}--{c}\")"
   ]
  },
  {
   "cell_type": "code",
   "execution_count": 10,
   "id": "b7516e2d",
   "metadata": {},
   "outputs": [],
   "source": [
    "d={}"
   ]
  },
  {
   "cell_type": "code",
   "execution_count": 13,
   "id": "bf72b6c4",
   "metadata": {},
   "outputs": [],
   "source": [
    "d['name']='Khushi'"
   ]
  },
  {
   "cell_type": "code",
   "execution_count": 14,
   "id": "b3b07c2d",
   "metadata": {},
   "outputs": [
    {
     "data": {
      "text/plain": [
       "{'name': 'Khushi'}"
      ]
     },
     "execution_count": 14,
     "metadata": {},
     "output_type": "execute_result"
    }
   ],
   "source": [
    "d"
   ]
  },
  {
   "cell_type": "code",
   "execution_count": null,
   "id": "e9674c15",
   "metadata": {},
   "outputs": [],
   "source": []
  }
 ],
 "metadata": {
  "kernelspec": {
   "display_name": "Python 3 (ipykernel)",
   "language": "python",
   "name": "python3"
  },
  "language_info": {
   "codemirror_mode": {
    "name": "ipython",
    "version": 3
   },
   "file_extension": ".py",
   "mimetype": "text/x-python",
   "name": "python",
   "nbconvert_exporter": "python",
   "pygments_lexer": "ipython3",
   "version": "3.10.12"
  }
 },
 "nbformat": 4,
 "nbformat_minor": 5
}
