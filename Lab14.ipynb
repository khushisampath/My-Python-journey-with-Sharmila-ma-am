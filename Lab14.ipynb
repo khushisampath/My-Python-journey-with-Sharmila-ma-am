{
 "cells": [
  {
   "cell_type": "markdown",
   "id": "26a58d41-cbc7-4a4d-ac5d-ac2518ff91fb",
   "metadata": {},
   "source": [
    "# LAB 14"
   ]
  },
  {
   "cell_type": "markdown",
   "id": "aa109007-410e-4b38-bdd3-a487ba41ecf8",
   "metadata": {},
   "source": [
    "# Handling Excel"
   ]
  },
  {
   "cell_type": "code",
   "execution_count": 2,
   "id": "0f2ba737-f68f-4931-a81d-19b456ef32d3",
   "metadata": {},
   "outputs": [
    {
     "name": "stdout",
     "output_type": "stream",
     "text": [
      "Collecting openpyxl\n",
      "  Downloading openpyxl-3.1.5-py2.py3-none-any.whl.metadata (2.5 kB)\n",
      "Collecting et-xmlfile (from openpyxl)\n",
      "  Downloading et_xmlfile-2.0.0-py3-none-any.whl.metadata (2.7 kB)\n",
      "Downloading openpyxl-3.1.5-py2.py3-none-any.whl (250 kB)\n",
      "Downloading et_xmlfile-2.0.0-py3-none-any.whl (18 kB)\n",
      "Installing collected packages: et-xmlfile, openpyxl\n",
      "Successfully installed et-xmlfile-2.0.0 openpyxl-3.1.5\n",
      "Note: you may need to restart the kernel to use updated packages.\n"
     ]
    },
    {
     "name": "stderr",
     "output_type": "stream",
     "text": [
      "\n",
      "[notice] A new release of pip is available: 24.2 -> 25.2\n",
      "[notice] To update, run: python.exe -m pip install --upgrade pip\n"
     ]
    }
   ],
   "source": [
    "pip install openpyxl"
   ]
  },
  {
   "cell_type": "code",
   "execution_count": 3,
   "id": "8d8109be-a7dd-48d0-8f21-3a148ded38c5",
   "metadata": {},
   "outputs": [],
   "source": [
    "#Creating Excel file\n",
    "import pandas as pd\n",
    "\n",
    "# sample data\n",
    "data = {\n",
    "    \"Name\": [\"Alice\", \"Bob\", \"Charlie\"],\n",
    "    \"Age\": [25, 30, 22],\n",
    "    \"City\": [\"Delhi\", \"Mumbai\", \"Kolkata\"]\n",
    "}\n",
    "\n",
    "df = pd.DataFrame(data)\n",
    "\n",
    "# create Excel file in current folder\n",
    "df.to_excel(\"mydata.xlsx\", index=False)\n"
   ]
  },
  {
   "cell_type": "code",
   "execution_count": 4,
   "id": "3f5276a8-3e4f-4417-8d16-94ff52a3c426",
   "metadata": {},
   "outputs": [
    {
     "name": "stdout",
     "output_type": "stream",
     "text": [
      "C:\\Users\\Lenovo\n"
     ]
    }
   ],
   "source": [
    "import os\n",
    "print(os.getcwd())\n"
   ]
  },
  {
   "cell_type": "markdown",
   "id": "d641ab9e-5775-4cf0-b647-d6a3cfa72ccd",
   "metadata": {},
   "source": [
    "# Read Excel file"
   ]
  },
  {
   "cell_type": "code",
   "execution_count": 6,
   "id": "2101d166-24df-416e-be20-ac0892a9f72f",
   "metadata": {},
   "outputs": [
    {
     "name": "stdout",
     "output_type": "stream",
     "text": [
      "      Name  Age     City\n",
      "0    Alice   25    Delhi\n",
      "1      Bob   30   Mumbai\n",
      "2  Charlie   22  Kolkata\n"
     ]
    }
   ],
   "source": [
    "import pandas as pd\n",
    "\n",
    "excel_df = pd.read_excel(r\"C:\\Users\\Lenovo\\mydata.xlsx\")\n",
    "print(excel_df.head())\n"
   ]
  },
  {
   "cell_type": "markdown",
   "id": "a97343e1-a5e2-4996-867a-c57e90d113a0",
   "metadata": {},
   "source": [
    "# Writing DataFrame to Excel file"
   ]
  },
  {
   "cell_type": "code",
   "execution_count": 7,
   "id": "4a33aa3c-8fbb-40c1-88a4-2d9abf27dad9",
   "metadata": {},
   "outputs": [],
   "source": [
    "excel_df.to_excel(\"output.xlsx\", index=False)"
   ]
  },
  {
   "cell_type": "markdown",
   "id": "15f42920-6fed-4ba2-a49f-4afab54b9929",
   "metadata": {},
   "source": [
    "# Appending a new sheet "
   ]
  },
  {
   "cell_type": "code",
   "execution_count": 10,
   "id": "785af8d5-6548-4e17-a148-0e2a0cb29dbe",
   "metadata": {},
   "outputs": [],
   "source": [
    "import pandas as pd\n",
    "\n",
    "# new data to append\n",
    "new_data = pd.DataFrame({\n",
    "    'Numbers': [101, 102, 103],\n",
    "    'Text': ['one', 'two', 'three']\n",
    "})\n",
    "\n",
    "# append as a new sheet\n",
    "with pd.ExcelWriter(r\"C:\\Users\\Lenovo\\mydata.xlsx\",\n",
    "                    mode='a', engine='openpyxl') as writer:\n",
    "    new_data.to_excel(writer, sheet_name='AppendedData', index=False)\n"
   ]
  },
  {
   "cell_type": "markdown",
   "id": "b3635533-4e50-4a15-b335-97bb70f8a81e",
   "metadata": {},
   "source": [
    "# Appending rows into the same sheet"
   ]
  },
  {
   "cell_type": "code",
   "execution_count": 18,
   "id": "27a7c5e8-e547-4f9a-9379-3ee6f32fff44",
   "metadata": {},
   "outputs": [
    {
     "name": "stdout",
     "output_type": "stream",
     "text": [
      "Rows added successfully!\n"
     ]
    }
   ],
   "source": [
    "import pandas as pd\n",
    "\n",
    "file_path = r\"C:\\Users\\Lenovo\\mydata.xlsx\"  # your Excel file\n",
    "\n",
    "# 1. Read existing sheet\n",
    "df = pd.read_excel(file_path, sheet_name='Sheet1')\n",
    "\n",
    "# 2. Create new rows\n",
    "new_rows = pd.DataFrame({\n",
    "    'Name': ['Apoorva', 'Arnav'],\n",
    "    'Age': [28, 24],\n",
    "    'City': ['Chennai', 'Jaipur']\n",
    "})\n",
    "\n",
    "# 3. Append them\n",
    "df_updated = pd.concat([df, new_rows], ignore_index=True)\n",
    "\n",
    "# 4. Write back to the same sheet\n",
    "df_updated.to_excel(file_path, sheet_name='Sheet1', index=False)\n",
    "\n",
    "print(\"Rows added successfully!\")"
   ]
  },
  {
   "cell_type": "markdown",
   "id": "6c390c9d-fd0c-4f12-a425-920d1bd6216e",
   "metadata": {},
   "source": [
    "# Checking the output"
   ]
  },
  {
   "cell_type": "code",
   "execution_count": 20,
   "id": "0938430d-28eb-458d-9593-981f995b4a72",
   "metadata": {},
   "outputs": [
    {
     "name": "stdout",
     "output_type": "stream",
     "text": [
      "      Name  Age     City\n",
      "0    Alice   25    Delhi\n",
      "1      Bob   30   Mumbai\n",
      "2  Charlie   22  Kolkata\n",
      "3  Apoorva   28  Chennai\n",
      "4    Arnav   24   Jaipur\n"
     ]
    }
   ],
   "source": [
    "file_path = r\"C:\\Users\\Lenovo\\mydata.xlsx\"\n",
    "df = pd.read_excel(file_path)\n",
    "print(df)"
   ]
  },
  {
   "cell_type": "markdown",
   "id": "29a0960d-f6e0-47e1-a920-ec39cd0b2ecb",
   "metadata": {},
   "source": [
    "# Overwriting a row"
   ]
  },
  {
   "cell_type": "code",
   "execution_count": 24,
   "id": "934a7928-b7d9-4ca9-a7d3-c520d8b57ccd",
   "metadata": {},
   "outputs": [
    {
     "name": "stdout",
     "output_type": "stream",
     "text": [
      "Row 1 (first data row) updated successfully.\n"
     ]
    }
   ],
   "source": [
    "from openpyxl import load_workbook\n",
    "\n",
    "file_path = r\"C:\\Users\\Lenovo\\mydata.xlsx\"\n",
    "\n",
    "# load workbook\n",
    "wb = load_workbook(file_path)\n",
    "ws = wb['Sheet1']  \n",
    "\n",
    "# row 1 is the header; row 2 is first data row (Alice)\n",
    "# let's overwrite row 2 (Alice) with new values:\n",
    "ws.cell(row=2, column=1).value = 'Rachna'       # Name\n",
    "ws.cell(row=2, column=2).value = 35           # Age\n",
    "ws.cell(row=2, column=3).value = 'Pune'       # City\n",
    "\n",
    "# save workbook\n",
    "wb.save(file_path)\n",
    "\n",
    "print(\"Row 1 (first data row) updated successfully.\")\n"
   ]
  },
  {
   "cell_type": "code",
   "execution_count": 25,
   "id": "fbdb9a42-e477-4c83-94f3-e6f9f75028df",
   "metadata": {},
   "outputs": [
    {
     "name": "stdout",
     "output_type": "stream",
     "text": [
      "      Name  Age     City\n",
      "0   Rachna   35     Pune\n",
      "1      Bob   30   Mumbai\n",
      "2  Charlie   22  Kolkata\n",
      "3  Apoorva   28  Chennai\n",
      "4    Arnav   24   Jaipur\n"
     ]
    }
   ],
   "source": [
    "#Checking excel\n",
    "file_path = r\"C:\\Users\\Lenovo\\mydata.xlsx\"\n",
    "df = pd.read_excel(file_path)\n",
    "print(df)"
   ]
  },
  {
   "cell_type": "markdown",
   "id": "77a48086-af4d-4896-b6f7-f1da1e6d1dfe",
   "metadata": {},
   "source": [
    "# Reading specific chunk"
   ]
  },
  {
   "cell_type": "code",
   "execution_count": 26,
   "id": "2b756e51-e303-4b53-9ea3-c3fdf1d7af5c",
   "metadata": {},
   "outputs": [
    {
     "name": "stdout",
     "output_type": "stream",
     "text": [
      "      Name  Age     City\n",
      "0  Charlie   22  Kolkata\n",
      "1  Apoorva   28  Chennai\n"
     ]
    }
   ],
   "source": [
    "import pandas as pd\n",
    "\n",
    "file_path = r\"C:\\Users\\Lenovo\\mydata.xlsx\"\n",
    "\n",
    "df_chunk = pd.read_excel(\n",
    "    file_path,\n",
    "    skiprows=range(1, 3),  # skip 2 data rows after header\n",
    "    nrows=2                # then read 2 rows\n",
    ")\n",
    "print(df_chunk)"
   ]
  },
  {
   "cell_type": "markdown",
   "id": "2a03179d-daeb-4fe3-a5df-de13669c14fd",
   "metadata": {},
   "source": [
    "# Handling Json"
   ]
  },
  {
   "cell_type": "markdown",
   "id": "51a55278-b513-4a5e-be28-dd9129567a6e",
   "metadata": {},
   "source": [
    "# Creating JSON"
   ]
  },
  {
   "cell_type": "code",
   "execution_count": 1,
   "id": "01a02d19-420b-4eac-8c27-8aca5dfbc054",
   "metadata": {},
   "outputs": [
    {
     "name": "stdout",
     "output_type": "stream",
     "text": [
      "JSON file created at C:\\Users\\Lenovo\\mydata.json\n"
     ]
    }
   ],
   "source": [
    "import json\n",
    "\n",
    "# your data as a list of dictionaries\n",
    "data = [\n",
    "    {\"Name\": \"Alice\", \"Age\": 25, \"City\": \"Delhi\"},\n",
    "    {\"Name\": \"Bob\", \"Age\": 30, \"City\": \"Mumbai\"},\n",
    "    {\"Name\": \"Charlie\", \"Age\": 22, \"City\": \"Kolkata\"},\n",
    "    {\"Name\": \"Apoorva\", \"Age\": 28, \"City\": \"Chennai\"},\n",
    "    {\"Name\": \"Arnav\", \"Age\": 24, \"City\": \"Jaipur\"}\n",
    "]\n",
    "\n",
    "# file path\n",
    "file_path = r\"C:\\Users\\Lenovo\\mydata.json\"\n",
    "\n",
    "# write JSON file\n",
    "with open(file_path, \"w\") as f:\n",
    "    json.dump(data, f, indent=4)\n",
    "\n",
    "print(\"JSON file created at\", file_path)\n"
   ]
  },
  {
   "cell_type": "markdown",
   "id": "c94097bd-0392-45c6-9a61-90c8530f7719",
   "metadata": {},
   "source": [
    "# Reading JSON file"
   ]
  },
  {
   "cell_type": "code",
   "execution_count": 3,
   "id": "fa1488ba-034c-4f9b-8724-e64952cc80e4",
   "metadata": {},
   "outputs": [
    {
     "name": "stdout",
     "output_type": "stream",
     "text": [
      "      Name  Age     City\n",
      "0    Alice   25    Delhi\n",
      "1      Bob   30   Mumbai\n",
      "2  Charlie   22  Kolkata\n",
      "3  Apoorva   28  Chennai\n",
      "4    Arnav   24   Jaipur\n"
     ]
    }
   ],
   "source": [
    "import pandas as pd\n",
    "\n",
    "file_path = r\"C:\\Users\\Lenovo\\mydata.json\"\n",
    "\n",
    "df = pd.read_json(file_path)\n",
    "print(df)"
   ]
  },
  {
   "cell_type": "markdown",
   "id": "ce4be04d-3c5a-4f42-a5c2-b6da4dae2a45",
   "metadata": {},
   "source": [
    "# Reading only a chunk of a JSON file"
   ]
  },
  {
   "cell_type": "code",
   "execution_count": 4,
   "id": "228edc64-f514-4c00-8f66-b4d9788b9b4e",
   "metadata": {},
   "outputs": [
    {
     "name": "stdout",
     "output_type": "stream",
     "text": [
      "      Name  Age     City\n",
      "0  Apoorva   28  Chennai\n",
      "1    Arnav   24   Jaipur\n"
     ]
    }
   ],
   "source": [
    "import json\n",
    "import pandas as pd\n",
    "\n",
    "file_path = r\"C:\\Users\\Lenovo\\mydata.json\"\n",
    "\n",
    "with open(file_path) as f:\n",
    "    data = json.load(f)\n",
    "\n",
    "# data is a list of dicts\n",
    "chunk = data[3:5]     # 3rd to 5th records\n",
    "df_chunk = pd.DataFrame(chunk)\n",
    "print(df_chunk)"
   ]
  },
  {
   "cell_type": "markdown",
   "id": "e03f36d9-17b6-402f-8ee9-8a957d5ab1e9",
   "metadata": {},
   "source": [
    "# Appending new rows to JSON"
   ]
  },
  {
   "cell_type": "code",
   "execution_count": 6,
   "id": "99b2ecb9-f294-4697-acc1-58cb0e83542a",
   "metadata": {},
   "outputs": [
    {
     "name": "stdout",
     "output_type": "stream",
     "text": [
      "JSON updated.\n"
     ]
    }
   ],
   "source": [
    "import json\n",
    "import pandas as pd\n",
    "\n",
    "file_path = r\"C:\\Users\\Lenovo\\mydata.json\"\n",
    "\n",
    "# read existing\n",
    "with open(file_path) as f:\n",
    "    data = json.load(f)    # list of dicts\n",
    "\n",
    "# new rows to add\n",
    "new_rows = [\n",
    "    {\"Name\": \"Rachna\", \"Age\": 28, \"City\": \"Chennai\"},\n",
    "    {\"Name\": \"Ram\", \"Age\": 24, \"City\": \"Jaipur\"}\n",
    "]\n",
    "\n",
    "# append\n",
    "data.extend(new_rows)\n",
    "\n",
    "# write back\n",
    "with open(file_path, 'w') as f:\n",
    "    json.dump(data, f, indent=4)\n",
    "\n",
    "print(\"JSON updated.\")"
   ]
  },
  {
   "cell_type": "code",
   "execution_count": 7,
   "id": "eb558b94-4215-4cb5-86f4-469661c1bf66",
   "metadata": {},
   "outputs": [
    {
     "name": "stdout",
     "output_type": "stream",
     "text": [
      "      Name  Age     City\n",
      "0    Alice   25    Delhi\n",
      "1      Bob   30   Mumbai\n",
      "2  Charlie   22  Kolkata\n",
      "3  Apoorva   28  Chennai\n",
      "4    Arnav   24   Jaipur\n",
      "5   Rachna   28  Chennai\n",
      "6      Ram   24   Jaipur\n"
     ]
    }
   ],
   "source": [
    "file_path = r\"C:\\Users\\Lenovo\\mydata.json\"\n",
    "\n",
    "df = pd.read_json(file_path)\n",
    "print(df)"
   ]
  },
  {
   "cell_type": "markdown",
   "id": "1ad6a162-a1c2-4366-bab4-f542ad95ae9b",
   "metadata": {},
   "source": [
    "# Writing numeric or text data to JSON"
   ]
  },
  {
   "cell_type": "code",
   "execution_count": 8,
   "id": "444bc242-af1e-41ce-83f8-5e66d134f591",
   "metadata": {},
   "outputs": [
    {
     "name": "stdout",
     "output_type": "stream",
     "text": [
      "Numeric and text data added successfully!\n"
     ]
    }
   ],
   "source": [
    "import pandas as pd\n",
    "import json\n",
    "import os\n",
    "\n",
    "file_path = r\"C:\\Users\\Lenovo\\mydata.json\"\n",
    "\n",
    "# Numeric data to add \n",
    "num_df = pd.DataFrame([\n",
    "    {'A': 100, 'B': 9.5},\n",
    "    {'A': 200, 'B': 8.5}\n",
    "])\n",
    "\n",
    "#Text data to add \n",
    "txt_df = pd.DataFrame([\n",
    "    {'Name': 'Simran', 'Age': 26, 'City': 'Delhi'},\n",
    "    {'Name': 'Vikram', 'Age': 29, 'City': 'Mumbai'}\n",
    "])\n",
    "\n",
    "# Load existing data or create empty list\n",
    "data = json.load(open(file_path)) if os.path.exists(file_path) else []\n",
    "\n",
    "# Append both numeric and text data\n",
    "data.extend(num_df.to_dict(orient='records'))\n",
    "data.extend(txt_df.to_dict(orient='records'))\n",
    "\n",
    "# Save back to JSON\n",
    "json.dump(data, open(file_path, 'w'), indent=4)\n",
    "\n",
    "print(\"Numeric and text data added successfully!\")"
   ]
  },
  {
   "cell_type": "code",
   "execution_count": 9,
   "id": "f763a23c-a1ea-4961-b043-797a2a95c63a",
   "metadata": {},
   "outputs": [
    {
     "name": "stdout",
     "output_type": "stream",
     "text": [
      "       Name   Age     City      A    B\n",
      "0     Alice  25.0    Delhi    NaN  NaN\n",
      "1       Bob  30.0   Mumbai    NaN  NaN\n",
      "2   Charlie  22.0  Kolkata    NaN  NaN\n",
      "3   Apoorva  28.0  Chennai    NaN  NaN\n",
      "4     Arnav  24.0   Jaipur    NaN  NaN\n",
      "5    Rachna  28.0  Chennai    NaN  NaN\n",
      "6       Ram  24.0   Jaipur    NaN  NaN\n",
      "7       NaN   NaN      NaN  100.0  9.5\n",
      "8       NaN   NaN      NaN  200.0  8.5\n",
      "9    Simran  26.0    Delhi    NaN  NaN\n",
      "10   Vikram  29.0   Mumbai    NaN  NaN\n"
     ]
    }
   ],
   "source": [
    "file_path = r\"C:\\Users\\Lenovo\\mydata.json\"\n",
    "\n",
    "df = pd.read_json(file_path)\n",
    "print(df)"
   ]
  },
  {
   "cell_type": "markdown",
   "id": "2e3d7804-79ea-406d-a47e-a2f097b16400",
   "metadata": {},
   "source": [
    "# Adding row"
   ]
  },
  {
   "cell_type": "code",
   "execution_count": 10,
   "id": "1dd7d168-e123-47e3-a264-7b080540a482",
   "metadata": {},
   "outputs": [
    {
     "name": "stdout",
     "output_type": "stream",
     "text": [
      "Row added successfully!\n"
     ]
    }
   ],
   "source": [
    "import pandas as pd\n",
    "import json\n",
    "import os\n",
    "\n",
    "file_path = r\"C:\\Users\\Lenovo\\mydata.json\"\n",
    "\n",
    "# New row to add\n",
    "new_row = pd.DataFrame([{'Name': 'Simran', 'Age': 26, 'City': 'Delhi'}])\n",
    "\n",
    "# Load existing data\n",
    "data = json.load(open(file_path)) if os.path.exists(file_path) else []\n",
    "\n",
    "# Append new row\n",
    "data.extend(new_row.to_dict(orient='records'))\n",
    "\n",
    "# Save back\n",
    "json.dump(data, open(file_path, 'w'), indent=4)\n",
    "\n",
    "print(\"Row added successfully!\")"
   ]
  },
  {
   "cell_type": "code",
   "execution_count": 11,
   "id": "08e31d50-8cd9-4070-bb9f-042b1476ad5a",
   "metadata": {},
   "outputs": [
    {
     "name": "stdout",
     "output_type": "stream",
     "text": [
      "       Name   Age     City      A    B\n",
      "0     Alice  25.0    Delhi    NaN  NaN\n",
      "1       Bob  30.0   Mumbai    NaN  NaN\n",
      "2   Charlie  22.0  Kolkata    NaN  NaN\n",
      "3   Apoorva  28.0  Chennai    NaN  NaN\n",
      "4     Arnav  24.0   Jaipur    NaN  NaN\n",
      "5    Rachna  28.0  Chennai    NaN  NaN\n",
      "6       Ram  24.0   Jaipur    NaN  NaN\n",
      "7       NaN   NaN      NaN  100.0  9.5\n",
      "8       NaN   NaN      NaN  200.0  8.5\n",
      "9    Simran  26.0    Delhi    NaN  NaN\n",
      "10   Vikram  29.0   Mumbai    NaN  NaN\n",
      "11   Simran  26.0    Delhi    NaN  NaN\n"
     ]
    }
   ],
   "source": [
    "file_path = r\"C:\\Users\\Lenovo\\mydata.json\"\n",
    "\n",
    "df = pd.read_json(file_path)\n",
    "print(df)"
   ]
  },
  {
   "cell_type": "markdown",
   "id": "9301e7fa-c209-4ea5-8150-f4f22cc85406",
   "metadata": {},
   "source": [
    "# handle exceptions"
   ]
  },
  {
   "cell_type": "markdown",
   "id": "30ce78f2-66ec-4385-819f-dbda436103f0",
   "metadata": {},
   "source": [
    "reads JSON safely with exception handling.\n",
    "\n",
    "df.fillna(True) replaces all NaNs with True.\n",
    "\n",
    "Works for both numeric and text columns.\n",
    "\n",
    "Exceptions handle missing files, corrupted JSON, or other errors."
   ]
  },
  {
   "cell_type": "code",
   "execution_count": 14,
   "id": "722ea385-6800-4378-9744-d55c64daed61",
   "metadata": {},
   "outputs": [
    {
     "name": "stdout",
     "output_type": "stream",
     "text": [
      "Updated DataFrame (NaNs replaced with True):\n",
      "       Name   Age     City      A     B\n",
      "0     Alice  25.0    Delhi   True  True\n",
      "1       Bob  30.0   Mumbai   True  True\n",
      "2   Charlie  22.0  Kolkata   True  True\n",
      "3   Apoorva  28.0  Chennai   True  True\n",
      "4     Arnav  24.0   Jaipur   True  True\n",
      "5    Rachna  28.0  Chennai   True  True\n",
      "6       Ram  24.0   Jaipur   True  True\n",
      "7      True  True     True  100.0   9.5\n",
      "8      True  True     True  200.0   8.5\n",
      "9    Simran  26.0    Delhi   True  True\n",
      "10   Vikram  29.0   Mumbai   True  True\n",
      "11   Simran  26.0    Delhi   True  True\n"
     ]
    }
   ],
   "source": [
    "import pandas as pd\n",
    "import os\n",
    "\n",
    "file_path = r\"C:\\Users\\Lenovo\\mydata.json\"\n",
    "\n",
    "try:\n",
    "    # Check if file exists\n",
    "    if not os.path.exists(file_path):\n",
    "        raise FileNotFoundError(f\"File '{file_path}' does not exist.\")\n",
    "\n",
    "    # Read JSON into a DataFrame\n",
    "    df = pd.read_json(file_path)\n",
    "\n",
    "    # Replace all NaN values with True\n",
    "    df = df.fillna(True)\n",
    "\n",
    "    # Show the updated DataFrame\n",
    "    print(\"Updated DataFrame (NaNs replaced with True):\")\n",
    "    print(df)\n",
    "\n",
    "except FileNotFoundError as fnf:\n",
    "    print(\"Error:\", fnf)\n",
    "\n",
    "except ValueError as ve:\n",
    "    print(\"Error: JSON might be corrupted or not in correct format.\", ve)\n",
    "\n",
    "except Exception as e:\n",
    "    print(\"An unexpected error occurred:\", e)\n"
   ]
  }
 ],
 "metadata": {
  "kernelspec": {
   "display_name": "Python 3 (ipykernel)",
   "language": "python",
   "name": "python3"
  },
  "language_info": {
   "codemirror_mode": {
    "name": "ipython",
    "version": 3
   },
   "file_extension": ".py",
   "mimetype": "text/x-python",
   "name": "python",
   "nbconvert_exporter": "python",
   "pygments_lexer": "ipython3",
   "version": "3.11.7"
  }
 },
 "nbformat": 4,
 "nbformat_minor": 5
}
