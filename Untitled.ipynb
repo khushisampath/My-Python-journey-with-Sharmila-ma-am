{
 "cells": [
  {
   "cell_type": "code",
   "execution_count": 1,
   "id": "02876022-81a1-4699-bcf6-b41484dcbf9e",
   "metadata": {},
   "outputs": [],
   "source": [
    "class Emp:\n",
    "    noe=0\n",
    "    raiseamt=1.4\n",
    "    def __init__(s,first,last,pay):\n",
    "        s.first=first\n",
    "        s.last=last\n",
    "        s.pay=pay\n",
    "        s.kay=15\n",
    "    def greet(sk):\n",
    "        print(\"hello\")"
   ]
  },
  {
   "cell_type": "code",
   "execution_count": 2,
   "id": "6ad4ab01-6af2-400e-ac27-0d03d30ede71",
   "metadata": {},
   "outputs": [],
   "source": [
    "e1=Emp(\"hi\",\"hello\",1500)\n"
   ]
  },
  {
   "cell_type": "code",
   "execution_count": 3,
   "id": "60001736-fea0-48f6-9fac-bd8337115879",
   "metadata": {},
   "outputs": [
    {
     "name": "stdout",
     "output_type": "stream",
     "text": [
      "{'first': 'hi', 'last': 'hello', 'pay': 1500, 'kay': 15}\n"
     ]
    }
   ],
   "source": [
    "print(e1.__dict__)"
   ]
  },
  {
   "cell_type": "code",
   "execution_count": 4,
   "id": "749972de-15e1-42f0-9fcb-b070ddd9b9e3",
   "metadata": {},
   "outputs": [
    {
     "data": {
      "text/plain": [
       "15"
      ]
     },
     "execution_count": 4,
     "metadata": {},
     "output_type": "execute_result"
    }
   ],
   "source": [
    "e1.kay"
   ]
  },
  {
   "cell_type": "code",
   "execution_count": 5,
   "id": "2f255b06-1b02-436d-ad80-51217023c894",
   "metadata": {},
   "outputs": [
    {
     "data": {
      "text/plain": [
       "1.4"
      ]
     },
     "execution_count": 5,
     "metadata": {},
     "output_type": "execute_result"
    }
   ],
   "source": [
    "e1.raiseamt"
   ]
  },
  {
   "cell_type": "code",
   "execution_count": 6,
   "id": "9adb5198-068d-4afe-8982-a42f6d089826",
   "metadata": {},
   "outputs": [
    {
     "name": "stdout",
     "output_type": "stream",
     "text": [
      "6.4\n"
     ]
    }
   ],
   "source": [
    "print(e1.raiseamt+5)"
   ]
  },
  {
   "cell_type": "code",
   "execution_count": 7,
   "id": "7128bc32-ee9d-4802-8090-efa251be9382",
   "metadata": {},
   "outputs": [],
   "source": [
    "e2=Emp(\"good\",\"morning\",1000)\n"
   ]
  },
  {
   "cell_type": "code",
   "execution_count": 8,
   "id": "c2efc7e4-0d1b-45db-b7dc-5994fcd7d7e1",
   "metadata": {},
   "outputs": [
    {
     "name": "stdout",
     "output_type": "stream",
     "text": [
      "{'first': 'good', 'last': 'morning', 'pay': 1000, 'kay': 15}\n"
     ]
    }
   ],
   "source": [
    "print(e2.__dict__)"
   ]
  },
  {
   "cell_type": "code",
   "execution_count": 9,
   "id": "71fc507f-1fb5-4325-95b8-f9ecc05581ea",
   "metadata": {},
   "outputs": [],
   "source": [
    "e2.raiseamt=15"
   ]
  },
  {
   "cell_type": "code",
   "execution_count": 10,
   "id": "42649d3e-9e66-4f61-b3b5-541042343283",
   "metadata": {},
   "outputs": [
    {
     "name": "stdout",
     "output_type": "stream",
     "text": [
      "{'first': 'good', 'last': 'morning', 'pay': 1000, 'kay': 15, 'raiseamt': 15}\n"
     ]
    }
   ],
   "source": [
    "print(e2.__dict__)"
   ]
  },
  {
   "cell_type": "code",
   "execution_count": 11,
   "id": "7b941ef3-13ec-4585-b67d-d38cbef0a752",
   "metadata": {},
   "outputs": [
    {
     "data": {
      "text/plain": [
       "'good'"
      ]
     },
     "execution_count": 11,
     "metadata": {},
     "output_type": "execute_result"
    }
   ],
   "source": [
    "e2.first"
   ]
  },
  {
   "cell_type": "code",
   "execution_count": 12,
   "id": "ff88bae3-0163-479e-84b8-24e4da74c7a1",
   "metadata": {},
   "outputs": [
    {
     "data": {
      "text/plain": [
       "1.4"
      ]
     },
     "execution_count": 12,
     "metadata": {},
     "output_type": "execute_result"
    }
   ],
   "source": [
    "Emp.raiseamt"
   ]
  },
  {
   "cell_type": "code",
   "execution_count": 13,
   "id": "1d30a241-5a6f-4840-97ed-c086fd7bf12c",
   "metadata": {},
   "outputs": [
    {
     "ename": "AttributeError",
     "evalue": "type object 'Emp' has no attribute 'first'",
     "output_type": "error",
     "traceback": [
      "\u001b[1;31m---------------------------------------------------------------------------\u001b[0m",
      "\u001b[1;31mAttributeError\u001b[0m                            Traceback (most recent call last)",
      "Cell \u001b[1;32mIn[13], line 1\u001b[0m\n\u001b[1;32m----> 1\u001b[0m Emp\u001b[38;5;241m.\u001b[39mfirst\n",
      "\u001b[1;31mAttributeError\u001b[0m: type object 'Emp' has no attribute 'first'"
     ]
    }
   ],
   "source": [
    "Emp.first"
   ]
  },
  {
   "cell_type": "code",
   "execution_count": 39,
   "id": "1b6712cc-2782-4813-af9c-cf9b84d8f8ac",
   "metadata": {},
   "outputs": [],
   "source": [
    "class MyClass:\n",
    "    # static / class variable\n",
    "    counter = 0  \n",
    "\n",
    "    def __init__(self):\n",
    "        MyClass.counter += 1\n",
    "\n",
    "# Creating instances\n",
    "a = MyClass()\n",
    "       # 2\n"
   ]
  },
  {
   "cell_type": "code",
   "execution_count": 40,
   "id": "d2cc99a3-1978-4279-b645-72ffea3b1f47",
   "metadata": {},
   "outputs": [
    {
     "data": {
      "text/plain": [
       "1"
      ]
     },
     "execution_count": 40,
     "metadata": {},
     "output_type": "execute_result"
    }
   ],
   "source": [
    "a.counter"
   ]
  },
  {
   "cell_type": "code",
   "execution_count": 41,
   "id": "1d1ad1d9-4713-4148-a21c-6529ffb6ff7d",
   "metadata": {},
   "outputs": [
    {
     "name": "stdout",
     "output_type": "stream",
     "text": [
      "2\n",
      "2\n",
      "2\n"
     ]
    }
   ],
   "source": [
    "b = MyClass()\n",
    "\n",
    "print(MyClass.counter)  # 2 (shared by all instances)\n",
    "print(a.counter)        # 2 (accessed via instance)\n",
    "print(b.counter) "
   ]
  },
  {
   "cell_type": "code",
   "execution_count": 42,
   "id": "e29ab7c2-283d-4434-a07b-cb4643fe6fcf",
   "metadata": {},
   "outputs": [],
   "source": [
    "c=MyClass()"
   ]
  },
  {
   "cell_type": "code",
   "execution_count": 43,
   "id": "d313621a-94cc-45c7-9863-595dfcaec688",
   "metadata": {},
   "outputs": [
    {
     "data": {
      "text/plain": [
       "3"
      ]
     },
     "execution_count": 43,
     "metadata": {},
     "output_type": "execute_result"
    }
   ],
   "source": [
    "c.counter\n"
   ]
  },
  {
   "cell_type": "code",
   "execution_count": 44,
   "id": "0f7b55f9-c404-4179-b201-45c2ef573586",
   "metadata": {},
   "outputs": [
    {
     "name": "stdout",
     "output_type": "stream",
     "text": [
      "Animal makes a sound\n",
      "Animal makes a sound\n"
     ]
    }
   ],
   "source": [
    "# Base class (Parent)\n",
    "class Animal:\n",
    "    def speak(self):\n",
    "        print(\"Animal makes a sound\")\n",
    "\n",
    "# Derived class (Child)\n",
    "class Dog(Animal):\n",
    "    pass\n",
    "    #def speak(self):\n",
    "       # print(\"Dog barks\")\n",
    "\n",
    "# Create objects\n",
    "a = Animal()\n",
    "d = Dog()\n",
    "\n",
    "a.speak()  # Output: Animal makes a sound\n",
    "d.speak()  # Output: Dog barks\n"
   ]
  },
  {
   "cell_type": "code",
   "execution_count": 45,
   "id": "24cfe8df-16e6-4f61-97ba-91f56251d119",
   "metadata": {},
   "outputs": [
    {
     "name": "stdout",
     "output_type": "stream",
     "text": [
      "Animal makes a sound\n",
      "Dog barks\n"
     ]
    }
   ],
   "source": [
    "# Base class (Parent)\n",
    "class Animal:\n",
    "    def speak(self):\n",
    "        print(\"Animal makes a sound\")\n",
    "\n",
    "# Derived class (Child)\n",
    "class Dog(Animal):\n",
    "    def speak(self):\n",
    "        print(\"Dog barks\")\n",
    "\n",
    "# Create objects\n",
    "a = Animal()\n",
    "d = Dog()\n",
    "\n",
    "a.speak()  # Output: Animal makes a sound\n",
    "d.speak()  # Output: Dog barks\n"
   ]
  },
  {
   "cell_type": "code",
   "execution_count": 46,
   "id": "9485d7f2-0f3e-4c27-97ca-8403539e2281",
   "metadata": {},
   "outputs": [],
   "source": [
    "class tech(Emp):\n",
    "    pass"
   ]
  },
  {
   "cell_type": "code",
   "execution_count": 47,
   "id": "a35f0702-17d0-4618-816a-12742d6dc269",
   "metadata": {},
   "outputs": [],
   "source": [
    "e5=tech(\"hello\",\"hi\",2000)"
   ]
  },
  {
   "cell_type": "code",
   "execution_count": 48,
   "id": "f24ba018-e77f-4c9d-92aa-3a03e82dc0c8",
   "metadata": {},
   "outputs": [
    {
     "data": {
      "text/plain": [
       "{'first': 'hello', 'last': 'hi', 'pay': 2000, 'kay': 15}"
      ]
     },
     "execution_count": 48,
     "metadata": {},
     "output_type": "execute_result"
    }
   ],
   "source": [
    "e5.__dict__"
   ]
  },
  {
   "cell_type": "code",
   "execution_count": 49,
   "id": "6a861a83-04ff-42e3-96a4-072066ef9a2c",
   "metadata": {},
   "outputs": [
    {
     "name": "stdout",
     "output_type": "stream",
     "text": [
      "hello\n"
     ]
    }
   ],
   "source": [
    "e5.greet()"
   ]
  },
  {
   "cell_type": "code",
   "execution_count": 50,
   "id": "eab14ee3-f180-48be-a843-6a28addb5225",
   "metadata": {},
   "outputs": [],
   "source": [
    "class tech(Emp):\n",
    "    def greet(d):\n",
    "        d.prt=\"goodnight\"\n",
    "        print(d.prt)"
   ]
  },
  {
   "cell_type": "code",
   "execution_count": 51,
   "id": "585fdf94-a5af-46ca-b5db-13d1bb70401b",
   "metadata": {},
   "outputs": [
    {
     "name": "stdout",
     "output_type": "stream",
     "text": [
      "hello\n"
     ]
    }
   ],
   "source": [
    "e5.greet()"
   ]
  },
  {
   "cell_type": "code",
   "execution_count": 52,
   "id": "0eaa075a-7d54-450f-b861-7db89c9617a9",
   "metadata": {},
   "outputs": [],
   "source": [
    "class A:\n",
    "    def method_a(s):\n",
    "        print(\"method a\")\n",
    "        "
   ]
  },
  {
   "cell_type": "code",
   "execution_count": 53,
   "id": "e37fbdba-debe-44f9-b363-a1508905fe8c",
   "metadata": {},
   "outputs": [],
   "source": [
    "class B:\n",
    "    def method_b(s):\n",
    "        print(\"method b\")\n",
    "        "
   ]
  },
  {
   "cell_type": "code",
   "execution_count": 54,
   "id": "7ed50154-4423-4ebc-973b-e75855708459",
   "metadata": {},
   "outputs": [],
   "source": [
    "class C(A,B):\n",
    "     def method_c(s):\n",
    "        print(\"method c\")"
   ]
  },
  {
   "cell_type": "code",
   "execution_count": 55,
   "id": "a023190f-625f-4297-92e3-9de9f53d8683",
   "metadata": {},
   "outputs": [],
   "source": [
    "c1=C()\n"
   ]
  },
  {
   "cell_type": "code",
   "execution_count": 56,
   "id": "a9d20384-3cfc-4f4c-bfcd-631620092447",
   "metadata": {},
   "outputs": [
    {
     "name": "stdout",
     "output_type": "stream",
     "text": [
      "method a\n",
      "method b\n",
      "method c\n"
     ]
    }
   ],
   "source": [
    "c1.method_a()\n",
    "c1.method_b()\n",
    "c1.method_c()"
   ]
  },
  {
   "cell_type": "code",
   "execution_count": 57,
   "id": "d1add9a1-9c89-49a5-a223-afff28d4301c",
   "metadata": {},
   "outputs": [],
   "source": [
    "class X:\n",
    "    def method_x(s):\n",
    "        print(\"method x\")\n",
    "class Y(X):\n",
    "    def method_y(s):\n",
    "        print(\"method y\")\n",
    "class Z(Y):\n",
    "    def method_z(s):\n",
    "        print(\"method z\")\n",
    "        \n",
    "        \n",
    "        "
   ]
  },
  {
   "cell_type": "code",
   "execution_count": 58,
   "id": "9cf29dc6-f799-44a8-bcc7-6ab72a9e2a80",
   "metadata": {},
   "outputs": [],
   "source": [
    "z1=Z()"
   ]
  },
  {
   "cell_type": "code",
   "execution_count": 59,
   "id": "41aa75e4-d563-4fac-8d27-ce5fc208dab2",
   "metadata": {},
   "outputs": [
    {
     "name": "stdout",
     "output_type": "stream",
     "text": [
      "method x\n",
      "method y\n",
      "method y\n"
     ]
    }
   ],
   "source": [
    "z1.method_x()\n",
    "z1.method_y()\n",
    "z1.method_y()"
   ]
  },
  {
   "cell_type": "code",
   "execution_count": 60,
   "id": "352f04b8-b7d8-432b-a20a-de745a1184e5",
   "metadata": {},
   "outputs": [],
   "source": [
    "class Contact:\n",
    "    all_contacts=[]\n",
    "    def __init__(s,name,id):\n",
    "        s.name=name\n",
    "        s.id=id\n",
    "        Contact.all_contacts.append(s)\n"
   ]
  },
  {
   "cell_type": "code",
   "execution_count": 61,
   "id": "fa2c42d6-0034-48b9-ad5b-13c90971071b",
   "metadata": {},
   "outputs": [],
   "source": [
    "class Supplier(Contact):\n",
    "    def order(s,order):\n",
    "        print(\"send\"\"{} order to{}\".format(order,s.name))"
   ]
  },
  {
   "cell_type": "code",
   "execution_count": 62,
   "id": "827553c1-7763-4011-a237-4f3896c4a8f2",
   "metadata": {},
   "outputs": [
    {
     "name": "stdout",
     "output_type": "stream",
     "text": [
      "Khushi Sampath Druti Sampath\n"
     ]
    }
   ],
   "source": [
    "c=Contact(\"Khushi\",\"Sampath\")\n",
    "s=Contact(\"Druti\",\"Sampath\")\n",
    "print(c.name,c.id,s.name,s.id)"
   ]
  },
  {
   "cell_type": "code",
   "execution_count": 63,
   "id": "b01ff44d-bb0c-4cd3-9d14-51185a62f487",
   "metadata": {},
   "outputs": [
    {
     "data": {
      "text/plain": [
       "[<__main__.Contact at 0x23a55792810>, <__main__.Contact at 0x23a56477690>]"
      ]
     },
     "execution_count": 63,
     "metadata": {},
     "output_type": "execute_result"
    }
   ],
   "source": [
    "c.all_contacts#to show that inheritace is uni directional"
   ]
  },
  {
   "cell_type": "code",
   "execution_count": 64,
   "id": "82681e50-ce32-48d3-a3a2-7bd350b54965",
   "metadata": {},
   "outputs": [
    {
     "data": {
      "text/plain": [
       "[<__main__.Contact at 0x23a55792810>, <__main__.Contact at 0x23a56477690>]"
      ]
     },
     "execution_count": 64,
     "metadata": {},
     "output_type": "execute_result"
    }
   ],
   "source": [
    "s.all_contacts"
   ]
  },
  {
   "cell_type": "code",
   "execution_count": 65,
   "id": "bf16bdf1-11b4-4dc6-a923-5b0135ef5a2d",
   "metadata": {},
   "outputs": [],
   "source": [
    "class ContactList(list):\n",
    "    def search(self, name) :\n",
    "        #\"Return all contacts that contain the search value in their name.\"\n",
    "        matching_contacts =[]\n",
    "        for contact in self:\n",
    "            if name in contact. name:\n",
    "                matching_contacts. append (contact)\n",
    "        return matching_contacts"
   ]
  },
  {
   "cell_type": "code",
   "execution_count": 66,
   "id": "9b3f0b1f-14bf-434a-8d3a-db44f7308380",
   "metadata": {},
   "outputs": [],
   "source": [
    "class Contact:\n",
    "    all_contacts= ContactList() # Shared list of all contacts\n",
    "    def init (self, name, email):\n",
    "        self. name = name\n",
    "        self.email = email\n",
    "        self. all_contacts. append (self)\n",
    "# Add self to the shared contact List"
   ]
  },
  {
   "cell_type": "code",
   "execution_count": null,
   "id": "26a93304-28bf-4498-9eec-2e284e310238",
   "metadata": {},
   "outputs": [],
   "source": []
  },
  {
   "cell_type": "code",
   "execution_count": null,
   "id": "4bf1776c-6a50-4556-ae45-c9be224ae2e5",
   "metadata": {},
   "outputs": [],
   "source": []
  }
 ],
 "metadata": {
  "kernelspec": {
   "display_name": "Python 3 (ipykernel)",
   "language": "python",
   "name": "python3"
  },
  "language_info": {
   "codemirror_mode": {
    "name": "ipython",
    "version": 3
   },
   "file_extension": ".py",
   "mimetype": "text/x-python",
   "name": "python",
   "nbconvert_exporter": "python",
   "pygments_lexer": "ipython3",
   "version": "3.11.7"
  }
 },
 "nbformat": 4,
 "nbformat_minor": 5
}
