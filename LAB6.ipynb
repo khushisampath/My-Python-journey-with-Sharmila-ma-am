{
 "cells": [
  {
   "cell_type": "markdown",
   "id": "8d9cbbf8-3dd9-4bd1-aa5b-702901779759",
   "metadata": {},
   "source": [
    "# 1. Passing Arguments – Positional & Keyword"
   ]
  },
  {
   "cell_type": "code",
   "execution_count": 1,
   "id": "f676180e-407b-4ffd-8919-6603129978d7",
   "metadata": {},
   "outputs": [
    {
     "name": "stdout",
     "output_type": "stream",
     "text": [
      "\n",
      "I have a dog.\n",
      "My dog's name is Bruno.\n",
      "\n",
      "I have a hamster.\n",
      "My hamster's name is Harry.\n"
     ]
    }
   ],
   "source": [
    "def describe_pet(animal_type, pet_name):\n",
    "    # Function takes 2 parameters: animal type and pet name\n",
    "    print(f\"\\nI have a {animal_type}.\")  \n",
    "    print(f\"My {animal_type}'s name is {pet_name.title()}.\")\n",
    "\n",
    "# Positional arguments\n",
    "describe_pet('dog', 'bruno')     # first → animal_type, second → pet_name\n",
    "describe_pet('hamster', 'harry')\n"
   ]
  },
  {
   "cell_type": "markdown",
   "id": "2baf4e29-66e1-4255-bcb4-4a3d3b8e3a4e",
   "metadata": {},
   "source": [
    "# 2. Multiple Function Calls"
   ]
  },
  {
   "cell_type": "code",
   "execution_count": 2,
   "id": "f2791404-169e-4fdb-b936-7e3968bcc4e2",
   "metadata": {},
   "outputs": [
    {
     "name": "stdout",
     "output_type": "stream",
     "text": [
      "\n",
      "I have a dog.\n",
      "My dog's name is Bruno.\n",
      "\n",
      "I have a cat.\n",
      "My cat's name is Tommy.\n",
      "\n",
      "I have a parrot.\n",
      "My parrot's name is Polly.\n"
     ]
    }
   ],
   "source": [
    "def describe_pet(animal_type, pet_name):\n",
    "    print(f\"\\nI have a {animal_type}.\")\n",
    "    print(f\"My {animal_type}'s name is {pet_name.title()}.\")\n",
    "\n",
    "# Calling same function multiple times with different data\n",
    "describe_pet('dog', 'bruno')\n",
    "describe_pet('cat', 'tommy')\n",
    "describe_pet('parrot', 'polly')\n"
   ]
  },
  {
   "cell_type": "markdown",
   "id": "dac8d63a-e97e-4e32-8fc0-210f95408215",
   "metadata": {},
   "source": [
    "# 3. Order Matters in Positional Arguments"
   ]
  },
  {
   "cell_type": "code",
   "execution_count": 17,
   "id": "12472099-6b95-4b9b-8c29-3618791c81b0",
   "metadata": {},
   "outputs": [
    {
     "name": "stdout",
     "output_type": "stream",
     "text": [
      "\n",
      "I have a bruno.\n",
      "My bruno's name is Dog.\n"
     ]
    }
   ],
   "source": [
    "def describe_pet(animal_type, pet_name):\n",
    "    print(f\"\\nI have a {animal_type}.\")\n",
    "    print(f\"My {animal_type}'s name is {pet_name.title()}.\")\n",
    "\n",
    "# Wrong order → changes meaning\n",
    "describe_pet('bruno', 'dog')   # here animal_type='bruno', pet_name='dog'\n"
   ]
  },
  {
   "cell_type": "markdown",
   "id": "4d5c74b7-1af1-4ff4-9ea8-131c41587aed",
   "metadata": {},
   "source": [
    "# 4. Keyword Arguments"
   ]
  },
  {
   "cell_type": "code",
   "execution_count": 18,
   "id": "5994f31a-ed79-4a4f-9772-0f5f3649ec2b",
   "metadata": {},
   "outputs": [
    {
     "name": "stdout",
     "output_type": "stream",
     "text": [
      "\n",
      "I have a dog.\n",
      "My dog's name is Bruno.\n",
      "\n",
      "I have a hamster.\n",
      "My hamster's name is Harry.\n",
      "\n",
      "I have a hamster.\n",
      "My hamster's name is Harry.\n"
     ]
    }
   ],
   "source": [
    "def describe_pet(animal_type='dog', pet_name=''):\n",
    "    print(f\"\\nI have a {animal_type}.\")\n",
    "    print(f\"My {animal_type}'s name is {pet_name.title()}.\")\n",
    "\n",
    "# Using keyword arguments\n",
    "describe_pet(pet_name='bruno')  \n",
    "describe_pet(pet_name='harry', animal_type='hamster')  \n",
    "describe_pet(animal_type='hamster', pet_name='harry')\n"
   ]
  },
  {
   "cell_type": "markdown",
   "id": "c047af5e-2670-48a5-89a8-e992ed2aea0c",
   "metadata": {},
   "source": [
    "# 5. Default Values"
   ]
  },
  {
   "cell_type": "code",
   "execution_count": 19,
   "id": "09c4725c-2b13-4655-81c6-26cf4bdfb450",
   "metadata": {},
   "outputs": [
    {
     "name": "stdout",
     "output_type": "stream",
     "text": [
      "\n",
      "I have a dog.\n",
      "My dog's name is Tommy.\n",
      "\n",
      "I have a cat.\n",
      "My cat's name is Bruno.\n"
     ]
    }
   ],
   "source": [
    "def describe_pet(pet_name, animal_type='dog'):\n",
    "    # animal_type defaults to 'dog'\n",
    "    print(f\"\\nI have a {animal_type}.\")\n",
    "    print(f\"My {animal_type}'s name is {pet_name.title()}.\")\n",
    "\n",
    "describe_pet('tommy')          # animal_type defaults to dog\n",
    "describe_pet('bruno', 'cat')   # overrides default\n"
   ]
  },
  {
   "cell_type": "markdown",
   "id": "bacd6486-0d8b-450b-acb8-63cec4eef09a",
   "metadata": {},
   "source": [
    "# 6. Many Ways to Call a Function"
   ]
  },
  {
   "cell_type": "code",
   "execution_count": 20,
   "id": "58b81ba0-52e9-467d-bd8e-211529c6b4c0",
   "metadata": {},
   "outputs": [
    {
     "name": "stdout",
     "output_type": "stream",
     "text": [
      "\n",
      "I have a bruno.\n",
      "My bruno's name is .\n",
      "\n",
      "I have a dog.\n",
      "My dog's name is Bruno.\n",
      "\n",
      "I have a harry.\n",
      "My harry's name is Hamster.\n",
      "\n",
      "I have a hamster.\n",
      "My hamster's name is Harry.\n",
      "\n",
      "I have a hamster.\n",
      "My hamster's name is Harry.\n"
     ]
    }
   ],
   "source": [
    "def describe_pet(animal_type='dog', pet_name=''):\n",
    "    print(f\"\\nI have a {animal_type}.\")\n",
    "    print(f\"My {animal_type}'s name is {pet_name.title()}.\")\n",
    "\n",
    "describe_pet('bruno')                          # positional only\n",
    "describe_pet(pet_name='bruno')                 # keyword only\n",
    "describe_pet('harry', 'hamster')               # positional both\n",
    "describe_pet(pet_name='harry', animal_type='hamster') # keyword both\n",
    "describe_pet(animal_type='hamster', pet_name='harry') # keyword swapped order\n"
   ]
  },
  {
   "cell_type": "markdown",
   "id": "171216bf-36cc-413c-908a-d21a9f79c9f3",
   "metadata": {},
   "source": [
    "# 7. Returning a Simple Value"
   ]
  },
  {
   "cell_type": "code",
   "execution_count": 21,
   "id": "5aeb3bce-52fb-4d85-a718-3d01482361ed",
   "metadata": {},
   "outputs": [
    {
     "name": "stdout",
     "output_type": "stream",
     "text": [
      "Albert Einstein\n"
     ]
    }
   ],
   "source": [
    "def get_formatted_name(first_name, last_name):\n",
    "    full_name = f\"{first_name} {last_name}\"\n",
    "    return full_name.title()   # returns value, not just prints\n",
    "\n",
    "name = get_formatted_name('albert', 'einstein')\n",
    "print(name)\n"
   ]
  },
  {
   "cell_type": "markdown",
   "id": "7d0b258c-445d-4a86-9cab-18604051001d",
   "metadata": {},
   "source": [
    "# 8. Making an Argument Optional"
   ]
  },
  {
   "cell_type": "code",
   "execution_count": 22,
   "id": "1067f5fa-ae50-4d3c-b8d4-c7b21361b5bb",
   "metadata": {},
   "outputs": [
    {
     "name": "stdout",
     "output_type": "stream",
     "text": [
      "John Doe\n",
      "John Paul Doe\n"
     ]
    }
   ],
   "source": [
    "def get_formatted_name(first_name, last_name, middle_name=''):\n",
    "    if middle_name:   # check if middle_name is given\n",
    "        full_name = f\"{first_name} {middle_name} {last_name}\"\n",
    "    else:\n",
    "        full_name = f\"{first_name} {last_name}\"\n",
    "    return full_name.title()\n",
    "\n",
    "print(get_formatted_name('john', 'doe'))\n",
    "print(get_formatted_name('john', 'doe', 'paul'))\n"
   ]
  },
  {
   "cell_type": "markdown",
   "id": "4f97cf3c-8e85-4fc0-a082-218cd039f310",
   "metadata": {},
   "source": [
    "# 9. Returning a Dictionary"
   ]
  },
  {
   "cell_type": "code",
   "execution_count": 23,
   "id": "ab9313a0-b394-47eb-a8c5-9bcbe5bd11b1",
   "metadata": {},
   "outputs": [
    {
     "name": "stdout",
     "output_type": "stream",
     "text": [
      "{'first': 'albert', 'last': 'einstein'}\n",
      "{'first': 'marie', 'last': 'curie', 'age': 66}\n"
     ]
    }
   ],
   "source": [
    "def build_person(first_name, last_name, age=None):\n",
    "    person = {'first': first_name, 'last': last_name}\n",
    "    if age:   # only add if provided\n",
    "        person['age'] = age\n",
    "    return person\n",
    "\n",
    "print(build_person('albert', 'einstein'))\n",
    "print(build_person('marie', 'curie', 66))\n"
   ]
  },
  {
   "cell_type": "markdown",
   "id": "73b2192a-a8fb-41a8-8a83-24fbbc0fd968",
   "metadata": {},
   "source": [
    "# 10. Passing a List"
   ]
  },
  {
   "cell_type": "code",
   "execution_count": 24,
   "id": "7cd09041-3b2c-4dd9-b01e-b84722fce9ec",
   "metadata": {},
   "outputs": [
    {
     "name": "stdout",
     "output_type": "stream",
     "text": [
      "Hello, Hannah!\n",
      "Hello, Ty!\n",
      "Hello, Margot!\n"
     ]
    }
   ],
   "source": [
    "def greet_users(names):\n",
    "    for name in names:\n",
    "        print(f\"Hello, {name.title()}!\")\n",
    "\n",
    "usernames = ['hannah', 'ty', 'margot']\n",
    "greet_users(usernames)\n"
   ]
  },
  {
   "cell_type": "markdown",
   "id": "9818b8db-5043-454a-9bf3-551c3dcecd92",
   "metadata": {},
   "source": [
    "# 11. Modifying a List inside the Function (HW)"
   ]
  },
  {
   "cell_type": "code",
   "execution_count": 25,
   "id": "aea73878-dc21-4c2b-9045-4e9b61a9b02f",
   "metadata": {},
   "outputs": [
    {
     "name": "stdout",
     "output_type": "stream",
     "text": [
      "Printing model: drone\n",
      "Printing model: robot\n",
      "Printing model: phone case\n",
      "Completed models: ['drone', 'robot', 'phone case']\n"
     ]
    }
   ],
   "source": [
    "def print_models(unprinted_designs, completed_models):\n",
    "    while unprinted_designs:\n",
    "        current = unprinted_designs.pop()\n",
    "        print(f\"Printing model: {current}\")\n",
    "        completed_models.append(current)\n",
    "\n",
    "unprinted = ['phone case', 'robot', 'drone']\n",
    "completed = []\n",
    "print_models(unprinted, completed)\n",
    "print(\"Completed models:\", completed)\n"
   ]
  },
  {
   "cell_type": "markdown",
   "id": "5e89c4cc-ec09-4cb5-b84c-7b77f75af937",
   "metadata": {},
   "source": [
    "# 12. Protecting a List from Updates (HW)"
   ]
  },
  {
   "cell_type": "code",
   "execution_count": 26,
   "id": "4e6a2454-4e4f-4798-9c83-09f955181eb2",
   "metadata": {},
   "outputs": [
    {
     "name": "stdout",
     "output_type": "stream",
     "text": [
      "Printing model: bike\n",
      "Printing model: car\n",
      "Original list still intact: ['car', 'bike']\n"
     ]
    }
   ],
   "source": [
    "def print_models_safe(unprinted_designs, completed_models):\n",
    "    while unprinted_designs:\n",
    "        current = unprinted_designs.pop()\n",
    "        print(f\"Printing model: {current}\")\n",
    "        completed_models.append(current)\n",
    "\n",
    "unprinted = ['car', 'bike']\n",
    "completed = []\n",
    "print_models_safe(unprinted[:], completed)  # pass copy\n",
    "print(\"Original list still intact:\", unprinted)\n"
   ]
  },
  {
   "cell_type": "markdown",
   "id": "12a8f9b3-de4e-496b-bbe6-712e1f5103e2",
   "metadata": {},
   "source": [
    "# 13. Passing an Arbitrary Number of Arguments"
   ]
  },
  {
   "cell_type": "code",
   "execution_count": 27,
   "id": "30ade98f-85a9-4c5b-94f2-168af1670ec6",
   "metadata": {},
   "outputs": [
    {
     "name": "stdout",
     "output_type": "stream",
     "text": [
      "Making a pizza with toppings:\n",
      "- pepperoni\n",
      "Making a pizza with toppings:\n",
      "- mushrooms\n",
      "- cheese\n",
      "- olives\n"
     ]
    }
   ],
   "source": [
    "def make_pizza(*toppings):  # * collects all into tuple\n",
    "    print(\"Making a pizza with toppings:\")\n",
    "    for topping in toppings:\n",
    "        print(f\"- {topping}\")\n",
    "\n",
    "make_pizza('pepperoni')\n",
    "make_pizza('mushrooms', 'cheese', 'olives')\n"
   ]
  },
  {
   "cell_type": "markdown",
   "id": "a7c3ecf7-d038-440d-b0b5-fa1c6ae444dc",
   "metadata": {},
   "source": [
    "# 14. Mixing Positional and Arbitrary Arguments"
   ]
  },
  {
   "cell_type": "code",
   "execution_count": 28,
   "id": "371c229c-ab59-46cc-b8dc-6baff261564e",
   "metadata": {},
   "outputs": [
    {
     "name": "stdout",
     "output_type": "stream",
     "text": [
      "\n",
      "Making a 12-inch pizza with:\n",
      "- cheese\n",
      "\n",
      "Making a 16-inch pizza with:\n",
      "- pepperoni\n",
      "- olives\n",
      "- extra cheese\n"
     ]
    }
   ],
   "source": [
    "def make_pizza(size, *toppings):\n",
    "    print(f\"\\nMaking a {size}-inch pizza with:\")\n",
    "    for topping in toppings:\n",
    "        print(f\"- {topping}\")\n",
    "\n",
    "make_pizza(12, 'cheese')\n",
    "make_pizza(16, 'pepperoni', 'olives', 'extra cheese')\n"
   ]
  },
  {
   "cell_type": "markdown",
   "id": "85d417a7-8a69-4a58-8ea0-de1c7fb90dfc",
   "metadata": {},
   "source": [
    "# 15. Using Arbitrary Keyword Arguments"
   ]
  },
  {
   "cell_type": "code",
   "execution_count": 29,
   "id": "949b8644-9548-4fb0-acca-0619774fb845",
   "metadata": {},
   "outputs": [
    {
     "name": "stdout",
     "output_type": "stream",
     "text": [
      "{'first': 'albert', 'last': 'einstein', 'location': 'princeton', 'field': 'physics'}\n"
     ]
    }
   ],
   "source": [
    "def build_profile(first, last, **info):  # ** collects key-value pairs\n",
    "    profile = {'first': first, 'last': last}\n",
    "    profile.update(info)\n",
    "    return profile\n",
    "\n",
    "user_profile = build_profile('albert', 'einstein', location='princeton', field='physics')\n",
    "print(user_profile)\n"
   ]
  },
  {
   "cell_type": "code",
   "execution_count": null,
   "id": "33b6a45b-d36b-4b11-8e45-e8aa4087586a",
   "metadata": {},
   "outputs": [],
   "source": []
  }
 ],
 "metadata": {
  "kernelspec": {
   "display_name": "Python 3 (ipykernel)",
   "language": "python",
   "name": "python3"
  },
  "language_info": {
   "codemirror_mode": {
    "name": "ipython",
    "version": 3
   },
   "file_extension": ".py",
   "mimetype": "text/x-python",
   "name": "python",
   "nbconvert_exporter": "python",
   "pygments_lexer": "ipython3",
   "version": "3.11.7"
  }
 },
 "nbformat": 4,
 "nbformat_minor": 5
}
