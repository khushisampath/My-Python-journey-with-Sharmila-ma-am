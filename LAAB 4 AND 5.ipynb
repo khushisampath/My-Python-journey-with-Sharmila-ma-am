{
 "cells": [
  {
   "cell_type": "markdown",
   "id": "1b57d04c-e23b-47d1-b610-79c06481ce03",
   "metadata": {},
   "source": [
    "# LAB 4 AND 5"
   ]
  },
  {
   "cell_type": "markdown",
   "id": "47a093df-e450-44af-93dc-cb0f3adfc835",
   "metadata": {},
   "source": [
    "# ---------------------------------------\r\n",
    "# LIST SLICING BASICS\r\n",
    "# ---------------------------------------"
   ]
  },
  {
   "cell_type": "code",
   "execution_count": 4,
   "id": "744accc0-ad18-470c-80b7-440b2aac407c",
   "metadata": {},
   "outputs": [],
   "source": [
    "m = [0, 1, 2, 3, 4, 5]"
   ]
  },
  {
   "cell_type": "code",
   "execution_count": 5,
   "id": "bad96904-d5c1-49c6-9a27-238c34f065a9",
   "metadata": {},
   "outputs": [
    {
     "data": {
      "text/plain": [
       "[1, 2]"
      ]
     },
     "execution_count": 5,
     "metadata": {},
     "output_type": "execute_result"
    }
   ],
   "source": [
    "# Elements from index 1 to 2 (end index excluded)\n",
    "m[1:3]"
   ]
  },
  {
   "cell_type": "code",
   "execution_count": 6,
   "id": "b6f066b7-c271-4b0d-b30c-4db4d3b0332c",
   "metadata": {},
   "outputs": [
    {
     "data": {
      "text/plain": [
       "[2, 3, 4, 5]"
      ]
     },
     "execution_count": 6,
     "metadata": {},
     "output_type": "execute_result"
    }
   ],
   "source": [
    "# Elements from index 2 to end\n",
    "m[2:]"
   ]
  },
  {
   "cell_type": "code",
   "execution_count": 7,
   "id": "552035c6-9f0e-41bf-b619-9fc5d139c3f6",
   "metadata": {},
   "outputs": [
    {
     "data": {
      "text/plain": [
       "[4, 5]"
      ]
     },
     "execution_count": 7,
     "metadata": {},
     "output_type": "execute_result"
    }
   ],
   "source": [
    "# Last two elements\n",
    "m[-2:]"
   ]
  },
  {
   "cell_type": "code",
   "execution_count": 12,
   "id": "46b308c6-5515-4242-ae41-bc1ac9320896",
   "metadata": {},
   "outputs": [
    {
     "data": {
      "text/plain": [
       "[0, 1, 2, 3]"
      ]
     },
     "execution_count": 12,
     "metadata": {},
     "output_type": "execute_result"
    }
   ],
   "source": [
    "m[:-2]"
   ]
  },
  {
   "cell_type": "code",
   "execution_count": 13,
   "id": "23f41d28-80ed-42c7-86dd-8edbebb4eb18",
   "metadata": {},
   "outputs": [
    {
     "data": {
      "text/plain": [
       "[]"
      ]
     },
     "execution_count": 13,
     "metadata": {},
     "output_type": "execute_result"
    }
   ],
   "source": [
    "# Empty list because start > end (with default positive step)\n",
    "m[2:1]"
   ]
  },
  {
   "cell_type": "markdown",
   "id": "b746e3eb-4ca6-4b39-90b3-915af04b0a75",
   "metadata": {},
   "source": [
    "# ---------------------------------------\n",
    "# SHALLOW vs. DEEP COPY\n",
    "# --------------------------------------"
   ]
  },
  {
   "cell_type": "code",
   "execution_count": 14,
   "id": "b0976a10-84bc-4395-9754-03d8bed944aa",
   "metadata": {},
   "outputs": [],
   "source": [
    "# Deep copy using slicing → creates a new list object with same elements\n",
    "l1 = m[:]"
   ]
  },
  {
   "cell_type": "code",
   "execution_count": 15,
   "id": "3742cd87-8f3b-47bf-add1-340de64588f0",
   "metadata": {},
   "outputs": [
    {
     "data": {
      "text/plain": [
       "[0, 1, 2, 3, 4, 5]"
      ]
     },
     "execution_count": 15,
     "metadata": {},
     "output_type": "execute_result"
    }
   ],
   "source": [
    "l1"
   ]
  },
  {
   "cell_type": "code",
   "execution_count": 16,
   "id": "cbdbc172-115f-4343-986e-dfca866d4d18",
   "metadata": {},
   "outputs": [],
   "source": [
    "# Shallow copy (reference copy) → both variables point to same object\n",
    "l2 = m"
   ]
  },
  {
   "cell_type": "code",
   "execution_count": 17,
   "id": "3241870d-6338-4cc9-9995-ca91be2e1419",
   "metadata": {},
   "outputs": [
    {
     "data": {
      "text/plain": [
       "[0, 1, 2, 3, 4, 5]"
      ]
     },
     "execution_count": 17,
     "metadata": {},
     "output_type": "execute_result"
    }
   ],
   "source": [
    "l2"
   ]
  },
  {
   "cell_type": "code",
   "execution_count": 18,
   "id": "12064d1b-b349-4e7b-adc6-6b8cfec163f4",
   "metadata": {},
   "outputs": [
    {
     "data": {
      "text/plain": [
       "([0, 1, 2, 3, 4, 5],\n",
       " 2629310947200,\n",
       " 2629297274944,\n",
       " 2629310947200,\n",
       " [0, 1, 2, 3, 4, 5],\n",
       " [0, 1, 2, 3, 4, 5])"
      ]
     },
     "execution_count": 18,
     "metadata": {},
     "output_type": "execute_result"
    }
   ],
   "source": [
    "# Showing IDs to prove that l1 is a different object, but l2 is same as m\n",
    "(m, id(m), id(l1), id(l2), l1, l2)"
   ]
  },
  {
   "cell_type": "markdown",
   "id": "2fe21534-581c-4f4e-abe0-42d8cb3da6a9",
   "metadata": {},
   "source": [
    "# ---------------------------------------\n",
    "# Effect of Append on Shallow and Deep Copies\n",
    "# ---------------------------------------"
   ]
  },
  {
   "cell_type": "code",
   "execution_count": 19,
   "id": "597c98c7-c8cd-4caa-aad2-6125faa0ec43",
   "metadata": {},
   "outputs": [],
   "source": [
    "# Append an element to m\n",
    "m.append(4)"
   ]
  },
  {
   "cell_type": "code",
   "execution_count": 20,
   "id": "459e7646-03fc-4164-85d2-4a941ac726cc",
   "metadata": {},
   "outputs": [
    {
     "data": {
      "text/plain": [
       "[0, 1, 2, 3, 4, 5, 4]"
      ]
     },
     "execution_count": 20,
     "metadata": {},
     "output_type": "execute_result"
    }
   ],
   "source": [
    "m"
   ]
  },
  {
   "cell_type": "code",
   "execution_count": 21,
   "id": "a7678b26-a433-404e-b83c-dda39e7c42ad",
   "metadata": {},
   "outputs": [
    {
     "data": {
      "text/plain": [
       "([0, 1, 2, 3, 4, 5, 4], [0, 1, 2, 3, 4, 5], [0, 1, 2, 3, 4, 5, 4])"
      ]
     },
     "execution_count": 21,
     "metadata": {},
     "output_type": "execute_result"
    }
   ],
   "source": [
    "# Deep copy (l1) remains unaffected, shallow copy (l2) changes because it refers to m\n",
    "(m, l1, l2)"
   ]
  },
  {
   "cell_type": "markdown",
   "id": "e31e7dee-4a00-42ea-9862-3d9eb4c2a8b2",
   "metadata": {},
   "source": [
    "# ---------------------------------------\n",
    "# LOOPING THROUGH A SLICE\n",
    "# ---------------------------------------"
   ]
  },
  {
   "cell_type": "code",
   "execution_count": 23,
   "id": "68d56dde-7a57-41ff-b211-ff0af0cee57c",
   "metadata": {},
   "outputs": [
    {
     "data": {
      "text/plain": [
       "[0, 1, 2]"
      ]
     },
     "execution_count": 23,
     "metadata": {},
     "output_type": "execute_result"
    }
   ],
   "source": [
    "w"
   ]
  },
  {
   "cell_type": "code",
   "execution_count": 24,
   "id": "1b3d4cce-202d-4460-852e-c924adf2cd8b",
   "metadata": {},
   "outputs": [],
   "source": [
    "# Slice first three elements\n",
    "w = m[:3]"
   ]
  },
  {
   "cell_type": "code",
   "execution_count": 25,
   "id": "6ff9424d-eb44-4b1f-8a1e-7f0d944c9d3d",
   "metadata": {},
   "outputs": [
    {
     "name": "stdout",
     "output_type": "stream",
     "text": [
      "0\n",
      "1\n",
      "2\n"
     ]
    }
   ],
   "source": [
    "for i in w:\n",
    "    print(i)  # display() works well in notebooks"
   ]
  },
  {
   "cell_type": "markdown",
   "id": "c21df0e2-45c8-484d-b077-821d0adadcbb",
   "metadata": {},
   "source": [
    "# ---------------------------------------\n",
    "# OFF-BY-ONE BEHAVIOR\n",
    "# ---------------------------------------"
   ]
  },
  {
   "cell_type": "code",
   "execution_count": 26,
   "id": "444ee6c8-e5fd-4af9-ba0d-a4b71e653cf4",
   "metadata": {},
   "outputs": [
    {
     "data": {
      "text/plain": [
       "(0, 10)"
      ]
     },
     "metadata": {},
     "output_type": "display_data"
    },
    {
     "data": {
      "text/plain": [
       "(1, 20)"
      ]
     },
     "metadata": {},
     "output_type": "display_data"
    },
    {
     "data": {
      "text/plain": [
       "(2, 30)"
      ]
     },
     "metadata": {},
     "output_type": "display_data"
    },
    {
     "data": {
      "text/plain": [
       "(3, 40)"
      ]
     },
     "metadata": {},
     "output_type": "display_data"
    },
    {
     "data": {
      "text/plain": [
       "(4, 50)"
      ]
     },
     "metadata": {},
     "output_type": "display_data"
    }
   ],
   "source": [
    "# Off-by-one errors happen when you loop too many or too few times\n",
    "# Python indexing starts at 0, but len() counts items starting from 1 conceptually\n",
    "\n",
    "numbers = [10, 20, 30, 40, 50]\n",
    "\n",
    "# Loop using range(len(numbers)) — common pattern\n",
    "# This ensures last index is len(numbers) - 1\n",
    "for i in range(len(numbers)):\n",
    "    display((i, numbers[i]))  # showing index and value"
   ]
  },
  {
   "cell_type": "code",
   "execution_count": 27,
   "id": "b99139e9-de51-4e28-8077-dfa957d0cc12",
   "metadata": {},
   "outputs": [
    {
     "data": {
      "text/plain": [
       "[(0, 88), (1, 92), (2, 79), (3, 94), (4, 85)]"
      ]
     },
     "execution_count": 27,
     "metadata": {},
     "output_type": "execute_result"
    }
   ],
   "source": [
    "# -----------------------------------------------------\n",
    "# 1. OFF-BY-ONE BEHAVIOR\n",
    "# -----------------------------------------------------\n",
    "\n",
    "# New example list\n",
    "scores = [88, 92, 79, 94, 85]\n",
    "\n",
    "# ❌ WRONG way: goes out of range because len(scores) + 1 → tries to access index 5\n",
    "# for i in range(len(scores) + 1):\n",
    "#     scores[i]  # This will cause IndexError\n",
    "\n",
    "# ✅ CORRECT way: only loop until len(scores) - 1\n",
    "[(i, scores[i]) for i in range(len(scores))]\n"
   ]
  },
  {
   "cell_type": "markdown",
   "id": "0b76d16d-5179-406e-a075-68498dabe58d",
   "metadata": {},
   "source": [
    "# -----------------------------------------------------\n",
    "# 2. SLICING A LIST\n",
    "# -----------------------------------------------------\n"
   ]
  },
  {
   "cell_type": "code",
   "execution_count": 28,
   "id": "49824163-1628-437b-8853-26f41d42e871",
   "metadata": {},
   "outputs": [],
   "source": [
    "cities = [\"New York\", \"Paris\", \"Tokyo\", \"Berlin\", \"Sydney\", \"Dubai\"]"
   ]
  },
  {
   "cell_type": "code",
   "execution_count": 29,
   "id": "840435bb-5f3d-4426-8e6b-69ca520c97a5",
   "metadata": {},
   "outputs": [
    {
     "data": {
      "text/plain": [
       "['Paris', 'Tokyo', 'Berlin']"
      ]
     },
     "execution_count": 29,
     "metadata": {},
     "output_type": "execute_result"
    }
   ],
   "source": [
    "# From Paris to Berlin (index 1 to 3, end excluded)\n",
    "cities[1:4]"
   ]
  },
  {
   "cell_type": "code",
   "execution_count": 30,
   "id": "ecd35166-0d9e-496d-b1a0-925a2c38878a",
   "metadata": {},
   "outputs": [
    {
     "data": {
      "text/plain": [
       "['New York', 'Paris', 'Tokyo', 'Berlin']"
      ]
     },
     "execution_count": 30,
     "metadata": {},
     "output_type": "execute_result"
    }
   ],
   "source": [
    "# First 4 cities (start omitted)\n",
    "cities[:4]"
   ]
  },
  {
   "cell_type": "code",
   "execution_count": 31,
   "id": "e24f15fe-b2e8-44ab-8fb0-045c292de42d",
   "metadata": {},
   "outputs": [
    {
     "data": {
      "text/plain": [
       "['Tokyo', 'Berlin', 'Sydney', 'Dubai']"
      ]
     },
     "execution_count": 31,
     "metadata": {},
     "output_type": "execute_result"
    }
   ],
   "source": [
    "# From Tokyo to end (end omitted)\n",
    "cities[2:]"
   ]
  },
  {
   "cell_type": "code",
   "execution_count": 32,
   "id": "36003e23-3dbc-42e1-842f-04abae4348c2",
   "metadata": {},
   "outputs": [
    {
     "data": {
      "text/plain": [
       "['New York', 'Tokyo', 'Sydney']"
      ]
     },
     "execution_count": 32,
     "metadata": {},
     "output_type": "execute_result"
    }
   ],
   "source": [
    "# Every alternate city\n",
    "cities[::2]"
   ]
  },
  {
   "cell_type": "code",
   "execution_count": 33,
   "id": "c42b5914-d703-4c3a-8e9f-943983650f9e",
   "metadata": {},
   "outputs": [
    {
     "data": {
      "text/plain": [
       "['New York', 'Paris', 'Tokyo', 'Berlin', 'Sydney', 'Dubai']"
      ]
     },
     "execution_count": 33,
     "metadata": {},
     "output_type": "execute_result"
    }
   ],
   "source": [
    "[city for city in cities]"
   ]
  },
  {
   "cell_type": "code",
   "execution_count": 35,
   "id": "f8393b35-60c9-4c2e-9344-2e469f3c25d7",
   "metadata": {},
   "outputs": [
    {
     "data": {
      "text/plain": [
       "[0, 2, 4, 6, 8]"
      ]
     },
     "execution_count": 35,
     "metadata": {},
     "output_type": "execute_result"
    }
   ],
   "source": [
    "[x*2 for x in range(5)]"
   ]
  },
  {
   "cell_type": "code",
   "execution_count": 36,
   "id": "f07a9f7b-a4db-4189-9814-39023c5832b4",
   "metadata": {},
   "outputs": [
    {
     "ename": "SyntaxError",
     "evalue": "invalid syntax (1974521107.py, line 1)",
     "output_type": "error",
     "traceback": [
      "\u001b[1;36m  Cell \u001b[1;32mIn[36], line 1\u001b[1;36m\u001b[0m\n\u001b[1;33m    [for x in range(6)]\u001b[0m\n\u001b[1;37m     ^\u001b[0m\n\u001b[1;31mSyntaxError\u001b[0m\u001b[1;31m:\u001b[0m invalid syntax\n"
     ]
    }
   ],
   "source": [
    "[for x in range(6)]"
   ]
  },
  {
   "cell_type": "code",
   "execution_count": 34,
   "id": "07f0ddbb-711f-4039-9a7d-4eac3fd4b425",
   "metadata": {},
   "outputs": [
    {
     "data": {
      "text/plain": [
       "[(0, 'New York'),\n",
       " (1, 'Paris'),\n",
       " (2, 'Tokyo'),\n",
       " (3, 'Berlin'),\n",
       " (4, 'Sydney'),\n",
       " (5, 'Dubai')]"
      ]
     },
     "execution_count": 34,
     "metadata": {},
     "output_type": "execute_result"
    }
   ],
   "source": [
    "# -----------------------------------------------------\n",
    "# 3. LOOPING THROUGH A LIST\n",
    "# -----------------------------------------------------\n",
    "\n",
    "# Direct element iteration (when only values matter)\n",
    "[city for city in cities]\n",
    "\n",
    "\n",
    "# Index-based iteration (when position also matters)\n",
    "[(i, cities[i]) for i in range(len(cities))]\n"
   ]
  },
  {
   "cell_type": "markdown",
   "id": "25662079-e8d4-4260-b999-4525bee8ef03",
   "metadata": {},
   "source": [
    "# -----------------------------------------------------\n",
    "# 4. LOOPING THROUGH A SLICE\n",
    "# -----------------------------------------------------\n",
    "\n",
    "\n"
   ]
  },
  {
   "cell_type": "code",
   "execution_count": 26,
   "id": "cda9028e-1fc0-4d0f-92e9-c6421514d291",
   "metadata": {},
   "outputs": [
    {
     "data": {
      "text/plain": [
       "['Paris', 'Tokyo', 'Berlin', 'Sydney']"
      ]
     },
     "execution_count": 26,
     "metadata": {},
     "output_type": "execute_result"
    }
   ],
   "source": [
    "# From Paris to Sydney\n",
    "[city for city in cities[1:5]]\n",
    "\n"
   ]
  },
  {
   "cell_type": "code",
   "execution_count": 27,
   "id": "9d6f95b2-d11b-4664-9265-a2f82b14baec",
   "metadata": {},
   "outputs": [
    {
     "data": {
      "text/plain": [
       "['New York', 'Tokyo', 'Sydney']"
      ]
     },
     "execution_count": 27,
     "metadata": {},
     "output_type": "execute_result"
    }
   ],
   "source": [
    "# Every second city\n",
    "[city for city in cities[::2]]"
   ]
  },
  {
   "cell_type": "markdown",
   "id": "5f30b95f-74a3-4869-a3ff-f989e93e9675",
   "metadata": {},
   "source": [
    "# -----------------------------------------------------\n",
    "# 5. UNDERSTANDING TUPLES\n",
    "# -----------------------------------------------------"
   ]
  },
  {
   "cell_type": "code",
   "execution_count": 32,
   "id": "c693cfa7-270b-409b-b53f-535e66a5e541",
   "metadata": {},
   "outputs": [],
   "source": [
    "\n",
    "\n",
    "# Tuples are immutable — once created, elements can't be changed\n",
    "book_info = (\"The Hobbit\", \"J.R.R. Tolkien\", 1937)\n",
    "\n"
   ]
  },
  {
   "cell_type": "code",
   "execution_count": 29,
   "id": "43f0a096-f642-4db4-9e1c-bdd5c942c80e",
   "metadata": {},
   "outputs": [
    {
     "data": {
      "text/plain": [
       "('The Hobbit', 'J.R.R. Tolkien', 1937)"
      ]
     },
     "execution_count": 29,
     "metadata": {},
     "output_type": "execute_result"
    }
   ],
   "source": [
    "# Access by index\n",
    "(book_info[0], book_info[1], book_info[2])"
   ]
  },
  {
   "cell_type": "code",
   "execution_count": 30,
   "id": "0667b398-59a1-4cb6-a207-c834fbe2ebb6",
   "metadata": {},
   "outputs": [
    {
     "data": {
      "text/plain": [
       "('The Hobbit', 'J.R.R. Tolkien', 1937)"
      ]
     },
     "execution_count": 30,
     "metadata": {},
     "output_type": "execute_result"
    }
   ],
   "source": [
    "# Tuple unpacking into separate variables\n",
    "title, author, year = book_info\n",
    "(title, author, year)"
   ]
  },
  {
   "cell_type": "code",
   "execution_count": 31,
   "id": "4ca01c54-5c50-4ba7-8a11-8f9d249236c3",
   "metadata": {},
   "outputs": [
    {
     "data": {
      "text/plain": [
       "(42, (3.14, 2.71), ['apple', 'banana'])"
      ]
     },
     "execution_count": 31,
     "metadata": {},
     "output_type": "execute_result"
    }
   ],
   "source": [
    "# Nested tuple example\n",
    "mixed_tuple = (42, (3.14, 2.71), [\"apple\", \"banana\"])\n",
    "mixed_tuple"
   ]
  },
  {
   "cell_type": "markdown",
   "id": "74063dd4-9ccb-426c-a445-e336b4889813",
   "metadata": {},
   "source": [
    "# -----------------------------------------------------\n",
    "# 6. REVERSE, STEP, AND COPY\n",
    "# -----------------------------------------------------\n"
   ]
  },
  {
   "cell_type": "code",
   "execution_count": 33,
   "id": "e7636cf5-fa42-4055-96bc-ad0eca6ef809",
   "metadata": {},
   "outputs": [
    {
     "name": "stdout",
     "output_type": "stream",
     "text": [
      "Original list: [5, 10, 15, 20, 25, 30]\n",
      "Reversed list: [30, 25, 20, 15, 10, 5]\n",
      "Every 2nd element: [5, 15, 25]\n",
      "Copy of nums: [5, 10, 15, 20, 25, 30]\n",
      "Is same object? (ids equal?): False\n",
      "After appending to original nums: [5, 10, 15, 20, 25, 30, 35]\n",
      "Copy remains unchanged: [5, 10, 15, 20, 25, 30]\n"
     ]
    }
   ],
   "source": [
    "nums = [5, 10, 15, 20, 25, 30]\n",
    "print(\"Original list:\", nums)\n",
    "\n",
    "# Reverse\n",
    "print(\"Reversed list:\", nums[::-1])\n",
    "\n",
    "# Every 2nd element\n",
    "print(\"Every 2nd element:\", nums[0:len(nums):2])\n",
    "\n",
    "# Deep copy via slicing\n",
    "copy_nums = nums[:]\n",
    "print(\"Copy of nums:\", copy_nums)\n",
    "print(\"Is same object? (ids equal?):\", id(nums) == id(copy_nums))\n",
    "\n",
    "# Modify original → copy remains unchanged\n",
    "nums.append(35)\n",
    "print(\"After appending to original nums:\", nums)\n",
    "print(\"Copy remains unchanged:\", copy_nums)"
   ]
  },
  {
   "cell_type": "markdown",
   "id": "1ef10621-f57c-4eb8-9a43-448baff1c633",
   "metadata": {},
   "source": [
    "# -----------------------------------------------------\n",
    "# 7. NESTED SLICING\n",
    "# -----------------------------------------------------"
   ]
  },
  {
   "cell_type": "code",
   "execution_count": 39,
   "id": "13a75814-ecea-4401-a3f5-50731c4ab686",
   "metadata": {},
   "outputs": [
    {
     "name": "stdout",
     "output_type": "stream",
     "text": [
      "Original nested list: [['cat', 'dog'], ['apple', 'mango'], ['red', 'blue']]\n",
      "Slice outer list [1:3]: [['apple', 'mango'], ['red', 'blue']]\n",
      "Slice inside second list [0:2]: ['apple', 'mango']\n"
     ]
    }
   ],
   "source": [
    "\n",
    "\n",
    "nested_list = [[\"cat\", \"dog\"], [\"apple\", \"mango\"], [\"red\", \"blue\"]]\n",
    "print(\"Original nested list:\", nested_list)\n",
    "\n",
    "# Slice outer list\n",
    "print(\"Slice outer list [1:3]:\", nested_list[1:3])\n",
    "\n",
    "# Slice inside an inner list\n",
    "print(\"Slice inside second list [0:2]:\", nested_list[1][0:2])\n"
   ]
  },
  {
   "cell_type": "markdown",
   "id": "5418eb18-ebeb-43af-b27a-1cbc0e9c7052",
   "metadata": {},
   "source": [
    "# -----------------------------------------------------\n",
    "# 8. TUPLE ITERATION & CONVERSION\n",
    "# -----------------------------------------------------"
   ]
  },
  {
   "cell_type": "code",
   "execution_count": 37,
   "id": "194d4466-00fb-45c1-862d-6097cf70dea8",
   "metadata": {},
   "outputs": [
    {
     "name": "stdout",
     "output_type": "stream",
     "text": [
      "Original tuple: ('cyan', 'magenta', 'yellow')\n",
      "Uppercase colors:\n",
      "CYAN\n",
      "MAGENTA\n",
      "YELLOW\n",
      "Unpacked values: cyan magenta yellow\n",
      "['cyan', 'magenta', 'yellow', 'black']\n",
      "After adding 'black': ('cyan', 'magenta', 'yellow', 'black')\n"
     ]
    }
   ],
   "source": [
    "\n",
    "\n",
    "colors = (\"cyan\", \"magenta\", \"yellow\")\n",
    "print(\"Original tuple:\", colors)\n",
    "\n",
    "# Iterating over tuple and printing uppercase versions\n",
    "print(\"Uppercase colors:\")\n",
    "for color in colors:\n",
    "    print(color.upper())\n",
    "\n",
    "# Tuple unpacking\n",
    "c1, c2, c3 = colors\n",
    "print(\"Unpacked values:\", c1, c2, c3)\n",
    "\n",
    "# Convert tuple → list, modify, then back to tuple\n",
    "temp_list = list(colors)\n",
    "temp_list.append(\"black\")\n",
    "print(temp_list)\n",
    "colors = tuple(temp_list)\n",
    "print(\"After adding 'black':\", colors)\n"
   ]
  },
  {
   "cell_type": "markdown",
   "id": "06cdd70a-fd19-4c49-909e-44478bb76347",
   "metadata": {},
   "source": [
    "# -----------------------------------------------------\n",
    "# 9. NEGATIVE STEP & SLICE ASSIGNMENT\n",
    "# -----------------------------------------------------"
   ]
  },
  {
   "cell_type": "code",
   "execution_count": 42,
   "id": "a35f4d94-6029-4841-bbef-ede68b731964",
   "metadata": {},
   "outputs": [
    {
     "name": "stdout",
     "output_type": "stream",
     "text": [
      "Original letters: ['p', 'q', 'r', 's', 't']\n",
      "letters[4:1:-1]: ['t', 's', 'r']\n",
      "After slice assignment [1:3] = ['x','y']: ['p', 'x', 'y', 's', 't']\n"
     ]
    }
   ],
   "source": [
    "\n",
    "\n",
    "letters = [\"p\", \"q\", \"r\", \"s\", \"t\"]\n",
    "print(\"Original letters:\", letters)\n",
    "\n",
    "# Negative step: reverse partial section\n",
    "print(\"letters[4:1:-1]:\", letters[4:1:-1])\n",
    "\n",
    "# Slice assignment (only lists allow this)\n",
    "letters[1:3] = [\"x\", \"y\"]\n",
    "print(\"After slice assignment [1:3] = ['x','y']:\", letters)\n"
   ]
  },
  {
   "cell_type": "markdown",
   "id": "ce3c808d-b792-4e81-a761-94367837f5c9",
   "metadata": {},
   "source": [
    "# -----------------------------------------------------\n",
    "# 10. RANGE WITH SLICES\n",
    "# -----------------------------------------------------"
   ]
  },
  {
   "cell_type": "code",
   "execution_count": 43,
   "id": "8453d878-1494-4f04-89ef-4263b4cb21ec",
   "metadata": {},
   "outputs": [
    {
     "name": "stdout",
     "output_type": "stream",
     "text": [
      "Numbers from 0 to 19: [0, 1, 2, 3, 4, 5, 6, 7, 8, 9, 10, 11, 12, 13, 14, 15, 16, 17, 18, 19]\n",
      "Every 4th number: [0, 4, 8, 12, 16]\n"
     ]
    }
   ],
   "source": [
    "\n",
    "\n",
    "r = list(range(20))\n",
    "print(\"Numbers from 0 to 19:\", r)\n",
    "\n",
    "# Every 4th number\n",
    "print(\"Every 4th number:\", r[::4])\n"
   ]
  },
  {
   "cell_type": "markdown",
   "id": "e09ceed4-28ca-4aae-9d19-9f7aab32d1a6",
   "metadata": {},
   "source": [
    "# -----------------------------------------------------\n",
    "# 11. SHALLOW COPY BEHAVIOR\n",
    "# -----------------------------------------------------"
   ]
  },
  {
   "cell_type": "code",
   "execution_count": 44,
   "id": "b4e2e9d8-dad9-47c8-b43d-3183b615f128",
   "metadata": {},
   "outputs": [
    {
     "name": "stdout",
     "output_type": "stream",
     "text": [
      "Original lists:\n",
      "list1: [[10, 20], [30, 40]]\n",
      "list2: [[10, 20], [30, 40]]\n",
      "\n",
      "After modifying list1[0][1] = 999:\n",
      "list1: [[10, 999], [30, 40]]\n",
      "list2: [[10, 999], [30, 40]]\n"
     ]
    }
   ],
   "source": [
    "\n",
    "\n",
    "list1 = [[10, 20], [30, 40]]\n",
    "list2 = list1[:]  # Shallow copy\n",
    "print(\"Original lists:\")\n",
    "print(\"list1:\", list1)\n",
    "print(\"list2:\", list2)\n",
    "\n",
    "# Modify inner list in list1 → affects both because inner lists are shared\n",
    "list1[0][1] = 999\n",
    "print(\"\\nAfter modifying list1[0][1] = 999:\")\n",
    "print(\"list1:\", list1)\n",
    "print(\"list2:\", list2)\n"
   ]
  },
  {
   "cell_type": "code",
   "execution_count": 45,
   "id": "acefd62b-2104-4e45-a8ea-003cbf5f9bca",
   "metadata": {},
   "outputs": [
    {
     "name": "stdout",
     "output_type": "stream",
     "text": [
      "arg1= 3\n",
      "arg2= 1\n",
      "arg2= 2\n",
      "arg2= 3\n"
     ]
    }
   ],
   "source": [
    "def display(arg1, *arg2 ):\n",
    "    print(\"arg1=\", arg1)\n",
    "    for var in arg2: \n",
    "        print(\"arg2=\",var) \n",
    "    return;\n",
    "display(3,1,2,3)"
   ]
  },
  {
   "cell_type": "code",
   "execution_count": 57,
   "id": "1ce23202-4e18-4abe-a58d-3a83e7c942c5",
   "metadata": {},
   "outputs": [
    {
     "name": "stdout",
     "output_type": "stream",
     "text": [
      "No. of argument is: 3\n",
      "3\n",
      "4\n",
      "5\n",
      "sum is = 12\n"
     ]
    }
   ],
   "source": [
    "def sum(count,*values): \n",
    "    sum = 0 \n",
    "   \n",
    "    print('No. of argument is:', count) \n",
    "    for i in values: \n",
    "    # print(values[i]) \n",
    "        sum = sum + i\n",
    "        print(f\"{i}\")\n",
    "       \n",
    "    print(\"sum is =\", sum)\n",
    "sum(3,3,4,5)"
   ]
  },
  {
   "cell_type": "code",
   "execution_count": 60,
   "id": "69160f26-8f86-438f-8053-63ffa2379f2f",
   "metadata": {},
   "outputs": [
    {
     "name": "stdout",
     "output_type": "stream",
     "text": [
      "kwargs as dict: {'name': 'Alice', 'age': 25, 'city': 'New York'}\n",
      "name: Alice\n",
      "age: 25\n",
      "city: New York\n"
     ]
    }
   ],
   "source": [
    "def display_info(**kwargs):\n",
    "    print(\"kwargs as dict:\", kwargs)\n",
    "    for key, value in kwargs.items():\n",
    "        print(f\"{key}: {value}\")\n",
    "\n",
    "display_info(name=\"Alice\", age=25, city=\"New York\")\n",
    "#dict.key()\n",
    "#dict.values()\n",
    "#dict.items()\n",
    "#d2=dict.copy()"
   ]
  },
  {
   "cell_type": "code",
   "execution_count": 81,
   "id": "76d654e3-e9f3-471e-8b2f-dd45144f2419",
   "metadata": {},
   "outputs": [],
   "source": [
    "class student:\n",
    "    def __init__(self, n, a):\n",
    "        self.full_name = n\n",
    "        self.age = a\n",
    "    def get_age(self):\n",
    "        self.grade='a'\n",
    "        return self.age"
   ]
  },
  {
   "cell_type": "code",
   "execution_count": 82,
   "id": "75c4086a-be3c-4745-8462-fc7d98703b34",
   "metadata": {},
   "outputs": [],
   "source": [
    "s1=student(\"khu\",19)"
   ]
  },
  {
   "cell_type": "code",
   "execution_count": 83,
   "id": "a3ad13e4-cfff-4b3d-a27f-7174c403cd11",
   "metadata": {},
   "outputs": [
    {
     "data": {
      "text/plain": [
       "'khu'"
      ]
     },
     "execution_count": 83,
     "metadata": {},
     "output_type": "execute_result"
    }
   ],
   "source": [
    "s1.full_name"
   ]
  },
  {
   "cell_type": "code",
   "execution_count": 84,
   "id": "f14f05c0-17b6-4262-afc9-337e0b75dd6f",
   "metadata": {},
   "outputs": [
    {
     "data": {
      "text/plain": [
       "19"
      ]
     },
     "execution_count": 84,
     "metadata": {},
     "output_type": "execute_result"
    }
   ],
   "source": [
    "s1.get_age()"
   ]
  },
  {
   "cell_type": "code",
   "execution_count": 85,
   "id": "db3c97e2-dd2d-4736-91c9-4d3413ff5090",
   "metadata": {},
   "outputs": [
    {
     "data": {
      "text/plain": [
       "'a'"
      ]
     },
     "execution_count": 85,
     "metadata": {},
     "output_type": "execute_result"
    }
   ],
   "source": [
    "s1.grade"
   ]
  },
  {
   "cell_type": "code",
   "execution_count": null,
   "id": "88a49c16-4d8b-4518-a4ed-c7e3837252e1",
   "metadata": {},
   "outputs": [],
   "source": []
  },
  {
   "cell_type": "code",
   "execution_count": 11,
   "id": "c1cc19a4-d380-4244-b04f-dd880ee5d7af",
   "metadata": {},
   "outputs": [
    {
     "name": "stdout",
     "output_type": "stream",
     "text": [
      "hai\n",
      "I'm the process with id: 100\n",
      "execution completed\n",
      "I'm the process with id: 101\n",
      "execution completed\n"
     ]
    }
   ],
   "source": [
    "import multiprocessing\n",
    "import time\n",
    "\n",
    "class Process(multiprocessing.Process):\n",
    "    def __init__(self, id):\n",
    "        super().__init__()   # modern style\n",
    "        self.id = id\n",
    "\n",
    "    def run(self):\n",
    "        time.sleep(5)\n",
    "        print(f\"I'm the process with id: {self.id}\")\n",
    "        time.sleep(5)\n",
    "        print(\"execution completed\")\n",
    "\n",
    "if __name__ == '__main__':\n",
    "    p1 = Process(100)\n",
    "    p2 = Process(101)\n",
    "    print(\"hai\")\n",
    "    p1.start()\n",
    "    p1.run()\n",
    "    p2.start()\n",
    "    p2.run()\n",
    "    p1.join()\n",
    "    p2.join()\n"
   ]
  },
  {
   "cell_type": "code",
   "execution_count": 21,
   "id": "c5a28024-da59-4791-b830-a7b71c092703",
   "metadata": {},
   "outputs": [],
   "source": [
    "import itertools as itr"
   ]
  },
  {
   "cell_type": "code",
   "execution_count": 26,
   "id": "8278a47c-2389-43f2-992f-2be1fda61a4b",
   "metadata": {},
   "outputs": [
    {
     "ename": "ValueError",
     "evalue": "dictionary update sequence element #0 has length 1; 2 is required",
     "output_type": "error",
     "traceback": [
      "\u001b[1;31m---------------------------------------------------------------------------\u001b[0m",
      "\u001b[1;31mValueError\u001b[0m                                Traceback (most recent call last)",
      "Cell \u001b[1;32mIn[26], line 1\u001b[0m\n\u001b[1;32m----> 1\u001b[0m \u001b[38;5;28mprint\u001b[39m(\u001b[38;5;28mdict\u001b[39m(itr\u001b[38;5;241m.\u001b[39mrepeat({\u001b[38;5;124m'\u001b[39m\u001b[38;5;124mniki\u001b[39m\u001b[38;5;124m'\u001b[39m:\u001b[38;5;124m'\u001b[39m\u001b[38;5;124mji\u001b[39m\u001b[38;5;124m'\u001b[39m},\u001b[38;5;241m10\u001b[39m)))\n",
      "\u001b[1;31mValueError\u001b[0m: dictionary update sequence element #0 has length 1; 2 is required"
     ]
    }
   ],
   "source": [
    "print(dict(itr.repeat({'niki':'ji'},10)))"
   ]
  },
  {
   "cell_type": "code",
   "execution_count": 30,
   "id": "05449c05-8b71-418e-a513-d051dceee6c7",
   "metadata": {},
   "outputs": [
    {
     "name": "stdout",
     "output_type": "stream",
     "text": [
      "The cartesian product using repeat:\n",
      "[(1, 3), (1, 4), (1, 5), (2, 3), (2, 4), (2, 5)]\n",
      "\n",
      "The cartesian product of the containers:\n",
      "[('geeks', 'h'), ('geeks', 'e'), ('geeks', 'l'), ('geeks', 'l'), ('geeks', 'o'), ('for', 'h'), ('for', 'e'), ('for', 'l'), ('for', 'l'), ('for', 'o'), ('geeks', 'h'), ('geeks', 'e'), ('geeks', 'l'), ('geeks', 'l'), ('geeks', 'o')]\n",
      "\n",
      "The cartesian product of the containers:\n",
      "[('A', 3), ('A', 4), ('B', 3), ('B', 4)]\n"
     ]
    }
   ],
   "source": [
    "print(\"The cartesian product using repeat:\")\n",
    "print(list(itertools.product([1, 2], [3,4,5])))\n",
    "print()\n",
    "print(\"The cartesian product of the containers:\")\n",
    "print(list(itertools.product(['geeks', 'for', 'geeks'], 'hello')))\n",
    "print()\n",
    "print(\"The cartesian product of the containers:\")\n",
    "print(list(itertools.product('AB', [3, 4])))"
   ]
  },
  {
   "cell_type": "code",
   "execution_count": 1,
   "id": "3903c660-ca9c-441b-baf8-145065880323",
   "metadata": {},
   "outputs": [
    {
     "name": "stdout",
     "output_type": "stream",
     "text": [
      "Father: Driving\n",
      "Child: Painting\n"
     ]
    }
   ],
   "source": [
    "class Father:\n",
    "    def skills(self):\n",
    "        print(\"Father: Driving\")\n",
    "\n",
    "class Mother:\n",
    "    def skills(self):\n",
    "        print(\"Mother: Cooking\")\n",
    "\n",
    "class Child(Father, Mother):\n",
    "    def extra(self):\n",
    "        print(\"Child: Painting\")\n",
    "\n",
    "c = Child()\n",
    "c.skills()   # Resolves via MRO (Father first)\n",
    "c.extra()\n"
   ]
  },
  {
   "cell_type": "code",
   "execution_count": 2,
   "id": "36de5533-ded1-453f-ab3e-cd06cb1644a5",
   "metadata": {},
   "outputs": [
    {
     "name": "stdout",
     "output_type": "stream",
     "text": [
      "Vector(6, 8)\n"
     ]
    }
   ],
   "source": [
    "# Define a Vector class\n",
    "class Vector:\n",
    "    def __init__(self, x, y):\n",
    "        # Each vector has two components (x and y)\n",
    "        self.x = x\n",
    "        self.y = y\n",
    "    \n",
    "    # Redefine how the '+' operator works for Vector objects\n",
    "    def __add__(self, other):\n",
    "        # Add corresponding components of two vectors\n",
    "        new_x = self.x + other.x\n",
    "        new_y = self.y + other.y\n",
    "        return Vector(new_x, new_y)  # return a new Vector object\n",
    "    \n",
    "    # Define how to print the object nicely\n",
    "    def __str__(self):\n",
    "        return f\"Vector({self.x}, {self.y})\"\n",
    "\n",
    "\n",
    "# Create two vector objects\n",
    "v1 = Vector(2, 3)\n",
    "v2 = Vector(4, 5)\n",
    "\n",
    "# Normally '+' is used for numbers, but here it works for Vectors\n",
    "result = v1 + v2\n",
    "\n",
    "# Print the result\n",
    "print(result)\n"
   ]
  },
  {
   "cell_type": "code",
   "execution_count": null,
   "id": "2bb9340f-89fb-4d92-b0ed-b37892570517",
   "metadata": {},
   "outputs": [],
   "source": []
  }
 ],
 "metadata": {
  "kernelspec": {
   "display_name": "Python 3 (ipykernel)",
   "language": "python",
   "name": "python3"
  },
  "language_info": {
   "codemirror_mode": {
    "name": "ipython",
    "version": 3
   },
   "file_extension": ".py",
   "mimetype": "text/x-python",
   "name": "python",
   "nbconvert_exporter": "python",
   "pygments_lexer": "ipython3",
   "version": "3.11.7"
  }
 },
 "nbformat": 4,
 "nbformat_minor": 5
}
