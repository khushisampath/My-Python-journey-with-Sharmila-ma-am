{
 "cells": [
  {
   "cell_type": "code",
   "execution_count": 2,
   "id": "982d46a2-03df-44d7-9091-7f67c95c451e",
   "metadata": {},
   "outputs": [
    {
     "name": "stdout",
     "output_type": "stream",
     "text": [
      "1\n",
      "2\n",
      "3\n",
      "4\n",
      "5\n"
     ]
    }
   ],
   "source": [
    "l=[1,2,3,4,5]\n",
    "for i in range (5):\n",
    "    print(l[i])"
   ]
  },
  {
   "cell_type": "code",
   "execution_count": 5,
   "id": "70fbb43e-7a9e-41d7-96ac-2445aa11a1df",
   "metadata": {},
   "outputs": [
    {
     "ename": "TypeError",
     "evalue": "'int' object is not iterable",
     "output_type": "error",
     "traceback": [
      "\u001b[1;31m---------------------------------------------------------------------------\u001b[0m",
      "\u001b[1;31mTypeError\u001b[0m                                 Traceback (most recent call last)",
      "Cell \u001b[1;32mIn[5], line 3\u001b[0m\n\u001b[0;32m      1\u001b[0m \u001b[38;5;66;03m#ineger is not iterable:'int' object is not iterable\u001b[39;00m\n\u001b[0;32m      2\u001b[0m n\u001b[38;5;241m=\u001b[39m\u001b[38;5;241m1234567\u001b[39m\n\u001b[1;32m----> 3\u001b[0m \u001b[38;5;28;01mfor\u001b[39;00m i \u001b[38;5;129;01min\u001b[39;00m n:\n\u001b[0;32m      4\u001b[0m     \u001b[38;5;28mprint\u001b[39m(i)\n",
      "\u001b[1;31mTypeError\u001b[0m: 'int' object is not iterable"
     ]
    }
   ],
   "source": [
    "#ineger is not iterable:'int' object is not iterable\n",
    "n=1234567\n",
    "for i in n:\n",
    "    print(i)"
   ]
  },
  {
   "cell_type": "code",
   "execution_count": 7,
   "id": "ab2234e4-2054-4e80-943b-51dc10331488",
   "metadata": {},
   "outputs": [
    {
     "ename": "TypeError",
     "evalue": "'int' object is not iterable",
     "output_type": "error",
     "traceback": [
      "\u001b[1;31m---------------------------------------------------------------------------\u001b[0m",
      "\u001b[1;31mTypeError\u001b[0m                                 Traceback (most recent call last)",
      "Cell \u001b[1;32mIn[7], line 3\u001b[0m\n\u001b[0;32m      1\u001b[0m n\u001b[38;5;241m=\u001b[39m\u001b[38;5;241m1234567\u001b[39m\n\u001b[0;32m      2\u001b[0m k\u001b[38;5;241m=\u001b[39m\u001b[38;5;28mstr\u001b[39m(n)\n\u001b[1;32m----> 3\u001b[0m \u001b[38;5;28;01mfor\u001b[39;00m i \u001b[38;5;129;01min\u001b[39;00m n:\n\u001b[0;32m      4\u001b[0m     \u001b[38;5;28mprint\u001b[39m(i)\n",
      "\u001b[1;31mTypeError\u001b[0m: 'int' object is not iterable"
     ]
    }
   ],
   "source": [
    "n=1234567\n",
    "k=str(n)\n",
    "for i in n:\n",
    "    print(i)"
   ]
  },
  {
   "cell_type": "code",
   "execution_count": 8,
   "id": "8d0f8b23-3369-4b1b-9c0a-c5cb27c04702",
   "metadata": {},
   "outputs": [
    {
     "name": "stdout",
     "output_type": "stream",
     "text": [
      "[1, 2, 3, 4, 5, 6, 7]\n",
      "1\n",
      "2\n",
      "3\n",
      "4\n",
      "5\n",
      "6\n",
      "7\n"
     ]
    }
   ],
   "source": [
    "digits=[int(d) for d in str(n)]\n",
    "print(digits)\n",
    "for digit in digits:\n",
    "    print(digit)"
   ]
  },
  {
   "cell_type": "markdown",
   "id": "e518c3aa-0399-434f-aaed-c8cd724bfcbc",
   "metadata": {},
   "source": [
    "# https://docs.python.org/3/library/collections.abc.html\n"
   ]
  },
  {
   "cell_type": "code",
   "execution_count": 11,
   "id": "070182c0-2a58-42d9-a51f-8eeb0ef9a848",
   "metadata": {},
   "outputs": [
    {
     "name": "stdout",
     "output_type": "stream",
     "text": [
      "['__add__', '__class__', '__class_getitem__', '__contains__', '__delattr__', '__delitem__', '__dir__', '__doc__', '__eq__', '__format__', '__ge__', '__getattribute__', '__getitem__', '__getstate__', '__gt__', '__hash__', '__iadd__', '__imul__', '__init__', '__init_subclass__', '__iter__', '__le__', '__len__', '__lt__', '__mul__', '__ne__', '__new__', '__reduce__', '__reduce_ex__', '__repr__', '__reversed__', '__rmul__', '__setattr__', '__setitem__', '__sizeof__', '__str__', '__subclasshook__', 'append', 'clear', 'copy', 'count', 'extend', 'index', 'insert', 'pop', 'remove', 'reverse', 'sort']\n"
     ]
    }
   ],
   "source": [
    "print(dir(digits))#list of method that is supported \n",
    "#here __iter__ is supported"
   ]
  },
  {
   "cell_type": "code",
   "execution_count": 19,
   "id": "362cd454-fb59-4e6f-bf15-f2b5b9f2e100",
   "metadata": {},
   "outputs": [
    {
     "data": {
      "text/plain": [
       "<list_iterator at 0x28b60145c60>"
      ]
     },
     "execution_count": 19,
     "metadata": {},
     "output_type": "execute_result"
    }
   ],
   "source": [
    "names=['abhi','bhuvan','chandhan']\n",
    "namesl=names.__iter__()\n",
    "namesl"
   ]
  },
  {
   "cell_type": "code",
   "execution_count": 20,
   "id": "14756490-f070-464f-b6ac-2ed6e02197ed",
   "metadata": {},
   "outputs": [],
   "source": [
    "#you can see iter as an object with a state u use __next__ to access next states"
   ]
  },
  {
   "cell_type": "code",
   "execution_count": 21,
   "id": "e51cdd01-21ef-455d-bd88-05560d6add44",
   "metadata": {},
   "outputs": [
    {
     "data": {
      "text/plain": [
       "['abhi', 'bhuvan', 'chandhan']"
      ]
     },
     "execution_count": 21,
     "metadata": {},
     "output_type": "execute_result"
    }
   ],
   "source": [
    "names\n"
   ]
  },
  {
   "cell_type": "code",
   "execution_count": 22,
   "id": "f89a086c-81ee-4333-9dc9-7eba2dd517e1",
   "metadata": {},
   "outputs": [],
   "source": [
    "looper=iter(names)"
   ]
  },
  {
   "cell_type": "code",
   "execution_count": 23,
   "id": "2637fe75-efe6-4c51-8fee-a4fc8fe0ced6",
   "metadata": {},
   "outputs": [
    {
     "data": {
      "text/plain": [
       "<list_iterator at 0x28b60145cc0>"
      ]
     },
     "execution_count": 23,
     "metadata": {},
     "output_type": "execute_result"
    }
   ],
   "source": [
    "looper"
   ]
  },
  {
   "cell_type": "code",
   "execution_count": 24,
   "id": "82750ea2-3ee8-4379-8350-99012fda17a9",
   "metadata": {},
   "outputs": [
    {
     "name": "stdout",
     "output_type": "stream",
     "text": [
      "abhi\n"
     ]
    }
   ],
   "source": [
    "print(next(looper))"
   ]
  },
  {
   "cell_type": "code",
   "execution_count": 25,
   "id": "dfa6d417-e002-4530-8772-7d9211a93b29",
   "metadata": {},
   "outputs": [
    {
     "name": "stdout",
     "output_type": "stream",
     "text": [
      "bhuvan\n"
     ]
    }
   ],
   "source": [
    "print(next(looper))"
   ]
  },
  {
   "cell_type": "code",
   "execution_count": 26,
   "id": "63ed81c9-e1b2-447e-8ef0-59d32834ee00",
   "metadata": {},
   "outputs": [
    {
     "name": "stdout",
     "output_type": "stream",
     "text": [
      "chandhan\n"
     ]
    }
   ],
   "source": [
    "print(next(looper))"
   ]
  },
  {
   "cell_type": "code",
   "execution_count": 27,
   "id": "8201fe74-9740-4ac2-b3ac-243519766120",
   "metadata": {},
   "outputs": [
    {
     "ename": "StopIteration",
     "evalue": "",
     "output_type": "error",
     "traceback": [
      "\u001b[1;31m---------------------------------------------------------------------------\u001b[0m",
      "\u001b[1;31mStopIteration\u001b[0m                             Traceback (most recent call last)",
      "Cell \u001b[1;32mIn[27], line 1\u001b[0m\n\u001b[1;32m----> 1\u001b[0m \u001b[38;5;28mprint\u001b[39m(\u001b[38;5;28mnext\u001b[39m(looper))\n",
      "\u001b[1;31mStopIteration\u001b[0m: "
     ]
    }
   ],
   "source": [
    "print(next(looper))"
   ]
  },
  {
   "cell_type": "markdown",
   "id": "1d78ebb5-bca3-4c12-b107-d971252910a6",
   "metadata": {},
   "source": [
    "# next remembers where it was last time so its state based"
   ]
  },
  {
   "cell_type": "markdown",
   "id": "37b917ea-a4d6-47a5-a44b-a79ba82cac2c",
   "metadata": {},
   "source": [
    "## when the elements are exhausted next method throws the following error"
   ]
  },
  {
   "cell_type": "markdown",
   "id": "8bf2d038-bb0b-4fb9-85bd-c9b64c3188aa",
   "metadata": {},
   "source": [
    "# ---------------------------------------------------------------------------\n",
    "# StopIteration                             Traceback (most recent call last)\n",
    "# Cell In[27], line 1\n",
    "# ----> 1 print(next(looper))\n",
    "\n",
    "# StopIteration:"
   ]
  },
  {
   "cell_type": "markdown",
   "id": "fe80a630-f813-4f8c-bdf5-99e75d588819",
   "metadata": {},
   "source": [
    "# CATCHING ERROR"
   ]
  },
  {
   "cell_type": "code",
   "execution_count": 29,
   "id": "3255d9e1-440d-4c70-adaf-1422cf8edd38",
   "metadata": {},
   "outputs": [
    {
     "name": "stdout",
     "output_type": "stream",
     "text": [
      "1\n",
      "2\n",
      "3\n",
      "Iterator exhausted. No more items.\n"
     ]
    }
   ],
   "source": [
    "my_list = [1, 2, 3]\n",
    "my_iterator = iter(my_list)\n",
    "\n",
    "while True:\n",
    "    try:\n",
    "        item = next(my_iterator)\n",
    "        print(item)\n",
    "    except StopIteration:\n",
    "        print(\"Iterator exhausted. No more items.\")\n",
    "        break  # Exit the loop when StopIteration is caught"
   ]
  },
  {
   "cell_type": "markdown",
   "id": "883ba43b-3104-4abe-b44b-666c17028c05",
   "metadata": {},
   "source": [
    "# LAMDA FUNCTIONS"
   ]
  },
  {
   "cell_type": "code",
   "execution_count": 30,
   "id": "6318dddc-76d1-4a3b-b88c-3b8f6712ff72",
   "metadata": {},
   "outputs": [
    {
     "name": "stdout",
     "output_type": "stream",
     "text": [
      "15\n"
     ]
    }
   ],
   "source": [
    "# A lambda function that adds 10 to its argument\n",
    "add_ten = lambda x: x + 10\n",
    "print(add_ten(5))  # Output: 15"
   ]
  },
  {
   "cell_type": "markdown",
   "id": "1e72effb-e90a-4fc8-9196-e7821f8fcc62",
   "metadata": {},
   "source": [
    "# MAP FUNCTION"
   ]
  },
  {
   "cell_type": "code",
   "execution_count": 33,
   "id": "8e8bc702-cef5-4332-b18b-4b42b31e6930",
   "metadata": {},
   "outputs": [
    {
     "name": "stdout",
     "output_type": "stream",
     "text": [
      "[1, 4, 9, 16, 25]\n"
     ]
    }
   ],
   "source": [
    "def square (x):\n",
    "    return x*x\n",
    "num=[1,2,3,4,5]\n",
    "print(list(map(square,num)))"
   ]
  },
  {
   "cell_type": "code",
   "execution_count": 34,
   "id": "7e68caa6-09e0-44b4-8aa3-224bc4b36518",
   "metadata": {},
   "outputs": [
    {
     "name": "stdout",
     "output_type": "stream",
     "text": [
      "<map object at 0x0000028B60144910>\n"
     ]
    }
   ],
   "source": [
    "def square (x):\n",
    "    return x*x\n",
    "num=[1,2,3,4,5]\n",
    "print(map(square,num))"
   ]
  },
  {
   "cell_type": "code",
   "execution_count": 39,
   "id": "26fa126f-0850-4e90-940a-d5b2f80b44fa",
   "metadata": {},
   "outputs": [
    {
     "name": "stdout",
     "output_type": "stream",
     "text": [
      "(36, 4, 9, 16, 25)\n"
     ]
    }
   ],
   "source": [
    "square1=lambda x: x*x\n",
    "num=[6,2,3,4,5]\n",
    "print(tuple(map(square1,num)))"
   ]
  },
  {
   "cell_type": "code",
   "execution_count": 40,
   "id": "cc7702a1-5144-49c0-97c4-60f0a2ef6e3d",
   "metadata": {},
   "outputs": [
    {
     "name": "stdout",
     "output_type": "stream",
     "text": [
      "[36, 4, 9, 16, 25]\n"
     ]
    }
   ],
   "source": [
    "print(list(map(lambda x: x*x,num)))"
   ]
  },
  {
   "cell_type": "code",
   "execution_count": 41,
   "id": "01532f70-b5e5-45f7-9c60-754cb0a502d4",
   "metadata": {},
   "outputs": [
    {
     "name": "stdout",
     "output_type": "stream",
     "text": [
      "[6, 2, 3, 4, 5]\n"
     ]
    }
   ],
   "source": [
    "print(list(filter(lambda x: x*x,num)))"
   ]
  },
  {
   "cell_type": "code",
   "execution_count": 42,
   "id": "ef6abe51-5722-4de9-b2a5-548b7357471c",
   "metadata": {},
   "outputs": [
    {
     "name": "stdout",
     "output_type": "stream",
     "text": [
      "[6, 4, 5]\n"
     ]
    }
   ],
   "source": [
    "print(list(filter(lambda x: x>3,num)))"
   ]
  },
  {
   "cell_type": "markdown",
   "id": "81849557-225c-4159-ae7e-9a6bfdadd9e1",
   "metadata": {},
   "source": [
    "# filter gives the elements in original nums that is able to staisfy the function and not the output itself\n"
   ]
  },
  {
   "cell_type": "code",
   "execution_count": 46,
   "id": "250082b9-4f01-4fc9-908c-3762f3d6fdee",
   "metadata": {},
   "outputs": [
    {
     "name": "stdout",
     "output_type": "stream",
     "text": [
      "['ABHI', 'KRISH', 'SAHIL']\n"
     ]
    }
   ],
   "source": [
    "def toUpperCase(x):\n",
    "    return x.upper()\n",
    "names=['abhi','krish','sahil']\n",
    "print(list(map(toUpperCase,names)))\n"
   ]
  },
  {
   "cell_type": "markdown",
   "id": "8b39234a-0ea8-47db-8503-a17beb3157cc",
   "metadata": {},
   "source": [
    "## cumulative effect by reduce"
   ]
  },
  {
   "cell_type": "code",
   "execution_count": 49,
   "id": "364bac06-7568-4e30-981c-d1a0c66e0bef",
   "metadata": {},
   "outputs": [
    {
     "name": "stdout",
     "output_type": "stream",
     "text": [
      "21\n"
     ]
    }
   ],
   "source": [
    "from functools import reduce\n",
    "num=[1,2,3,4,5,6]\n",
    "print(reduce(lambda x,y:x+y , num))"
   ]
  },
  {
   "cell_type": "code",
   "execution_count": 51,
   "id": "8351384c-9c55-4a18-8ca5-657e4b70d396",
   "metadata": {},
   "outputs": [
    {
     "name": "stdout",
     "output_type": "stream",
     "text": [
      "abhi krish sahil\n"
     ]
    }
   ],
   "source": [
    "print(reduce(lambda x,y:x+\" \"+y , names))"
   ]
  },
  {
   "cell_type": "markdown",
   "id": "0c4800a0-14cb-430a-9da5-8e367798df14",
   "metadata": {},
   "source": [
    "# MAP FILTER AND REDUCE\n",
    "###### ITERATIVELY PASSES ELEMENTS IN THE LIST/TUPLE/ TO A FUCTION BUT MAP GIVES OUTPUT FILTER GIVES SATISFIED INPUT AND REDUCE GIVES CUMULATIVE OUTPUT"
   ]
  },
  {
   "cell_type": "code",
   "execution_count": 1,
   "id": "356f823a-3071-4a63-83c5-1a6bc9fc184c",
   "metadata": {},
   "outputs": [
    {
     "data": {
      "image/png": "[encoded data removed]",
      "text/plain": [
       "<Figure size 1000x600 with 1 Axes>"
      ]
     },
     "metadata": {},
     "output_type": "display_data"
    }
   ],
   "source": [
    "import pandas as pd\n",
    "import matplotlib.pyplot as plt\n",
    "\n",
    "# File path\n",
    "file_path = r\"C:\\Users\\femal\\Downloads\\bquxjob_56694cd_198e47b14ee.csv\"\n",
    "\n",
    "# Load CSV\n",
    "df = pd.read_csv(file_path)\n",
    "\n",
    "# Group by year (in case multiple terms exist per year)\n",
    "yearly_data = df.groupby(\"year\")[\"term_frequency\"].sum().reset_index()\n",
    "\n",
    "# Plot\n",
    "plt.figure(figsize=(10,6))\n",
    "plt.plot(yearly_data[\"year\"], yearly_data[\"term_frequency\"], marker='o', label=\"Total Frequency\")\n",
    "\n",
    "# Format x-axis to show ticks every 10 years\n",
    "plt.xticks(range(yearly_data[\"year\"].min(), yearly_data[\"year\"].max()+1, 10))\n",
    "\n",
    "plt.xlabel(\"Year\")\n",
    "plt.ylabel(\"Term Frequency\")\n",
    "plt.title(\"Term Frequency Over Time (10-Year Intervals)\")\n",
    "plt.legend()\n",
    "plt.grid(True)\n",
    "plt.show()\n"
   ]
  },
  {
   "cell_type": "code",
   "execution_count": null,
   "id": "697b80a6-43d9-42ac-9178-7c77444a3442",
   "metadata": {},
   "outputs": [],
   "source": [
    "import pandas as pd\n",
    "import matplotlib.pyplot as plt\n",
    "\n",
    "# File path\n",
    "file_path = r\"C:\\Users\\femal\\Downloads\\bquxjob_56694cd_198e47b14ee.csv\"\n",
    "\n",
    "# Load CSV\n",
    "df = pd.read_csv(file_path)\n",
    "\n",
    "# Group by year\n",
    "yearly_data = df.groupby(\"year\")[\"term_frequency\"].sum().reset_index()\n",
    "\n",
    "# Filter years between 1800 and 2020\n",
    "yearly_data = yearly_data[(yearly_data[\"year\"] >= 1800) & (yearly_data[\"year\"] <= 2020)]\n",
    "\n",
    "# Plot\n",
    "plt.figure(figsize=(30,10))\n",
    "plt.plot(yearly_data[\"year\"], yearly_data[\"term_frequency\"], marker='o', label=\"Total Frequency\")\n",
    "\n",
    "# Format x-axis to show ticks every 10 years\n",
    "plt.xticks(range(1800, 2021, 10))\n",
    "\n",
    "plt.xlabel(\"Year\")\n",
    "plt.ylabel(\"Term Frequency\")\n",
    "plt.title(\"Term Frequency (1800–2020, 10-Year Intervals)\")\n",
    "plt.legend()\n",
    "plt.grid(True)\n",
    "plt.show()\n"
   ]
  },
  {
   "cell_type": "code",
   "execution_count": null,
   "id": "2ec41fc4-855e-489a-b05b-bcf64ace47bf",
   "metadata": {},
   "outputs": [],
   "source": []
  }
 ],
 "metadata": {
  "kernelspec": {
   "display_name": "Python 3 (ipykernel)",
   "language": "python",
   "name": "python3"
  },
  "language_info": {
   "codemirror_mode": {
    "name": "ipython",
    "version": 3
   },
   "file_extension": ".py",
   "mimetype": "text/x-python",
   "name": "python",
   "nbconvert_exporter": "python",
   "pygments_lexer": "ipython3",
   "version": "3.11.7"
  }
 },
 "nbformat": 4,
 "nbformat_minor": 5
}
