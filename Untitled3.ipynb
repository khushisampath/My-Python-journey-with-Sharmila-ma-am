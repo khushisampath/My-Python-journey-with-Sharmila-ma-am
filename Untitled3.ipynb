{
 "cells": [
  {
   "cell_type": "markdown",
   "id": "2077beb6",
   "metadata": {},
   "source": [
    "# OFF BY ONE BEHAVIOUR+ LIST SLICING"
   ]
  },
  {
   "cell_type": "code",
   "execution_count": 6,
   "id": "fa4df1de",
   "metadata": {},
   "outputs": [],
   "source": [
    "l=[1,2,3,4,5,6,7,8,9,0]\n"
   ]
  },
  {
   "cell_type": "code",
   "execution_count": 7,
   "id": "0ef57eb3",
   "metadata": {},
   "outputs": [
    {
     "data": {
      "text/plain": [
       "[1, 2]"
      ]
     },
     "execution_count": 7,
     "metadata": {},
     "output_type": "execute_result"
    }
   ],
   "source": [
    "l[:2]"
   ]
  },
  {
   "cell_type": "code",
   "execution_count": 2,
   "id": "f490a0e0",
   "metadata": {},
   "outputs": [
    {
     "data": {
      "text/plain": [
       "[9, 0]"
      ]
     },
     "execution_count": 2,
     "metadata": {},
     "output_type": "execute_result"
    }
   ],
   "source": [
    "l[-2:]"
   ]
  },
  {
   "cell_type": "code",
   "execution_count": 3,
   "id": "caa405ee",
   "metadata": {},
   "outputs": [
    {
     "data": {
      "text/plain": [
       "[1, 2, 3, 4, 5, 6, 7, 8]"
      ]
     },
     "execution_count": 3,
     "metadata": {},
     "output_type": "execute_result"
    }
   ],
   "source": [
    "l[:-2]\n"
   ]
  },
  {
   "cell_type": "code",
   "execution_count": 5,
   "id": "a6af9ed2",
   "metadata": {},
   "outputs": [
    {
     "data": {
      "text/plain": [
       "[3, 4, 5, 6, 7, 8, 9, 0]"
      ]
     },
     "execution_count": 5,
     "metadata": {},
     "output_type": "execute_result"
    }
   ],
   "source": [
    "l[2:]"
   ]
  },
  {
   "cell_type": "markdown",
   "id": "788f59a1",
   "metadata": {},
   "source": [
    "# PASSING BY VALUE AND REFERENCE IN PYTHON"
   ]
  },
  {
   "cell_type": "markdown",
   "id": "214c833d",
   "metadata": {},
   "source": [
    "Passing by reference(l3=l1) ,l3 is updated everytime the original list is updated but (l2=l1[:] remains static while it was created"
   ]
  },
  {
   "cell_type": "code",
   "execution_count": 33,
   "id": "25be2788",
   "metadata": {},
   "outputs": [
    {
     "data": {
      "text/plain": [
       "134640514900160"
      ]
     },
     "execution_count": 33,
     "metadata": {},
     "output_type": "execute_result"
    }
   ],
   "source": [
    "l1=['a','b','c']\n",
    "l2=l1[:]#pass by value\n",
    "l3=l1#pass by reference\n",
    "id(l1)"
   ]
  },
  {
   "cell_type": "code",
   "execution_count": 34,
   "id": "cb973eef",
   "metadata": {},
   "outputs": [
    {
     "name": "stdout",
     "output_type": "stream",
     "text": [
      "['a', 'b', 'c']\n"
     ]
    },
    {
     "data": {
      "text/plain": [
       "134640514952256"
      ]
     },
     "execution_count": 34,
     "metadata": {},
     "output_type": "execute_result"
    }
   ],
   "source": [
    "print(l2)\n",
    "id(l2)"
   ]
  },
  {
   "cell_type": "code",
   "execution_count": 35,
   "id": "a49a9101",
   "metadata": {},
   "outputs": [
    {
     "name": "stdout",
     "output_type": "stream",
     "text": [
      "['a', 'b', 'c']\n"
     ]
    },
    {
     "data": {
      "text/plain": [
       "134640514900160"
      ]
     },
     "execution_count": 35,
     "metadata": {},
     "output_type": "execute_result"
    }
   ],
   "source": [
    "print(l3)\n",
    "id(l3)"
   ]
  },
  {
   "cell_type": "code",
   "execution_count": 36,
   "id": "ea40c51a",
   "metadata": {},
   "outputs": [
    {
     "name": "stdout",
     "output_type": "stream",
     "text": [
      "['a', 'b', 'c']\n"
     ]
    }
   ],
   "source": [
    "l4=[]\n",
    "l4=l1\n",
    "print(l4)"
   ]
  },
  {
   "cell_type": "code",
   "execution_count": 37,
   "id": "1785d6fd",
   "metadata": {},
   "outputs": [
    {
     "name": "stdout",
     "output_type": "stream",
     "text": [
      "['a', 'b', 'c', 'd']\n"
     ]
    },
    {
     "data": {
      "text/plain": [
       "134640514900160"
      ]
     },
     "execution_count": 37,
     "metadata": {},
     "output_type": "execute_result"
    }
   ],
   "source": [
    "l1.append('d')#list modified\n",
    "print(l1)\n",
    "id(l1)"
   ]
  },
  {
   "cell_type": "code",
   "execution_count": 38,
   "id": "fa5900fe",
   "metadata": {},
   "outputs": [
    {
     "name": "stdout",
     "output_type": "stream",
     "text": [
      "['a', 'b', 'c', 'd']\n"
     ]
    },
    {
     "data": {
      "text/plain": [
       "134640514900160"
      ]
     },
     "execution_count": 38,
     "metadata": {},
     "output_type": "execute_result"
    }
   ],
   "source": [
    "print(l1)\n",
    "id(l1)"
   ]
  },
  {
   "cell_type": "code",
   "execution_count": 39,
   "id": "045b63cc",
   "metadata": {},
   "outputs": [
    {
     "name": "stdout",
     "output_type": "stream",
     "text": [
      "['a', 'b', 'c']\n"
     ]
    },
    {
     "data": {
      "text/plain": [
       "134640514952256"
      ]
     },
     "execution_count": 39,
     "metadata": {},
     "output_type": "execute_result"
    }
   ],
   "source": [
    "print(l2)#passed by value remaing same\n",
    "id(l2)"
   ]
  },
  {
   "cell_type": "code",
   "execution_count": 30,
   "id": "4fccb7de",
   "metadata": {},
   "outputs": [
    {
     "name": "stdout",
     "output_type": "stream",
     "text": [
      "['a', 'b', 'c', 'd']\n"
     ]
    },
    {
     "data": {
      "text/plain": [
       "134640514682112"
      ]
     },
     "execution_count": 30,
     "metadata": {},
     "output_type": "execute_result"
    }
   ],
   "source": [
    "print(l3)#the one passed by reference is updated\n",
    "id(l3)"
   ]
  },
  {
   "cell_type": "code",
   "execution_count": 40,
   "id": "4c330e70",
   "metadata": {},
   "outputs": [
    {
     "name": "stdout",
     "output_type": "stream",
     "text": [
      "['a', 'b', 'c', 'd']\n"
     ]
    }
   ],
   "source": [
    "print(l4)"
   ]
  },
  {
   "cell_type": "code",
   "execution_count": 50,
   "id": "93a69126",
   "metadata": {},
   "outputs": [
    {
     "ename": "AttributeError",
     "evalue": "'int' object has no attribute 'title'",
     "output_type": "error",
     "traceback": [
      "\u001b[0;31m---------------------------------------------------------------------------\u001b[0m",
      "\u001b[0;31mAttributeError\u001b[0m                            Traceback (most recent call last)",
      "\u001b[0;32m/tmp/ipykernel_4919/2951613395.py\u001b[0m in \u001b[0;36m<module>\u001b[0;34m\u001b[0m\n\u001b[1;32m      1\u001b[0m \u001b[0;32mfor\u001b[0m \u001b[0ma\u001b[0m \u001b[0;32min\u001b[0m \u001b[0ml\u001b[0m\u001b[0;34m[\u001b[0m\u001b[0;34m:\u001b[0m\u001b[0;36m3\u001b[0m\u001b[0;34m]\u001b[0m\u001b[0;34m:\u001b[0m\u001b[0;34m\u001b[0m\u001b[0;34m\u001b[0m\u001b[0m\n\u001b[0;32m----> 2\u001b[0;31m     \u001b[0mprint\u001b[0m\u001b[0;34m(\u001b[0m\u001b[0ma\u001b[0m\u001b[0;34m.\u001b[0m\u001b[0mtitle\u001b[0m\u001b[0;34m)\u001b[0m\u001b[0;31m#'int' object has no attribute 'title'\u001b[0m\u001b[0;34m\u001b[0m\u001b[0;34m\u001b[0m\u001b[0m\n\u001b[0m\u001b[1;32m      3\u001b[0m     \u001b[0mprint\u001b[0m\u001b[0;34m(\u001b[0m\u001b[0ma\u001b[0m\u001b[0;34m)\u001b[0m\u001b[0;34m\u001b[0m\u001b[0;34m\u001b[0m\u001b[0m\n",
      "\u001b[0;31mAttributeError\u001b[0m: 'int' object has no attribute 'title'"
     ]
    }
   ],
   "source": [
    "for a in l[:3]:\n",
    "    print(a.title)#'int' object has no attribute 'title'\n",
    "    print(a)"
   ]
  },
  {
   "cell_type": "code",
   "execution_count": 51,
   "id": "9115715f",
   "metadata": {},
   "outputs": [
    {
     "name": "stdout",
     "output_type": "stream",
     "text": [
      "<built-in method title of str object at 0x7a74747605f0>\n",
      "a\n",
      "<built-in method title of str object at 0x7a7474728870>\n",
      "b\n",
      "<built-in method title of str object at 0x7a7474714c30>\n",
      "c\n"
     ]
    }
   ],
   "source": [
    "for a in l1[:3]:\n",
    "    print(a.title)\n",
    "    print(a)"
   ]
  },
  {
   "cell_type": "code",
   "execution_count": 52,
   "id": "b4b845d4",
   "metadata": {},
   "outputs": [
    {
     "name": "stdout",
     "output_type": "stream",
     "text": [
      "('a', 'b', 'c', 'd')\n"
     ]
    }
   ],
   "source": [
    "t=('a', 'b', 'c', 'd')# tuple has() while list[]\n",
    "print(t)"
   ]
  },
  {
   "cell_type": "code",
   "execution_count": 53,
   "id": "8e30617d",
   "metadata": {},
   "outputs": [
    {
     "name": "stdout",
     "output_type": "stream",
     "text": [
      "<built-in method title of str object at 0x7a74747605f0>\n",
      "a\n",
      "<built-in method title of str object at 0x7a7474728870>\n",
      "b\n",
      "<built-in method title of str object at 0x7a7474714c30>\n",
      "c\n"
     ]
    }
   ],
   "source": [
    "for a in t[:3]:#tuple slicing is possible\n",
    "    print(a.title)\n",
    "    print(a)"
   ]
  },
  {
   "cell_type": "code",
   "execution_count": 54,
   "id": "6a910bd0",
   "metadata": {},
   "outputs": [
    {
     "name": "stdout",
     "output_type": "stream",
     "text": [
      "<built-in method title of str object at 0x7a74747605f0>\n",
      "a\n",
      "<built-in method title of str object at 0x7a7474728870>\n",
      "b\n",
      "<built-in method title of str object at 0x7a7474714c30>\n",
      "c\n",
      "<built-in method title of str object at 0x7a7474714b30>\n",
      "d\n"
     ]
    }
   ],
   "source": [
    "for a in t:\n",
    "    print(a.title)\n",
    "    print(a)"
   ]
  },
  {
   "cell_type": "code",
   "execution_count": 55,
   "id": "6cc88079",
   "metadata": {},
   "outputs": [],
   "source": [
    "i=(100,100)"
   ]
  },
  {
   "cell_type": "code",
   "execution_count": 56,
   "id": "6eedfbf3",
   "metadata": {},
   "outputs": [
    {
     "data": {
      "text/plain": [
       "(100, 100)"
      ]
     },
     "execution_count": 56,
     "metadata": {},
     "output_type": "execute_result"
    }
   ],
   "source": [
    "i"
   ]
  },
  {
   "cell_type": "code",
   "execution_count": 57,
   "id": "5b4d900e",
   "metadata": {},
   "outputs": [
    {
     "ename": "TypeError",
     "evalue": "'tuple' object does not support item assignment",
     "output_type": "error",
     "traceback": [
      "\u001b[0;31m---------------------------------------------------------------------------\u001b[0m",
      "\u001b[0;31mTypeError\u001b[0m                                 Traceback (most recent call last)",
      "\u001b[0;32m/tmp/ipykernel_4919/996176616.py\u001b[0m in \u001b[0;36m<module>\u001b[0;34m\u001b[0m\n\u001b[0;32m----> 1\u001b[0;31m \u001b[0mi\u001b[0m\u001b[0;34m[\u001b[0m\u001b[0;36m0\u001b[0m\u001b[0;34m]\u001b[0m\u001b[0;34m=\u001b[0m\u001b[0;36m200\u001b[0m\u001b[0;34m\u001b[0m\u001b[0;34m\u001b[0m\u001b[0m\n\u001b[0m",
      "\u001b[0;31mTypeError\u001b[0m: 'tuple' object does not support item assignment"
     ]
    }
   ],
   "source": [
    "i[0]=200#immutable but can be resassigned"
   ]
  },
  {
   "cell_type": "code",
   "execution_count": 60,
   "id": "a7f55ead",
   "metadata": {},
   "outputs": [],
   "source": [
    "i=(200,100)#immutable but can be resassigned"
   ]
  },
  {
   "cell_type": "code",
   "execution_count": 61,
   "id": "e393e8a7",
   "metadata": {},
   "outputs": [
    {
     "data": {
      "text/plain": [
       "(200, 100)"
      ]
     },
     "execution_count": 61,
     "metadata": {},
     "output_type": "execute_result"
    }
   ],
   "source": [
    "i"
   ]
  },
  {
   "cell_type": "markdown",
   "id": "d97caa56",
   "metadata": {},
   "source": [
    "# Dictionary"
   ]
  },
  {
   "cell_type": "code",
   "execution_count": 63,
   "id": "27b55685",
   "metadata": {},
   "outputs": [],
   "source": [
    "stud={'regno':'22mic0041','prog':'CS','cgpa':9.3,'attendence':95}"
   ]
  },
  {
   "cell_type": "code",
   "execution_count": 64,
   "id": "9501c982",
   "metadata": {},
   "outputs": [
    {
     "data": {
      "text/plain": [
       "{'regno': '22mic0041', 'prog': 'CS', 'cgpa': 9.3, 'attendence': 95}"
      ]
     },
     "execution_count": 64,
     "metadata": {},
     "output_type": "execute_result"
    }
   ],
   "source": [
    "stud"
   ]
  },
  {
   "cell_type": "code",
   "execution_count": 65,
   "id": "c739fd2c",
   "metadata": {},
   "outputs": [
    {
     "data": {
      "text/plain": [
       "'22mic0041'"
      ]
     },
     "execution_count": 65,
     "metadata": {},
     "output_type": "execute_result"
    }
   ],
   "source": [
    "stud['regno']"
   ]
  },
  {
   "cell_type": "code",
   "execution_count": 66,
   "id": "97744b3e",
   "metadata": {},
   "outputs": [
    {
     "ename": "KeyError",
     "evalue": "0",
     "output_type": "error",
     "traceback": [
      "\u001b[0;31m---------------------------------------------------------------------------\u001b[0m",
      "\u001b[0;31mKeyError\u001b[0m                                  Traceback (most recent call last)",
      "\u001b[0;32m/tmp/ipykernel_4919/1550270983.py\u001b[0m in \u001b[0;36m<module>\u001b[0;34m\u001b[0m\n\u001b[0;32m----> 1\u001b[0;31m \u001b[0mstud\u001b[0m\u001b[0;34m[\u001b[0m\u001b[0;36m0\u001b[0m\u001b[0;34m]\u001b[0m\u001b[0;34m\u001b[0m\u001b[0;34m\u001b[0m\u001b[0m\n\u001b[0m",
      "\u001b[0;31mKeyError\u001b[0m: 0"
     ]
    }
   ],
   "source": [
    "stud[0]"
   ]
  },
  {
   "cell_type": "code",
   "execution_count": null,
   "id": "cac7fc80",
   "metadata": {},
   "outputs": [],
   "source": []
  }
 ],
 "metadata": {
  "kernelspec": {
   "display_name": "Python 3 (ipykernel)",
   "language": "python",
   "name": "python3"
  },
  "language_info": {
   "codemirror_mode": {
    "name": "ipython",
    "version": 3
   },
   "file_extension": ".py",
   "mimetype": "text/x-python",
   "name": "python",
   "nbconvert_exporter": "python",
   "pygments_lexer": "ipython3",
   "version": "3.10.12"
  }
 },
 "nbformat": 4,
 "nbformat_minor": 5
}
